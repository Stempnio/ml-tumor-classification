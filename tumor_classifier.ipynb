{
 "cells": [
  {
   "cell_type": "markdown",
   "id": "2119c223",
   "metadata": {},
   "source": [
    "## About dataset\n",
    "\n",
    "#### https://www.kaggle.com/datasets/masoudnickparvar/brain-tumor-mri-dataset\n",
    "Dataset contains 7022 images of human brain MRI images which are classified into 4 classes: \n",
    "1. glioma \n",
    "2. meningioma\n",
    "3. pituitary\n",
    "4. no tumor\n"
   ]
  },
  {
   "cell_type": "markdown",
   "id": "0c865a50",
   "metadata": {},
   "source": [
    "### 1. Data analysis"
   ]
  },
  {
   "cell_type": "code",
   "execution_count": 1,
   "id": "70831174",
   "metadata": {},
   "outputs": [],
   "source": [
    "import os, os.path\n",
    "import matplotlib.pyplot as plt\n",
    "import numpy as np"
   ]
  },
  {
   "cell_type": "markdown",
   "id": "84550c60",
   "metadata": {},
   "source": [
    "Let's count how many images are in train/test directories"
   ]
  },
  {
   "cell_type": "code",
   "execution_count": 2,
   "id": "d11fbda0",
   "metadata": {},
   "outputs": [],
   "source": [
    "train_dir = \"Training\"\n",
    "test_dir = \"Testing\""
   ]
  },
  {
   "cell_type": "code",
   "execution_count": 3,
   "id": "cde40775",
   "metadata": {},
   "outputs": [],
   "source": [
    "def countClasses(directory):\n",
    "    counts = {}\n",
    "    for path in os.listdir(directory):\n",
    "        dirPath = os.path.join(directory, path)\n",
    "        if os.path.isdir(dirPath):\n",
    "            counts[path] = len([name for name in os.listdir(dirPath) \n",
    "                                if os.path.isfile(os.path.join(dirPath, name))])\n",
    "        \n",
    "    return counts"
   ]
  },
  {
   "cell_type": "code",
   "execution_count": 4,
   "id": "bcd5aaf3",
   "metadata": {},
   "outputs": [
    {
     "name": "stdout",
     "output_type": "stream",
     "text": [
      "{'pituitary': 1457, 'notumor': 1595, 'glioma': 1321, 'meningioma': 1339}\n"
     ]
    }
   ],
   "source": [
    "train_counts = countClasses(train_dir)\n",
    "print(train_counts)"
   ]
  },
  {
   "cell_type": "code",
   "execution_count": 5,
   "id": "dfe9ae4e",
   "metadata": {},
   "outputs": [
    {
     "data": {
      "text/plain": [
       "<BarContainer object of 4 artists>"
      ]
     },
     "execution_count": 5,
     "metadata": {},
     "output_type": "execute_result"
    },
    {
     "data": {
      "image/png": "[encoded data removed]",
      "text/plain": [
       "<Figure size 432x288 with 1 Axes>"
      ]
     },
     "metadata": {
      "needs_background": "light"
     },
     "output_type": "display_data"
    }
   ],
   "source": [
    "plt.bar(train_counts.keys(), train_counts.values())"
   ]
  },
  {
   "cell_type": "code",
   "execution_count": 6,
   "id": "4059689b",
   "metadata": {},
   "outputs": [
    {
     "name": "stdout",
     "output_type": "stream",
     "text": [
      "{'pituitary': 300, 'notumor': 405, 'glioma': 300, 'meningioma': 306}\n"
     ]
    }
   ],
   "source": [
    "test_counts = countClasses(test_dir)\n",
    "print(test_counts)"
   ]
  },
  {
   "cell_type": "code",
   "execution_count": 7,
   "id": "d48cdea6",
   "metadata": {},
   "outputs": [
    {
     "data": {
      "text/plain": [
       "<BarContainer object of 4 artists>"
      ]
     },
     "execution_count": 7,
     "metadata": {},
     "output_type": "execute_result"
    },
    {
     "data": {
      "image/png": "[encoded data removed]",
      "text/plain": [
       "<Figure size 432x288 with 1 Axes>"
      ]
     },
     "metadata": {
      "needs_background": "light"
     },
     "output_type": "display_data"
    }
   ],
   "source": [
    "plt.bar(test_counts.keys(), test_counts.values())"
   ]
  },
  {
   "cell_type": "code",
   "execution_count": 8,
   "id": "cbb6315f",
   "metadata": {},
   "outputs": [
    {
     "name": "stdout",
     "output_type": "stream",
     "text": [
      "Training data:  5712\n",
      "Testing data:  1311\n"
     ]
    }
   ],
   "source": [
    "train_count = sum(train_counts.values())\n",
    "test_count = sum(test_counts.values())\n",
    "print(\"Training data: \",train_count)\n",
    "print(\"Testing data: \", test_count)"
   ]
  },
  {
   "cell_type": "code",
   "execution_count": 9,
   "id": "fd7146ca",
   "metadata": {},
   "outputs": [
    {
     "data": {
      "image/png": "[encoded data removed]",
      "text/plain": [
       "<Figure size 432x288 with 1 Axes>"
      ]
     },
     "metadata": {},
     "output_type": "display_data"
    }
   ],
   "source": [
    "plt.pie([train_count, test_count], \n",
    "        labels = [\"train\", \"test\"],\n",
    "        startangle = 30,\n",
    "        autopct='%.1f%%')\n",
    "\n",
    "plt.show()"
   ]
  },
  {
   "cell_type": "markdown",
   "id": "6c3bcc89",
   "metadata": {},
   "source": [
    "### 2. Data preprocessing "
   ]
  },
  {
   "cell_type": "code",
   "execution_count": 10,
   "id": "262e8b33",
   "metadata": {},
   "outputs": [],
   "source": [
    "import tensorflow as tf\n",
    "from tensorflow.keras.utils import image_dataset_from_directory\n",
    "from tensorflow import keras\n",
    "\n",
    "batch_size = 32\n",
    "img_height = 180\n",
    "img_width = 180"
   ]
  },
  {
   "cell_type": "markdown",
   "id": "61b58353",
   "metadata": {},
   "source": [
    "Let's use 10% of training data as validation set.\n",
    "Each image is going to be resized to 180x180 pixels"
   ]
  },
  {
   "cell_type": "code",
   "execution_count": 11,
   "id": "301ff876",
   "metadata": {},
   "outputs": [
    {
     "name": "stdout",
     "output_type": "stream",
     "text": [
      "Found 5712 files belonging to 4 classes.\n",
      "Using 5141 files for training.\n",
      "Metal device set to: Apple M1\n"
     ]
    },
    {
     "name": "stderr",
     "output_type": "stream",
     "text": [
      "2022-06-06 13:12:21.046423: I tensorflow/core/common_runtime/pluggable_device/pluggable_device_factory.cc:305] Could not identify NUMA node of platform GPU ID 0, defaulting to 0. Your kernel may not have been built with NUMA support.\n",
      "2022-06-06 13:12:21.046522: I tensorflow/core/common_runtime/pluggable_device/pluggable_device_factory.cc:271] Created TensorFlow device (/job:localhost/replica:0/task:0/device:GPU:0 with 0 MB memory) -> physical PluggableDevice (device: 0, name: METAL, pci bus id: <undefined>)\n"
     ]
    }
   ],
   "source": [
    "train_ds = image_dataset_from_directory(\n",
    "  \"Training/\",\n",
    "  validation_split=0.1,\n",
    "  subset=\"training\",\n",
    "  seed=123,\n",
    "  image_size=(img_height, img_width),\n",
    "  batch_size=batch_size)"
   ]
  },
  {
   "cell_type": "code",
   "execution_count": 12,
   "id": "d0d6a9ed",
   "metadata": {},
   "outputs": [
    {
     "name": "stdout",
     "output_type": "stream",
     "text": [
      "Found 5712 files belonging to 4 classes.\n",
      "Using 571 files for validation.\n"
     ]
    }
   ],
   "source": [
    "val_ds = image_dataset_from_directory(\n",
    "  \"Training/\",\n",
    "  validation_split=0.1,\n",
    "  subset=\"validation\",\n",
    "  seed=123,\n",
    "  image_size=(img_height, img_width),\n",
    "  batch_size=batch_size)"
   ]
  },
  {
   "cell_type": "markdown",
   "id": "e0717201",
   "metadata": {},
   "source": [
    "As expected in single batch there are 32 images of 180x180 size"
   ]
  },
  {
   "cell_type": "code",
   "execution_count": 13,
   "id": "d7b9527d",
   "metadata": {},
   "outputs": [
    {
     "name": "stderr",
     "output_type": "stream",
     "text": [
      "2022-06-06 13:12:21.230292: W tensorflow/core/platform/profile_utils/cpu_utils.cc:128] Failed to get CPU frequency: 0 Hz\n"
     ]
    },
    {
     "name": "stdout",
     "output_type": "stream",
     "text": [
      "(32, 180, 180, 3)\n",
      "(32,)\n"
     ]
    }
   ],
   "source": [
    "for image_batch, labels_batch in train_ds:\n",
    "    print(image_batch.shape)\n",
    "    print(labels_batch.shape)\n",
    "    break"
   ]
  },
  {
   "cell_type": "code",
   "execution_count": 14,
   "id": "d3197d24",
   "metadata": {},
   "outputs": [],
   "source": [
    "import tensorflow as tf\n",
    "from tensorflow import keras\n",
    "from keras.layers import *"
   ]
  },
  {
   "cell_type": "markdown",
   "id": "cc442998",
   "metadata": {},
   "source": [
    "The RGB values are in range of [0,255]. Let's rescale that to [0,1] range"
   ]
  },
  {
   "cell_type": "code",
   "execution_count": 15,
   "id": "2a64faeb",
   "metadata": {},
   "outputs": [],
   "source": [
    "resize_and_rescale = tf.keras.Sequential([\n",
    "  Resizing(img_height, img_width, input_shape=(img_height, img_width, 3)),\n",
    "  Rescaling(1./255)\n",
    "])"
   ]
  },
  {
   "cell_type": "markdown",
   "id": "814a6832",
   "metadata": {},
   "source": [
    "We're going to save only the best model.\n",
    "To avoid overfitting, training is ended if validation accuracy is not improving in 10 epochs "
   ]
  },
  {
   "cell_type": "code",
   "execution_count": 16,
   "id": "3bf6d506",
   "metadata": {},
   "outputs": [],
   "source": [
    "from keras import callbacks\n",
    "\n",
    "TRAINED_MODEL_DIR = \"trained_models/\"\n",
    "\n",
    "model_name = TRAINED_MODEL_DIR + \"model-acc-{val_accuracy:.4f}-loss-{val_loss:.4f}.hdf5\"\n",
    "\n",
    "if not os.path.exists(TRAINED_MODEL_DIR):\n",
    "    os.makedirs(TRAINED_MODEL_DIR)"
   ]
  },
  {
   "cell_type": "code",
   "execution_count": 17,
   "id": "dda45238",
   "metadata": {},
   "outputs": [],
   "source": [
    "def create_callbacks():\n",
    "    return [\n",
    "        callbacks.EarlyStopping(monitor=\"val_loss\", patience=10, verbose=1),\n",
    "\n",
    "        callbacks.ModelCheckpoint(model_name, monitor=\"val_loss\", \n",
    "                                  verbose=1, save_best_only=True),\n",
    "    ]"
   ]
  },
  {
   "cell_type": "markdown",
   "id": "091d6f45",
   "metadata": {},
   "source": [
    "### 3. Creating and training models"
   ]
  },
  {
   "cell_type": "markdown",
   "id": "f210fc40",
   "metadata": {},
   "source": [
    "### SVM\n",
    "\n",
    "#### Kernels:\n",
    "* RBF (Radial basis function)\n",
    "* Polynomial\n",
    "* Linear"
   ]
  },
  {
   "cell_type": "markdown",
   "id": "f2a6a25b",
   "metadata": {},
   "source": [
    "Unfortunately, for svm we can't use tensorflow datasets, therefore we have to load data manually"
   ]
  },
  {
   "cell_type": "code",
   "execution_count": 18,
   "id": "470df8c9",
   "metadata": {},
   "outputs": [],
   "source": [
    "labels = [\n",
    "    \"glioma\",\n",
    "    \"meningioma\",\n",
    "    \"notumor\",\n",
    "    \"pituitary\"\n",
    "]"
   ]
  },
  {
   "cell_type": "code",
   "execution_count": 19,
   "id": "2f2374cb",
   "metadata": {},
   "outputs": [],
   "source": [
    "import pandas as pd\n",
    "import os\n",
    "from skimage.transform import resize\n",
    "from skimage.io import imread\n",
    "import numpy as np\n",
    "import matplotlib.pyplot as plt\n",
    "\n",
    "def loadImages(path):\n",
    "    flat_data_arr=[]\n",
    "    target_arr=[]\n",
    "    datadir=path\n",
    "    for i in labels:\n",
    "        path=os.path.join(datadir,i)\n",
    "        for img in os.listdir(path):\n",
    "            img_array=imread(os.path.join(path,img))\n",
    "            img_resized=resize(img_array,(50,50,3))\n",
    "            flat_data_arr.append(img_resized.flatten())\n",
    "            target_arr.append(labels.index(i))\n",
    "        print(f'loaded category:{i} successfully')\n",
    "\n",
    "    flat_data=np.array(flat_data_arr)\n",
    "    target=np.array(target_arr)\n",
    "    df=pd.DataFrame(flat_data)\n",
    "    df['Target']=target\n",
    "    x=df.iloc[:,:-1]\n",
    "    y=df.iloc[:,-1]\n",
    "    \n",
    "    return (x, y)"
   ]
  },
  {
   "cell_type": "code",
   "execution_count": 21,
   "id": "8f2a16b3",
   "metadata": {},
   "outputs": [
    {
     "name": "stdout",
     "output_type": "stream",
     "text": [
      "loaded category:glioma successfully\n",
      "loaded category:meningioma successfully\n",
      "loaded category:notumor successfully\n",
      "loaded category:pituitary successfully\n"
     ]
    }
   ],
   "source": [
    "x_train, y_train = loadImages(\"Training\")"
   ]
  },
  {
   "cell_type": "code",
   "execution_count": 22,
   "id": "a2ae4b8b",
   "metadata": {},
   "outputs": [
    {
     "name": "stdout",
     "output_type": "stream",
     "text": [
      "loaded category:glioma successfully\n",
      "loaded category:meningioma successfully\n",
      "loaded category:notumor successfully\n",
      "loaded category:pituitary successfully\n"
     ]
    }
   ],
   "source": [
    "x_test, y_test = loadImages(\"Testing\")"
   ]
  },
  {
   "cell_type": "code",
   "execution_count": 24,
   "id": "6436d241",
   "metadata": {},
   "outputs": [
    {
     "data": {
      "text/plain": [
       "{'classifier__C': 0.8677297284465021, 'classifier__gamma': 0.5201571989678568}"
      ]
     },
     "execution_count": 24,
     "metadata": {},
     "output_type": "execute_result"
    }
   ],
   "source": [
    "from sklearn.pipeline import Pipeline\n",
    "from sklearn.preprocessing import StandardScaler\n",
    "from sklearn.svm import SVC\n",
    "from sklearn.model_selection import RandomizedSearchCV\n",
    "from scipy.stats.distributions import uniform, randint\n",
    "\n",
    "pipe = Pipeline([('preprocessing', StandardScaler()), \n",
    "                 ('classifier', SVC(kernel=\"rbf\"))])\n",
    "\n",
    "param_distribution = {\n",
    "    'classifier__C': uniform(0.001, 1),\n",
    "    'classifier__gamma': uniform(0.001,1)\n",
    "}\n",
    "\n",
    "rand1 = RandomizedSearchCV(pipe,\n",
    "                           param_distributions=param_distribution)\n",
    "\n",
    "rand1.fit(x_train, y_train)\n",
    "rand1.best_params_"
   ]
  },
  {
   "cell_type": "code",
   "execution_count": 25,
   "id": "3664f401",
   "metadata": {},
   "outputs": [
    {
     "data": {
      "text/plain": [
       "{'classifier__C': 97, 'classifier__coef0': 0, 'classifier__degree': 3}"
      ]
     },
     "execution_count": 25,
     "metadata": {},
     "output_type": "execute_result"
    }
   ],
   "source": [
    "pipe = Pipeline([('preprocessing', StandardScaler()), \n",
    "                 ('classifier', SVC(kernel=\"poly\"))])\n",
    "\n",
    "param_distribution2 = {\n",
    "    'classifier__degree': randint(1,6),\n",
    "    'classifier__coef0': randint(0,1),\n",
    "    'classifier__C': randint(1,100),\n",
    "}\n",
    "\n",
    "rand2 = RandomizedSearchCV(pipe,\n",
    "                           param_distributions=param_distribution2,\n",
    "                           n_iter=5)\n",
    "\n",
    "rand2.fit(x_train, y_train)\n",
    "rand2.best_params_"
   ]
  },
  {
   "cell_type": "code",
   "execution_count": 31,
   "id": "4c3f388e",
   "metadata": {},
   "outputs": [
    {
     "data": {
      "text/plain": [
       "{'classifier__C': 0.01}"
      ]
     },
     "execution_count": 31,
     "metadata": {},
     "output_type": "execute_result"
    }
   ],
   "source": [
    "from sklearn.model_selection import GridSearchCV\n",
    "from sklearn.model_selection import StratifiedKFold\n",
    "\n",
    "kfold = StratifiedKFold(n_splits=5, shuffle=True)\n",
    "\n",
    "pipe = Pipeline([('preprocessing', StandardScaler()), \n",
    "                 ('classifier', SVC(kernel=\"linear\"))])\n",
    "\n",
    "param_grid = {\n",
    "    'classifier__C': [0.00001, 0.0001, 0.01, 0.1]\n",
    "}\n",
    "\n",
    "grid = GridSearchCV(pipe, \n",
    "                      param_grid, \n",
    "                      cv=kfold, \n",
    "                      return_train_score=True)\n",
    "\n",
    "grid.fit(x_train, y_train)\n",
    "grid.best_params_"
   ]
  },
  {
   "cell_type": "code",
   "execution_count": 36,
   "id": "7659543f",
   "metadata": {},
   "outputs": [
    {
     "name": "stderr",
     "output_type": "stream",
     "text": [
      "/Users/jakubstepien/miniforge3/envs/env_tf/lib/python3.9/site-packages/sklearn/metrics/_classification.py:1318: UndefinedMetricWarning: Precision is ill-defined and being set to 0.0 in labels with no predicted samples. Use `zero_division` parameter to control this behavior.\n",
      "  _warn_prf(average, modifier, msg_start, len(result))\n"
     ]
    }
   ],
   "source": [
    "from sklearn import metrics\n",
    "import matplotlib.pyplot as plt\n",
    "\n",
    "models = []\n",
    "models.append(('SVM rbf', rand1.best_estimator_))\n",
    "models.append(('SVM poly', rand2.best_estimator_))\n",
    "models.append(('SVM linear', grid.best_estimator_))\n",
    "\n",
    "precision_score = []\n",
    "recall_score = []\n",
    "f1_score = []\n",
    "accuracy_score = []\n",
    "for name, model in models:\n",
    "    prediction = model.predict(x_test)\n",
    "    precision_score.append(metrics.precision_score(y_test, prediction, average='weighted'))\n",
    "    recall_score.append(metrics.recall_score(y_test, prediction, average='weighted'))\n",
    "    f1_score.append( metrics.f1_score(y_test, prediction, average='weighted'))\n",
    "    accuracy_score.append(metrics.accuracy_score(y_test, prediction))"
   ]
  },
  {
   "cell_type": "code",
   "execution_count": 37,
   "id": "fa2e3276",
   "metadata": {},
   "outputs": [
    {
     "data": {
      "text/html": [
       "<div>\n",
       "<style scoped>\n",
       "    .dataframe tbody tr th:only-of-type {\n",
       "        vertical-align: middle;\n",
       "    }\n",
       "\n",
       "    .dataframe tbody tr th {\n",
       "        vertical-align: top;\n",
       "    }\n",
       "\n",
       "    .dataframe thead th {\n",
       "        text-align: right;\n",
       "    }\n",
       "</style>\n",
       "<table border=\"1\" class=\"dataframe\">\n",
       "  <thead>\n",
       "    <tr style=\"text-align: right;\">\n",
       "      <th></th>\n",
       "      <th>Method</th>\n",
       "      <th>precision_score</th>\n",
       "      <th>recall_score</th>\n",
       "      <th>f1_score</th>\n",
       "      <th>accuracy_score</th>\n",
       "    </tr>\n",
       "  </thead>\n",
       "  <tbody>\n",
       "    <tr>\n",
       "      <th>0</th>\n",
       "      <td>SVM rbf</td>\n",
       "      <td>0.613994</td>\n",
       "      <td>0.498093</td>\n",
       "      <td>0.463308</td>\n",
       "      <td>0.498093</td>\n",
       "    </tr>\n",
       "    <tr>\n",
       "      <th>1</th>\n",
       "      <td>SVM poly</td>\n",
       "      <td>0.971642</td>\n",
       "      <td>0.971777</td>\n",
       "      <td>0.971631</td>\n",
       "      <td>0.971777</td>\n",
       "    </tr>\n",
       "    <tr>\n",
       "      <th>2</th>\n",
       "      <td>SVM linear</td>\n",
       "      <td>0.916021</td>\n",
       "      <td>0.916857</td>\n",
       "      <td>0.916374</td>\n",
       "      <td>0.916857</td>\n",
       "    </tr>\n",
       "  </tbody>\n",
       "</table>\n",
       "</div>"
      ],
      "text/plain": [
       "       Method  precision_score  recall_score  f1_score  accuracy_score\n",
       "0     SVM rbf         0.613994      0.498093  0.463308        0.498093\n",
       "1    SVM poly         0.971642      0.971777  0.971631        0.971777\n",
       "2  SVM linear         0.916021      0.916857  0.916374        0.916857"
      ]
     },
     "execution_count": 37,
     "metadata": {},
     "output_type": "execute_result"
    }
   ],
   "source": [
    "import pandas as pd\n",
    "d = {'precision_score': precision_score, \n",
    "     'recall_score': recall_score, \n",
    "     'f1_score': f1_score,\n",
    "     'accuracy_score' : accuracy_score\n",
    "    }\n",
    "df = pd.DataFrame(data=d)\n",
    "df.insert(loc=0, column='Method', value=['SVM rbf','SVM poly', 'SVM linear'])\n",
    "df"
   ]
  },
  {
   "cell_type": "markdown",
   "id": "3b5dc52c",
   "metadata": {},
   "source": [
    "Let's export svm models"
   ]
  },
  {
   "cell_type": "code",
   "execution_count": 38,
   "id": "a2a84347",
   "metadata": {},
   "outputs": [
    {
     "data": {
      "text/plain": [
       "['trained_models/svm_linear.joblib']"
      ]
     },
     "execution_count": 38,
     "metadata": {},
     "output_type": "execute_result"
    }
   ],
   "source": [
    "import joblib\n",
    "\n",
    "joblib.dump(rand1.best_estimator_, 'trained_models/svm_rbf.joblib')\n",
    "joblib.dump(rand2.best_estimator_, 'trained_models/svm_poly.joblib')\n",
    "joblib.dump(grid.best_estimator_, 'trained_models/svm_linear.joblib')"
   ]
  },
  {
   "cell_type": "markdown",
   "id": "33cb3f61",
   "metadata": {},
   "source": [
    "### Neural networks"
   ]
  },
  {
   "cell_type": "markdown",
   "id": "073612fa",
   "metadata": {},
   "source": [
    "First, let's create simple network with one Dense layer"
   ]
  },
  {
   "cell_type": "code",
   "execution_count": 399,
   "id": "6c40aee3",
   "metadata": {},
   "outputs": [],
   "source": [
    "import numpy as np\n",
    "from keras import Sequential\n",
    "from keras import optimizers\n",
    "\n",
    "num_classes = 4\n",
    "\n",
    "modelFlatten = Sequential([\n",
    "    resize_and_rescale,\n",
    "    Flatten(),\n",
    "    Dense(num_classes),\n",
    "    Activation(\"softmax\")\n",
    "])\n",
    "\n",
    "modelFlatten.compile(\n",
    "  optimizer='adam',\n",
    "  loss=\"SparseCategoricalCrossentropy\",\n",
    "  metrics=['accuracy'])"
   ]
  },
  {
   "cell_type": "code",
   "execution_count": 400,
   "id": "31c9f5c3",
   "metadata": {},
   "outputs": [
    {
     "name": "stdout",
     "output_type": "stream",
     "text": [
      "Model: \"sequential_6\"\n",
      "_________________________________________________________________\n",
      " Layer (type)                Output Shape              Param #   \n",
      "=================================================================\n",
      " sequential_5 (Sequential)   (None, 180, 180, 3)       0         \n",
      "                                                                 \n",
      " flatten_4 (Flatten)         (None, 97200)             0         \n",
      "                                                                 \n",
      " dense_6 (Dense)             (None, 4)                 388804    \n",
      "                                                                 \n",
      " activation_19 (Activation)  (None, 4)                 0         \n",
      "                                                                 \n",
      "=================================================================\n",
      "Total params: 388,804\n",
      "Trainable params: 388,804\n",
      "Non-trainable params: 0\n",
      "_________________________________________________________________\n"
     ]
    }
   ],
   "source": [
    "modelFlatten.summary()"
   ]
  },
  {
   "cell_type": "code",
   "execution_count": 401,
   "id": "798286dc",
   "metadata": {
    "scrolled": true
   },
   "outputs": [
    {
     "name": "stdout",
     "output_type": "stream",
     "text": [
      "Epoch 1/30\n",
      "  1/161 [..............................] - ETA: 41s - loss: 1.4673 - accuracy: 0.2188"
     ]
    },
    {
     "name": "stderr",
     "output_type": "stream",
     "text": [
      "2022-06-01 10:04:33.808390: I tensorflow/core/grappler/optimizers/custom_graph_optimizer_registry.cc:112] Plugin optimizer for device_type GPU is enabled.\n"
     ]
    },
    {
     "name": "stdout",
     "output_type": "stream",
     "text": [
      "161/161 [==============================] - ETA: 0s - loss: 1.7138 - accuracy: 0.6347"
     ]
    },
    {
     "name": "stderr",
     "output_type": "stream",
     "text": [
      "2022-06-01 10:04:37.387485: I tensorflow/core/grappler/optimizers/custom_graph_optimizer_registry.cc:112] Plugin optimizer for device_type GPU is enabled.\n"
     ]
    },
    {
     "name": "stdout",
     "output_type": "stream",
     "text": [
      "\n",
      "Epoch 00001: val_loss improved from inf to 1.32137, saving model to trained_models/model-acc-0.7128-loss-1.3214.hdf5\n",
      "161/161 [==============================] - 4s 25ms/step - loss: 1.7138 - accuracy: 0.6347 - val_loss: 1.3214 - val_accuracy: 0.7128\n",
      "Epoch 2/30\n",
      "161/161 [==============================] - ETA: 0s - loss: 1.1036 - accuracy: 0.7360\n",
      "Epoch 00002: val_loss improved from 1.32137 to 0.77474, saving model to trained_models/model-acc-0.8109-loss-0.7747.hdf5\n",
      "161/161 [==============================] - 3s 21ms/step - loss: 1.1036 - accuracy: 0.7360 - val_loss: 0.7747 - val_accuracy: 0.8109\n",
      "Epoch 3/30\n",
      "161/161 [==============================] - ETA: 0s - loss: 0.9100 - accuracy: 0.7751\n",
      "Epoch 00003: val_loss did not improve from 0.77474\n",
      "161/161 [==============================] - 3s 21ms/step - loss: 0.9100 - accuracy: 0.7751 - val_loss: 1.0535 - val_accuracy: 0.7741\n",
      "Epoch 4/30\n",
      "158/161 [============================>.] - ETA: 0s - loss: 0.6889 - accuracy: 0.8303\n",
      "Epoch 00004: val_loss did not improve from 0.77474\n",
      "161/161 [==============================] - 4s 22ms/step - loss: 0.7012 - accuracy: 0.8290 - val_loss: 0.8175 - val_accuracy: 0.8214\n",
      "Epoch 5/30\n",
      "160/161 [============================>.] - ETA: 0s - loss: 0.5305 - accuracy: 0.8479\n",
      "Epoch 00005: val_loss did not improve from 0.77474\n",
      "161/161 [==============================] - 4s 22ms/step - loss: 0.5290 - accuracy: 0.8483 - val_loss: 1.0363 - val_accuracy: 0.8109\n",
      "Epoch 6/30\n",
      "161/161 [==============================] - ETA: 0s - loss: 0.4139 - accuracy: 0.8693\n",
      "Epoch 00006: val_loss did not improve from 0.77474\n",
      "161/161 [==============================] - 4s 22ms/step - loss: 0.4139 - accuracy: 0.8693 - val_loss: 0.9710 - val_accuracy: 0.8319\n",
      "Epoch 7/30\n",
      "159/161 [============================>.] - ETA: 0s - loss: 0.6228 - accuracy: 0.8418\n",
      "Epoch 00007: val_loss did not improve from 0.77474\n",
      "161/161 [==============================] - 3s 21ms/step - loss: 0.6253 - accuracy: 0.8417 - val_loss: 0.9968 - val_accuracy: 0.8214\n",
      "Epoch 8/30\n",
      "161/161 [==============================] - ETA: 0s - loss: 0.5306 - accuracy: 0.8613\n",
      "Epoch 00008: val_loss did not improve from 0.77474\n",
      "161/161 [==============================] - 3s 20ms/step - loss: 0.5306 - accuracy: 0.8613 - val_loss: 0.8946 - val_accuracy: 0.8056\n",
      "Epoch 9/30\n",
      "161/161 [==============================] - ETA: 0s - loss: 0.2842 - accuracy: 0.9082\n",
      "Epoch 00009: val_loss did not improve from 0.77474\n",
      "161/161 [==============================] - 3s 19ms/step - loss: 0.2842 - accuracy: 0.9082 - val_loss: 0.8001 - val_accuracy: 0.8424\n",
      "Epoch 10/30\n",
      "159/161 [============================>.] - ETA: 0s - loss: 0.4168 - accuracy: 0.8864\n",
      "Epoch 00010: val_loss did not improve from 0.77474\n",
      "161/161 [==============================] - 3s 21ms/step - loss: 0.4143 - accuracy: 0.8868 - val_loss: 1.2817 - val_accuracy: 0.7898\n",
      "Epoch 11/30\n",
      "161/161 [==============================] - ETA: 0s - loss: 0.2803 - accuracy: 0.9101\n",
      "Epoch 00011: val_loss did not improve from 0.77474\n",
      "161/161 [==============================] - 3s 20ms/step - loss: 0.2803 - accuracy: 0.9101 - val_loss: 1.0603 - val_accuracy: 0.8109\n",
      "Epoch 12/30\n",
      "160/161 [============================>.] - ETA: 0s - loss: 0.2321 - accuracy: 0.9279\n",
      "Epoch 00012: val_loss did not improve from 0.77474\n",
      "161/161 [==============================] - 3s 20ms/step - loss: 0.2332 - accuracy: 0.9274 - val_loss: 1.7164 - val_accuracy: 0.7285\n",
      "Epoch 00012: early stopping\n"
     ]
    }
   ],
   "source": [
    "from keras.callbacks import History\n",
    "\n",
    "history = modelFlatten.fit(\n",
    "    train_ds,\n",
    "    validation_data=val_ds,\n",
    "    epochs=30,\n",
    "    callbacks=create_callbacks(),\n",
    "    shuffle=True\n",
    ")"
   ]
  },
  {
   "cell_type": "code",
   "execution_count": 402,
   "id": "e6a0e407",
   "metadata": {
    "scrolled": true
   },
   "outputs": [
    {
     "data": {
      "image/png": "[encoded data removed]",
      "text/plain": [
       "<Figure size 576x360 with 1 Axes>"
      ]
     },
     "metadata": {
      "needs_background": "light"
     },
     "output_type": "display_data"
    }
   ],
   "source": [
    "import pandas as pd\n",
    "\n",
    "pd.DataFrame(history.history).plot(figsize=(8, 5))\n",
    "plt.grid(True)\n",
    "plt.gca().set_ylim(0, 2)\n",
    "plt.show()"
   ]
  },
  {
   "cell_type": "markdown",
   "id": "6be728ad",
   "metadata": {},
   "source": [
    "#### Deep neural networks"
   ]
  },
  {
   "cell_type": "code",
   "execution_count": 403,
   "id": "e6351c78",
   "metadata": {},
   "outputs": [],
   "source": [
    "modelFlattenBatchNormalization = Sequential([\n",
    "    resize_and_rescale,\n",
    "    Flatten(),\n",
    "    BatchNormalization(),\n",
    "    Activation(\"relu\"),\n",
    "    Dropout(0.3),\n",
    "    \n",
    "    Dense(300, activation=\"relu\"),\n",
    "    BatchNormalization(),\n",
    "    Activation(\"relu\"),\n",
    "    Dropout(0.3),\n",
    "    \n",
    "    Dense(100, activation=\"relu\"),\n",
    "    BatchNormalization(),\n",
    "    Activation(\"relu\"),\n",
    "    Dropout(0.3),\n",
    "    \n",
    "    Dense(num_classes),\n",
    "    Activation(\"softmax\")\n",
    "])"
   ]
  },
  {
   "cell_type": "code",
   "execution_count": 404,
   "id": "378644c7",
   "metadata": {},
   "outputs": [],
   "source": [
    "modelFlattenBatchNormalization.compile(\n",
    "  optimizer='adam',\n",
    "  loss=\"SparseCategoricalCrossentropy\",\n",
    "  metrics=['accuracy'])"
   ]
  },
  {
   "cell_type": "code",
   "execution_count": 405,
   "id": "0e34cc2a",
   "metadata": {},
   "outputs": [
    {
     "name": "stdout",
     "output_type": "stream",
     "text": [
      "Model: \"sequential_7\"\n",
      "_________________________________________________________________\n",
      " Layer (type)                Output Shape              Param #   \n",
      "=================================================================\n",
      " sequential_5 (Sequential)   (None, 180, 180, 3)       0         \n",
      "                                                                 \n",
      " flatten_5 (Flatten)         (None, 97200)             0         \n",
      "                                                                 \n",
      " batch_normalization_15 (Bat  (None, 97200)            388800    \n",
      " chNormalization)                                                \n",
      "                                                                 \n",
      " activation_20 (Activation)  (None, 97200)             0         \n",
      "                                                                 \n",
      " dropout_15 (Dropout)        (None, 97200)             0         \n",
      "                                                                 \n",
      " dense_7 (Dense)             (None, 300)               29160300  \n",
      "                                                                 \n",
      " batch_normalization_16 (Bat  (None, 300)              1200      \n",
      " chNormalization)                                                \n",
      "                                                                 \n",
      " activation_21 (Activation)  (None, 300)               0         \n",
      "                                                                 \n",
      " dropout_16 (Dropout)        (None, 300)               0         \n",
      "                                                                 \n",
      " dense_8 (Dense)             (None, 100)               30100     \n",
      "                                                                 \n",
      " batch_normalization_17 (Bat  (None, 100)              400       \n",
      " chNormalization)                                                \n",
      "                                                                 \n",
      " activation_22 (Activation)  (None, 100)               0         \n",
      "                                                                 \n",
      " dropout_17 (Dropout)        (None, 100)               0         \n",
      "                                                                 \n",
      " dense_9 (Dense)             (None, 4)                 404       \n",
      "                                                                 \n",
      " activation_23 (Activation)  (None, 4)                 0         \n",
      "                                                                 \n",
      "=================================================================\n",
      "Total params: 29,581,204\n",
      "Trainable params: 29,386,004\n",
      "Non-trainable params: 195,200\n",
      "_________________________________________________________________\n"
     ]
    }
   ],
   "source": [
    "modelFlattenBatchNormalization.summary()"
   ]
  },
  {
   "cell_type": "code",
   "execution_count": 406,
   "id": "c0bee07b",
   "metadata": {
    "scrolled": true
   },
   "outputs": [
    {
     "name": "stdout",
     "output_type": "stream",
     "text": [
      "Epoch 1/30\n"
     ]
    },
    {
     "name": "stderr",
     "output_type": "stream",
     "text": [
      "2022-06-01 10:05:15.876386: I tensorflow/core/grappler/optimizers/custom_graph_optimizer_registry.cc:112] Plugin optimizer for device_type GPU is enabled.\n"
     ]
    },
    {
     "name": "stdout",
     "output_type": "stream",
     "text": [
      "161/161 [==============================] - ETA: 0s - loss: 0.8831 - accuracy: 0.6724"
     ]
    },
    {
     "name": "stderr",
     "output_type": "stream",
     "text": [
      "2022-06-01 10:05:29.866675: I tensorflow/core/grappler/optimizers/custom_graph_optimizer_registry.cc:112] Plugin optimizer for device_type GPU is enabled.\n"
     ]
    },
    {
     "name": "stdout",
     "output_type": "stream",
     "text": [
      "\n",
      "Epoch 00001: val_loss improved from inf to 1.09091, saving model to trained_models/model-acc-0.6252-loss-1.0909.hdf5\n",
      "161/161 [==============================] - 16s 92ms/step - loss: 0.8831 - accuracy: 0.6724 - val_loss: 1.0909 - val_accuracy: 0.6252\n",
      "Epoch 2/30\n",
      "161/161 [==============================] - ETA: 0s - loss: 0.5846 - accuracy: 0.7926\n",
      "Epoch 00002: val_loss improved from 1.09091 to 0.75799, saving model to trained_models/model-acc-0.7688-loss-0.7580.hdf5\n",
      "161/161 [==============================] - 14s 89ms/step - loss: 0.5846 - accuracy: 0.7926 - val_loss: 0.7580 - val_accuracy: 0.7688\n",
      "Epoch 3/30\n",
      "161/161 [==============================] - ETA: 0s - loss: 0.4630 - accuracy: 0.8362\n",
      "Epoch 00003: val_loss improved from 0.75799 to 0.47333, saving model to trained_models/model-acc-0.8546-loss-0.4733.hdf5\n",
      "161/161 [==============================] - 14s 88ms/step - loss: 0.4630 - accuracy: 0.8362 - val_loss: 0.4733 - val_accuracy: 0.8546\n",
      "Epoch 4/30\n",
      "161/161 [==============================] - ETA: 0s - loss: 0.3980 - accuracy: 0.8580\n",
      "Epoch 00004: val_loss improved from 0.47333 to 0.42305, saving model to trained_models/model-acc-0.8599-loss-0.4230.hdf5\n",
      "161/161 [==============================] - 14s 88ms/step - loss: 0.3980 - accuracy: 0.8580 - val_loss: 0.4230 - val_accuracy: 0.8599\n",
      "Epoch 5/30\n",
      "161/161 [==============================] - ETA: 0s - loss: 0.3197 - accuracy: 0.8862\n",
      "Epoch 00005: val_loss improved from 0.42305 to 0.37121, saving model to trained_models/model-acc-0.8809-loss-0.3712.hdf5\n",
      "161/161 [==============================] - 15s 95ms/step - loss: 0.3197 - accuracy: 0.8862 - val_loss: 0.3712 - val_accuracy: 0.8809\n",
      "Epoch 6/30\n",
      "161/161 [==============================] - ETA: 0s - loss: 0.2671 - accuracy: 0.9037\n",
      "Epoch 00006: val_loss improved from 0.37121 to 0.33824, saving model to trained_models/model-acc-0.8809-loss-0.3382.hdf5\n",
      "161/161 [==============================] - 14s 88ms/step - loss: 0.2671 - accuracy: 0.9037 - val_loss: 0.3382 - val_accuracy: 0.8809\n",
      "Epoch 7/30\n",
      "161/161 [==============================] - ETA: 0s - loss: 0.2525 - accuracy: 0.9136\n",
      "Epoch 00007: val_loss improved from 0.33824 to 0.31199, saving model to trained_models/model-acc-0.8967-loss-0.3120.hdf5\n",
      "161/161 [==============================] - 14s 89ms/step - loss: 0.2525 - accuracy: 0.9136 - val_loss: 0.3120 - val_accuracy: 0.8967\n",
      "Epoch 8/30\n",
      "161/161 [==============================] - ETA: 0s - loss: 0.2359 - accuracy: 0.9162\n",
      "Epoch 00008: val_loss improved from 0.31199 to 0.27329, saving model to trained_models/model-acc-0.8897-loss-0.2733.hdf5\n",
      "161/161 [==============================] - 14s 89ms/step - loss: 0.2359 - accuracy: 0.9162 - val_loss: 0.2733 - val_accuracy: 0.8897\n",
      "Epoch 9/30\n",
      "161/161 [==============================] - ETA: 0s - loss: 0.2067 - accuracy: 0.9274\n",
      "Epoch 00009: val_loss did not improve from 0.27329\n",
      "161/161 [==============================] - 14s 87ms/step - loss: 0.2067 - accuracy: 0.9274 - val_loss: 0.2850 - val_accuracy: 0.9002\n",
      "Epoch 10/30\n",
      "161/161 [==============================] - ETA: 0s - loss: 0.1784 - accuracy: 0.9379\n",
      "Epoch 00010: val_loss did not improve from 0.27329\n",
      "161/161 [==============================] - 14s 87ms/step - loss: 0.1784 - accuracy: 0.9379 - val_loss: 0.3181 - val_accuracy: 0.8914\n",
      "Epoch 11/30\n",
      "161/161 [==============================] - ETA: 0s - loss: 0.1642 - accuracy: 0.9422\n",
      "Epoch 00011: val_loss did not improve from 0.27329\n",
      "161/161 [==============================] - 14s 87ms/step - loss: 0.1642 - accuracy: 0.9422 - val_loss: 0.3183 - val_accuracy: 0.9002\n",
      "Epoch 12/30\n",
      "161/161 [==============================] - ETA: 0s - loss: 0.1434 - accuracy: 0.9500\n",
      "Epoch 00012: val_loss did not improve from 0.27329\n",
      "161/161 [==============================] - 15s 91ms/step - loss: 0.1434 - accuracy: 0.9500 - val_loss: 0.2959 - val_accuracy: 0.8949\n",
      "Epoch 13/30\n",
      "161/161 [==============================] - ETA: 0s - loss: 0.1601 - accuracy: 0.9485\n",
      "Epoch 00013: val_loss did not improve from 0.27329\n",
      "161/161 [==============================] - 16s 96ms/step - loss: 0.1601 - accuracy: 0.9485 - val_loss: 0.2900 - val_accuracy: 0.8932\n",
      "Epoch 14/30\n",
      "161/161 [==============================] - ETA: 0s - loss: 0.1308 - accuracy: 0.9562\n",
      "Epoch 00014: val_loss did not improve from 0.27329\n",
      "161/161 [==============================] - 14s 88ms/step - loss: 0.1308 - accuracy: 0.9562 - val_loss: 0.3655 - val_accuracy: 0.9037\n",
      "Epoch 15/30\n",
      "161/161 [==============================] - ETA: 0s - loss: 0.1165 - accuracy: 0.9595\n",
      "Epoch 00015: val_loss did not improve from 0.27329\n",
      "161/161 [==============================] - 14s 88ms/step - loss: 0.1165 - accuracy: 0.9595 - val_loss: 0.3022 - val_accuracy: 0.9037\n",
      "Epoch 16/30\n",
      "161/161 [==============================] - ETA: 0s - loss: 0.1215 - accuracy: 0.9580\n",
      "Epoch 00016: val_loss improved from 0.27329 to 0.25049, saving model to trained_models/model-acc-0.9159-loss-0.2505.hdf5\n",
      "161/161 [==============================] - 15s 92ms/step - loss: 0.1215 - accuracy: 0.9580 - val_loss: 0.2505 - val_accuracy: 0.9159\n",
      "Epoch 17/30\n",
      "161/161 [==============================] - ETA: 0s - loss: 0.0966 - accuracy: 0.9675\n",
      "Epoch 00017: val_loss improved from 0.25049 to 0.24227, saving model to trained_models/model-acc-0.9159-loss-0.2423.hdf5\n",
      "161/161 [==============================] - 16s 98ms/step - loss: 0.0966 - accuracy: 0.9675 - val_loss: 0.2423 - val_accuracy: 0.9159\n",
      "Epoch 18/30\n",
      "161/161 [==============================] - ETA: 0s - loss: 0.0828 - accuracy: 0.9710\n",
      "Epoch 00018: val_loss did not improve from 0.24227\n",
      "161/161 [==============================] - 15s 95ms/step - loss: 0.0828 - accuracy: 0.9710 - val_loss: 0.2552 - val_accuracy: 0.9107\n",
      "Epoch 19/30\n",
      "161/161 [==============================] - ETA: 0s - loss: 0.0860 - accuracy: 0.9710\n",
      "Epoch 00019: val_loss did not improve from 0.24227\n",
      "161/161 [==============================] - 14s 89ms/step - loss: 0.0860 - accuracy: 0.9710 - val_loss: 0.2577 - val_accuracy: 0.9212\n",
      "Epoch 20/30\n",
      "161/161 [==============================] - ETA: 0s - loss: 0.0896 - accuracy: 0.9702\n",
      "Epoch 00020: val_loss did not improve from 0.24227\n",
      "161/161 [==============================] - 14s 88ms/step - loss: 0.0896 - accuracy: 0.9702 - val_loss: 0.2737 - val_accuracy: 0.9177\n",
      "Epoch 21/30\n",
      "161/161 [==============================] - ETA: 0s - loss: 0.0826 - accuracy: 0.9763\n",
      "Epoch 00021: val_loss did not improve from 0.24227\n",
      "161/161 [==============================] - 14s 88ms/step - loss: 0.0826 - accuracy: 0.9763 - val_loss: 0.2712 - val_accuracy: 0.9142\n",
      "Epoch 22/30\n",
      "161/161 [==============================] - ETA: 0s - loss: 0.0950 - accuracy: 0.9677\n",
      "Epoch 00022: val_loss did not improve from 0.24227\n",
      "161/161 [==============================] - 14s 88ms/step - loss: 0.0950 - accuracy: 0.9677 - val_loss: 0.2686 - val_accuracy: 0.9177\n",
      "Epoch 23/30\n",
      "161/161 [==============================] - ETA: 0s - loss: 0.0715 - accuracy: 0.9765\n",
      "Epoch 00023: val_loss did not improve from 0.24227\n",
      "161/161 [==============================] - 14s 88ms/step - loss: 0.0715 - accuracy: 0.9765 - val_loss: 0.2759 - val_accuracy: 0.9194\n",
      "Epoch 24/30\n",
      "161/161 [==============================] - ETA: 0s - loss: 0.0768 - accuracy: 0.9722\n",
      "Epoch 00024: val_loss did not improve from 0.24227\n",
      "161/161 [==============================] - 14s 88ms/step - loss: 0.0768 - accuracy: 0.9722 - val_loss: 0.2487 - val_accuracy: 0.9229\n",
      "Epoch 25/30\n",
      "161/161 [==============================] - ETA: 0s - loss: 0.0681 - accuracy: 0.9769\n",
      "Epoch 00025: val_loss did not improve from 0.24227\n",
      "161/161 [==============================] - 14s 89ms/step - loss: 0.0681 - accuracy: 0.9769 - val_loss: 0.2550 - val_accuracy: 0.9072\n",
      "Epoch 26/30\n",
      "161/161 [==============================] - ETA: 0s - loss: 0.0657 - accuracy: 0.9772\n",
      "Epoch 00026: val_loss did not improve from 0.24227\n",
      "161/161 [==============================] - 15s 93ms/step - loss: 0.0657 - accuracy: 0.9772 - val_loss: 0.2784 - val_accuracy: 0.9194\n",
      "Epoch 27/30\n",
      "161/161 [==============================] - ETA: 0s - loss: 0.0670 - accuracy: 0.9792\n",
      "Epoch 00027: val_loss did not improve from 0.24227\n",
      "161/161 [==============================] - 15s 93ms/step - loss: 0.0670 - accuracy: 0.9792 - val_loss: 0.2586 - val_accuracy: 0.9159\n",
      "Epoch 00027: early stopping\n"
     ]
    }
   ],
   "source": [
    "history = modelFlattenBatchNormalization.fit(\n",
    "    train_ds,\n",
    "    validation_data=val_ds,\n",
    "    epochs=30,\n",
    "    callbacks=create_callbacks(),\n",
    "    shuffle=True\n",
    ")"
   ]
  },
  {
   "cell_type": "code",
   "execution_count": 407,
   "id": "1b7b09ae",
   "metadata": {},
   "outputs": [
    {
     "data": {
      "image/png": "[encoded data removed]",
      "text/plain": [
       "<Figure size 576x360 with 1 Axes>"
      ]
     },
     "metadata": {
      "needs_background": "light"
     },
     "output_type": "display_data"
    }
   ],
   "source": [
    "pd.DataFrame(history.history).plot(figsize=(8, 5))\n",
    "plt.grid(True)\n",
    "plt.gca().set_ylim(0, 1)\n",
    "plt.show()"
   ]
  },
  {
   "cell_type": "markdown",
   "id": "382127d0",
   "metadata": {},
   "source": [
    "#### Convolutional neural networks"
   ]
  },
  {
   "cell_type": "code",
   "execution_count": 408,
   "id": "176de1e1",
   "metadata": {},
   "outputs": [],
   "source": [
    "modelConv1 = Sequential([\n",
    "    resize_and_rescale,\n",
    "    Conv2D(32, (3,3), padding=\"same\", activation=\"relu\"),\n",
    "    Conv2D(32, 3, padding=\"same\", activation=\"relu\"),\n",
    "    MaxPooling2D(2),\n",
    "    \n",
    "    Conv2D(64, 3, padding=\"same\", activation=\"relu\"),\n",
    "    Conv2D(64, 3, padding=\"same\", activation=\"relu\"),\n",
    "    MaxPooling2D(2),\n",
    "    \n",
    "    Conv2D(128, 3, padding=\"same\", activation=\"relu\"),\n",
    "    Conv2D(256, 3, padding=\"same\", activation=\"relu\"),\n",
    "    GlobalAveragePooling2D(),\n",
    "    Dense(num_classes),\n",
    "    Activation(\"softmax\")\n",
    "])"
   ]
  },
  {
   "cell_type": "code",
   "execution_count": 409,
   "id": "5e5c226e",
   "metadata": {},
   "outputs": [
    {
     "name": "stdout",
     "output_type": "stream",
     "text": [
      "Model: \"sequential_8\"\n",
      "_________________________________________________________________\n",
      " Layer (type)                Output Shape              Param #   \n",
      "=================================================================\n",
      " sequential_5 (Sequential)   (None, 180, 180, 3)       0         \n",
      "                                                                 \n",
      " conv2d_12 (Conv2D)          (None, 180, 180, 32)      896       \n",
      "                                                                 \n",
      " conv2d_13 (Conv2D)          (None, 180, 180, 32)      9248      \n",
      "                                                                 \n",
      " max_pooling2d_12 (MaxPoolin  (None, 90, 90, 32)       0         \n",
      " g2D)                                                            \n",
      "                                                                 \n",
      " conv2d_14 (Conv2D)          (None, 90, 90, 64)        18496     \n",
      "                                                                 \n",
      " conv2d_15 (Conv2D)          (None, 90, 90, 64)        36928     \n",
      "                                                                 \n",
      " max_pooling2d_13 (MaxPoolin  (None, 45, 45, 64)       0         \n",
      " g2D)                                                            \n",
      "                                                                 \n",
      " conv2d_16 (Conv2D)          (None, 45, 45, 128)       73856     \n",
      "                                                                 \n",
      " conv2d_17 (Conv2D)          (None, 45, 45, 256)       295168    \n",
      "                                                                 \n",
      " global_average_pooling2d (G  (None, 256)              0         \n",
      " lobalAveragePooling2D)                                          \n",
      "                                                                 \n",
      " dense_10 (Dense)            (None, 4)                 1028      \n",
      "                                                                 \n",
      " activation_24 (Activation)  (None, 4)                 0         \n",
      "                                                                 \n",
      "=================================================================\n",
      "Total params: 435,620\n",
      "Trainable params: 435,620\n",
      "Non-trainable params: 0\n",
      "_________________________________________________________________\n"
     ]
    }
   ],
   "source": [
    "modelConv1.summary()"
   ]
  },
  {
   "cell_type": "code",
   "execution_count": 410,
   "id": "9f6efa8c",
   "metadata": {},
   "outputs": [],
   "source": [
    "modelConv1.compile(\n",
    "  optimizer='adam',\n",
    "  loss=\"SparseCategoricalCrossentropy\",  \n",
    "  metrics=['accuracy'])"
   ]
  },
  {
   "cell_type": "code",
   "execution_count": 411,
   "id": "ebb1629f",
   "metadata": {},
   "outputs": [
    {
     "name": "stdout",
     "output_type": "stream",
     "text": [
      "Epoch 1/50\n"
     ]
    },
    {
     "name": "stderr",
     "output_type": "stream",
     "text": [
      "2022-06-01 10:11:50.913746: I tensorflow/core/grappler/optimizers/custom_graph_optimizer_registry.cc:112] Plugin optimizer for device_type GPU is enabled.\n"
     ]
    },
    {
     "name": "stdout",
     "output_type": "stream",
     "text": [
      "161/161 [==============================] - ETA: 0s - loss: 1.1086 - accuracy: 0.4841"
     ]
    },
    {
     "name": "stderr",
     "output_type": "stream",
     "text": [
      "2022-06-01 10:12:46.287318: I tensorflow/core/grappler/optimizers/custom_graph_optimizer_registry.cc:112] Plugin optimizer for device_type GPU is enabled.\n"
     ]
    },
    {
     "name": "stdout",
     "output_type": "stream",
     "text": [
      "\n",
      "Epoch 00001: val_loss improved from inf to 1.01135, saving model to trained_models/model-acc-0.5972-loss-1.0114.hdf5\n",
      "161/161 [==============================] - 58s 356ms/step - loss: 1.1086 - accuracy: 0.4841 - val_loss: 1.0114 - val_accuracy: 0.5972\n",
      "Epoch 2/50\n",
      "161/161 [==============================] - ETA: 0s - loss: 0.8212 - accuracy: 0.6826\n",
      "Epoch 00002: val_loss improved from 1.01135 to 0.80975, saving model to trained_models/model-acc-0.6532-loss-0.8097.hdf5\n",
      "161/161 [==============================] - 59s 367ms/step - loss: 0.8212 - accuracy: 0.6826 - val_loss: 0.8097 - val_accuracy: 0.6532\n",
      "Epoch 3/50\n",
      "161/161 [==============================] - ETA: 0s - loss: 0.6891 - accuracy: 0.7213\n",
      "Epoch 00003: val_loss improved from 0.80975 to 0.61411, saving model to trained_models/model-acc-0.7408-loss-0.6141.hdf5\n",
      "161/161 [==============================] - 65s 401ms/step - loss: 0.6891 - accuracy: 0.7213 - val_loss: 0.6141 - val_accuracy: 0.7408\n",
      "Epoch 4/50\n",
      "161/161 [==============================] - ETA: 0s - loss: 0.6190 - accuracy: 0.7526\n",
      "Epoch 00004: val_loss improved from 0.61411 to 0.59399, saving model to trained_models/model-acc-0.7601-loss-0.5940.hdf5\n",
      "161/161 [==============================] - 67s 415ms/step - loss: 0.6190 - accuracy: 0.7526 - val_loss: 0.5940 - val_accuracy: 0.7601\n",
      "Epoch 5/50\n",
      "161/161 [==============================] - ETA: 0s - loss: 0.5684 - accuracy: 0.7755\n",
      "Epoch 00005: val_loss did not improve from 0.59399\n",
      "161/161 [==============================] - 69s 428ms/step - loss: 0.5684 - accuracy: 0.7755 - val_loss: 0.6739 - val_accuracy: 0.7145\n",
      "Epoch 6/50\n",
      "161/161 [==============================] - ETA: 0s - loss: 0.5416 - accuracy: 0.7961\n",
      "Epoch 00006: val_loss improved from 0.59399 to 0.51657, saving model to trained_models/model-acc-0.7881-loss-0.5166.hdf5\n",
      "161/161 [==============================] - 70s 436ms/step - loss: 0.5416 - accuracy: 0.7961 - val_loss: 0.5166 - val_accuracy: 0.7881\n",
      "Epoch 7/50\n",
      "161/161 [==============================] - ETA: 0s - loss: 0.5077 - accuracy: 0.8138\n",
      "Epoch 00007: val_loss improved from 0.51657 to 0.49770, saving model to trained_models/model-acc-0.8319-loss-0.4977.hdf5\n",
      "161/161 [==============================] - 72s 447ms/step - loss: 0.5077 - accuracy: 0.8138 - val_loss: 0.4977 - val_accuracy: 0.8319\n",
      "Epoch 8/50\n",
      "161/161 [==============================] - ETA: 0s - loss: 0.4924 - accuracy: 0.8121\n",
      "Epoch 00008: val_loss improved from 0.49770 to 0.49341, saving model to trained_models/model-acc-0.8231-loss-0.4934.hdf5\n",
      "161/161 [==============================] - 75s 462ms/step - loss: 0.4924 - accuracy: 0.8121 - val_loss: 0.4934 - val_accuracy: 0.8231\n",
      "Epoch 9/50\n",
      "161/161 [==============================] - ETA: 0s - loss: 0.4515 - accuracy: 0.8267\n",
      "Epoch 00009: val_loss improved from 0.49341 to 0.47998, saving model to trained_models/model-acc-0.8161-loss-0.4800.hdf5\n",
      "161/161 [==============================] - 72s 447ms/step - loss: 0.4515 - accuracy: 0.8267 - val_loss: 0.4800 - val_accuracy: 0.8161\n",
      "Epoch 10/50\n",
      "161/161 [==============================] - ETA: 0s - loss: 0.4442 - accuracy: 0.8310\n",
      "Epoch 00010: val_loss improved from 0.47998 to 0.42584, saving model to trained_models/model-acc-0.8406-loss-0.4258.hdf5\n",
      "161/161 [==============================] - 72s 447ms/step - loss: 0.4442 - accuracy: 0.8310 - val_loss: 0.4258 - val_accuracy: 0.8406\n",
      "Epoch 11/50\n",
      "161/161 [==============================] - ETA: 0s - loss: 0.4248 - accuracy: 0.8370\n",
      "Epoch 00011: val_loss improved from 0.42584 to 0.40047, saving model to trained_models/model-acc-0.8441-loss-0.4005.hdf5\n",
      "161/161 [==============================] - 73s 453ms/step - loss: 0.4248 - accuracy: 0.8370 - val_loss: 0.4005 - val_accuracy: 0.8441\n",
      "Epoch 12/50\n",
      "161/161 [==============================] - ETA: 0s - loss: 0.3941 - accuracy: 0.8452\n",
      "Epoch 00012: val_loss did not improve from 0.40047\n",
      "161/161 [==============================] - 74s 457ms/step - loss: 0.3941 - accuracy: 0.8452 - val_loss: 0.4169 - val_accuracy: 0.8581\n",
      "Epoch 13/50\n",
      "161/161 [==============================] - ETA: 0s - loss: 0.3783 - accuracy: 0.8535\n",
      "Epoch 00013: val_loss improved from 0.40047 to 0.37675, saving model to trained_models/model-acc-0.8564-loss-0.3768.hdf5\n",
      "161/161 [==============================] - 74s 460ms/step - loss: 0.3783 - accuracy: 0.8535 - val_loss: 0.3768 - val_accuracy: 0.8564\n",
      "Epoch 14/50\n",
      "161/161 [==============================] - ETA: 0s - loss: 0.3695 - accuracy: 0.8598\n",
      "Epoch 00014: val_loss did not improve from 0.37675\n",
      "161/161 [==============================] - 75s 466ms/step - loss: 0.3695 - accuracy: 0.8598 - val_loss: 0.3862 - val_accuracy: 0.8424\n",
      "Epoch 15/50\n",
      "161/161 [==============================] - ETA: 0s - loss: 0.3605 - accuracy: 0.8621\n",
      "Epoch 00015: val_loss did not improve from 0.37675\n",
      "161/161 [==============================] - 74s 462ms/step - loss: 0.3605 - accuracy: 0.8621 - val_loss: 0.4124 - val_accuracy: 0.8249\n",
      "Epoch 16/50\n",
      "161/161 [==============================] - ETA: 0s - loss: 0.3362 - accuracy: 0.8699\n",
      "Epoch 00016: val_loss improved from 0.37675 to 0.32934, saving model to trained_models/model-acc-0.8757-loss-0.3293.hdf5\n",
      "161/161 [==============================] - 74s 459ms/step - loss: 0.3362 - accuracy: 0.8699 - val_loss: 0.3293 - val_accuracy: 0.8757\n",
      "Epoch 17/50\n",
      "161/161 [==============================] - ETA: 0s - loss: 0.3412 - accuracy: 0.8699\n",
      "Epoch 00017: val_loss did not improve from 0.32934\n",
      "161/161 [==============================] - 75s 464ms/step - loss: 0.3412 - accuracy: 0.8699 - val_loss: 0.4018 - val_accuracy: 0.8494\n",
      "Epoch 18/50\n",
      "161/161 [==============================] - ETA: 0s - loss: 0.2982 - accuracy: 0.8899\n",
      "Epoch 00018: val_loss did not improve from 0.32934\n",
      "161/161 [==============================] - 80s 497ms/step - loss: 0.2982 - accuracy: 0.8899 - val_loss: 0.3510 - val_accuracy: 0.8687\n",
      "Epoch 19/50\n",
      "161/161 [==============================] - ETA: 0s - loss: 0.2783 - accuracy: 0.8938\n",
      "Epoch 00019: val_loss improved from 0.32934 to 0.31563, saving model to trained_models/model-acc-0.8739-loss-0.3156.hdf5\n",
      "161/161 [==============================] - 75s 464ms/step - loss: 0.2783 - accuracy: 0.8938 - val_loss: 0.3156 - val_accuracy: 0.8739\n",
      "Epoch 20/50\n",
      "161/161 [==============================] - ETA: 0s - loss: 0.2790 - accuracy: 0.8967\n",
      "Epoch 00020: val_loss improved from 0.31563 to 0.28648, saving model to trained_models/model-acc-0.8932-loss-0.2865.hdf5\n",
      "161/161 [==============================] - 77s 479ms/step - loss: 0.2790 - accuracy: 0.8967 - val_loss: 0.2865 - val_accuracy: 0.8932\n",
      "Epoch 21/50\n",
      "161/161 [==============================] - ETA: 0s - loss: 0.2486 - accuracy: 0.9099\n",
      "Epoch 00021: val_loss did not improve from 0.28648\n",
      "161/161 [==============================] - 74s 458ms/step - loss: 0.2486 - accuracy: 0.9099 - val_loss: 0.3214 - val_accuracy: 0.8757\n",
      "Epoch 22/50\n",
      "161/161 [==============================] - ETA: 0s - loss: 0.2557 - accuracy: 0.9064\n",
      "Epoch 00022: val_loss did not improve from 0.28648\n",
      "161/161 [==============================] - 75s 466ms/step - loss: 0.2557 - accuracy: 0.9064 - val_loss: 0.3057 - val_accuracy: 0.8862\n",
      "Epoch 23/50\n",
      "161/161 [==============================] - ETA: 0s - loss: 0.2267 - accuracy: 0.9202\n",
      "Epoch 00023: val_loss improved from 0.28648 to 0.28088, saving model to trained_models/model-acc-0.8844-loss-0.2809.hdf5\n",
      "161/161 [==============================] - 77s 477ms/step - loss: 0.2267 - accuracy: 0.9202 - val_loss: 0.2809 - val_accuracy: 0.8844\n",
      "Epoch 24/50\n",
      "161/161 [==============================] - ETA: 0s - loss: 0.2076 - accuracy: 0.9245\n",
      "Epoch 00024: val_loss did not improve from 0.28088\n",
      "161/161 [==============================] - 78s 484ms/step - loss: 0.2076 - accuracy: 0.9245 - val_loss: 0.3546 - val_accuracy: 0.8301\n",
      "Epoch 25/50\n",
      "161/161 [==============================] - ETA: 0s - loss: 0.1974 - accuracy: 0.9302\n",
      "Epoch 00025: val_loss did not improve from 0.28088\n",
      "161/161 [==============================] - 79s 488ms/step - loss: 0.1974 - accuracy: 0.9302 - val_loss: 0.2901 - val_accuracy: 0.9037\n",
      "Epoch 26/50\n",
      "161/161 [==============================] - ETA: 0s - loss: 0.1816 - accuracy: 0.9327\n",
      "Epoch 00026: val_loss improved from 0.28088 to 0.24824, saving model to trained_models/model-acc-0.9037-loss-0.2482.hdf5\n",
      "161/161 [==============================] - 78s 482ms/step - loss: 0.1816 - accuracy: 0.9327 - val_loss: 0.2482 - val_accuracy: 0.9037\n"
     ]
    },
    {
     "name": "stdout",
     "output_type": "stream",
     "text": [
      "Epoch 27/50\n",
      "161/161 [==============================] - ETA: 0s - loss: 0.1566 - accuracy: 0.9432\n",
      "Epoch 00027: val_loss did not improve from 0.24824\n",
      "161/161 [==============================] - 76s 469ms/step - loss: 0.1566 - accuracy: 0.9432 - val_loss: 0.2516 - val_accuracy: 0.8949\n",
      "Epoch 28/50\n",
      "161/161 [==============================] - ETA: 0s - loss: 0.1732 - accuracy: 0.9370\n",
      "Epoch 00028: val_loss did not improve from 0.24824\n",
      "161/161 [==============================] - 74s 460ms/step - loss: 0.1732 - accuracy: 0.9370 - val_loss: 0.2935 - val_accuracy: 0.8967\n",
      "Epoch 29/50\n",
      "161/161 [==============================] - ETA: 0s - loss: 0.1502 - accuracy: 0.9471\n",
      "Epoch 00029: val_loss did not improve from 0.24824\n",
      "161/161 [==============================] - 73s 455ms/step - loss: 0.1502 - accuracy: 0.9471 - val_loss: 0.3247 - val_accuracy: 0.8564\n",
      "Epoch 30/50\n",
      "161/161 [==============================] - ETA: 0s - loss: 0.1407 - accuracy: 0.9514\n",
      "Epoch 00030: val_loss did not improve from 0.24824\n",
      "161/161 [==============================] - 74s 458ms/step - loss: 0.1407 - accuracy: 0.9514 - val_loss: 0.2817 - val_accuracy: 0.8879\n",
      "Epoch 31/50\n",
      "161/161 [==============================] - ETA: 0s - loss: 0.1353 - accuracy: 0.9504\n",
      "Epoch 00031: val_loss improved from 0.24824 to 0.24648, saving model to trained_models/model-acc-0.9299-loss-0.2465.hdf5\n",
      "161/161 [==============================] - 74s 461ms/step - loss: 0.1353 - accuracy: 0.9504 - val_loss: 0.2465 - val_accuracy: 0.9299\n",
      "Epoch 32/50\n",
      "161/161 [==============================] - ETA: 0s - loss: 0.1168 - accuracy: 0.9584\n",
      "Epoch 00032: val_loss improved from 0.24648 to 0.22719, saving model to trained_models/model-acc-0.9247-loss-0.2272.hdf5\n",
      "161/161 [==============================] - 78s 486ms/step - loss: 0.1168 - accuracy: 0.9584 - val_loss: 0.2272 - val_accuracy: 0.9247\n",
      "Epoch 33/50\n",
      "161/161 [==============================] - ETA: 0s - loss: 0.1125 - accuracy: 0.9574\n",
      "Epoch 00033: val_loss did not improve from 0.22719\n",
      "161/161 [==============================] - 74s 461ms/step - loss: 0.1125 - accuracy: 0.9574 - val_loss: 0.2820 - val_accuracy: 0.9089\n",
      "Epoch 34/50\n",
      "161/161 [==============================] - ETA: 0s - loss: 0.1257 - accuracy: 0.9558\n",
      "Epoch 00034: val_loss did not improve from 0.22719\n",
      "161/161 [==============================] - 77s 478ms/step - loss: 0.1257 - accuracy: 0.9558 - val_loss: 0.2532 - val_accuracy: 0.9124\n",
      "Epoch 35/50\n",
      "161/161 [==============================] - ETA: 0s - loss: 0.1281 - accuracy: 0.9510\n",
      "Epoch 00035: val_loss did not improve from 0.22719\n",
      "161/161 [==============================] - 74s 462ms/step - loss: 0.1281 - accuracy: 0.9510 - val_loss: 0.2278 - val_accuracy: 0.9194\n",
      "Epoch 36/50\n",
      "161/161 [==============================] - ETA: 0s - loss: 0.0754 - accuracy: 0.9706\n",
      "Epoch 00036: val_loss improved from 0.22719 to 0.20101, saving model to trained_models/model-acc-0.9317-loss-0.2010.hdf5\n",
      "161/161 [==============================] - 73s 454ms/step - loss: 0.0754 - accuracy: 0.9706 - val_loss: 0.2010 - val_accuracy: 0.9317\n",
      "Epoch 37/50\n",
      "161/161 [==============================] - ETA: 0s - loss: 0.0702 - accuracy: 0.9757\n",
      "Epoch 00037: val_loss did not improve from 0.20101\n",
      "161/161 [==============================] - 74s 459ms/step - loss: 0.0702 - accuracy: 0.9757 - val_loss: 0.2119 - val_accuracy: 0.9475\n",
      "Epoch 38/50\n",
      "161/161 [==============================] - ETA: 0s - loss: 0.1153 - accuracy: 0.9603\n",
      "Epoch 00038: val_loss did not improve from 0.20101\n",
      "161/161 [==============================] - 78s 482ms/step - loss: 0.1153 - accuracy: 0.9603 - val_loss: 0.3531 - val_accuracy: 0.8967\n",
      "Epoch 39/50\n",
      "161/161 [==============================] - ETA: 0s - loss: 0.0768 - accuracy: 0.9724\n",
      "Epoch 00039: val_loss did not improve from 0.20101\n",
      "161/161 [==============================] - 89s 551ms/step - loss: 0.0768 - accuracy: 0.9724 - val_loss: 0.2146 - val_accuracy: 0.9299\n",
      "Epoch 40/50\n",
      "161/161 [==============================] - ETA: 0s - loss: 0.0726 - accuracy: 0.9765\n",
      "Epoch 00040: val_loss did not improve from 0.20101\n",
      "161/161 [==============================] - 74s 456ms/step - loss: 0.0726 - accuracy: 0.9765 - val_loss: 0.2560 - val_accuracy: 0.9212\n",
      "Epoch 41/50\n",
      "161/161 [==============================] - ETA: 0s - loss: 0.0568 - accuracy: 0.9770\n",
      "Epoch 00041: val_loss did not improve from 0.20101\n",
      "161/161 [==============================] - 72s 447ms/step - loss: 0.0568 - accuracy: 0.9770 - val_loss: 0.2654 - val_accuracy: 0.9212\n",
      "Epoch 42/50\n",
      "161/161 [==============================] - ETA: 0s - loss: 0.0630 - accuracy: 0.9784\n",
      "Epoch 00042: val_loss improved from 0.20101 to 0.19489, saving model to trained_models/model-acc-0.9422-loss-0.1949.hdf5\n",
      "161/161 [==============================] - 74s 457ms/step - loss: 0.0630 - accuracy: 0.9784 - val_loss: 0.1949 - val_accuracy: 0.9422\n",
      "Epoch 43/50\n",
      "161/161 [==============================] - ETA: 0s - loss: 0.0441 - accuracy: 0.9848\n",
      "Epoch 00043: val_loss did not improve from 0.19489\n",
      "161/161 [==============================] - 75s 466ms/step - loss: 0.0441 - accuracy: 0.9848 - val_loss: 0.2429 - val_accuracy: 0.9335\n",
      "Epoch 44/50\n",
      "161/161 [==============================] - ETA: 0s - loss: 0.0973 - accuracy: 0.9677\n",
      "Epoch 00044: val_loss did not improve from 0.19489\n",
      "161/161 [==============================] - 74s 458ms/step - loss: 0.0973 - accuracy: 0.9677 - val_loss: 0.2109 - val_accuracy: 0.9405\n",
      "Epoch 45/50\n",
      "161/161 [==============================] - ETA: 0s - loss: 0.0272 - accuracy: 0.9924\n",
      "Epoch 00045: val_loss did not improve from 0.19489\n",
      "161/161 [==============================] - 73s 451ms/step - loss: 0.0272 - accuracy: 0.9924 - val_loss: 0.2532 - val_accuracy: 0.9370\n",
      "Epoch 46/50\n",
      "161/161 [==============================] - ETA: 0s - loss: 0.0503 - accuracy: 0.9825\n",
      "Epoch 00046: val_loss did not improve from 0.19489\n",
      "161/161 [==============================] - 72s 449ms/step - loss: 0.0503 - accuracy: 0.9825 - val_loss: 0.2740 - val_accuracy: 0.9247\n",
      "Epoch 47/50\n",
      "161/161 [==============================] - ETA: 0s - loss: 0.0486 - accuracy: 0.9833\n",
      "Epoch 00047: val_loss did not improve from 0.19489\n",
      "161/161 [==============================] - 73s 454ms/step - loss: 0.0486 - accuracy: 0.9833 - val_loss: 0.3072 - val_accuracy: 0.9264\n",
      "Epoch 48/50\n",
      "161/161 [==============================] - ETA: 0s - loss: 0.0299 - accuracy: 0.9905\n",
      "Epoch 00048: val_loss did not improve from 0.19489\n",
      "161/161 [==============================] - 73s 452ms/step - loss: 0.0299 - accuracy: 0.9905 - val_loss: 0.2239 - val_accuracy: 0.9317\n",
      "Epoch 49/50\n",
      "161/161 [==============================] - ETA: 0s - loss: 0.0223 - accuracy: 0.9914\n",
      "Epoch 00049: val_loss did not improve from 0.19489\n",
      "161/161 [==============================] - 74s 457ms/step - loss: 0.0223 - accuracy: 0.9914 - val_loss: 0.2912 - val_accuracy: 0.9264\n",
      "Epoch 50/50\n",
      "161/161 [==============================] - ETA: 0s - loss: 0.0485 - accuracy: 0.9852\n",
      "Epoch 00050: val_loss did not improve from 0.19489\n",
      "161/161 [==============================] - 77s 475ms/step - loss: 0.0485 - accuracy: 0.9852 - val_loss: 0.2194 - val_accuracy: 0.9352\n"
     ]
    }
   ],
   "source": [
    "history2 = modelConv1.fit(\n",
    "    train_ds,\n",
    "    validation_data=val_ds,\n",
    "    epochs=50,\n",
    "    callbacks=create_callbacks(),\n",
    "    shuffle=True\n",
    ")"
   ]
  },
  {
   "cell_type": "code",
   "execution_count": 412,
   "id": "bbb9429f",
   "metadata": {},
   "outputs": [
    {
     "data": {
      "image/png": "[encoded data removed]",
      "text/plain": [
       "<Figure size 576x360 with 1 Axes>"
      ]
     },
     "metadata": {
      "needs_background": "light"
     },
     "output_type": "display_data"
    }
   ],
   "source": [
    "pd.DataFrame(history2.history).plot(figsize=(8, 5))\n",
    "plt.grid(True)\n",
    "plt.gca().set_ylim(0, 1)\n",
    "plt.show()"
   ]
  },
  {
   "cell_type": "code",
   "execution_count": 413,
   "id": "8bfc718a",
   "metadata": {},
   "outputs": [
    {
     "name": "stdout",
     "output_type": "stream",
     "text": [
      "Model: \"sequential_9\"\n",
      "_________________________________________________________________\n",
      " Layer (type)                Output Shape              Param #   \n",
      "=================================================================\n",
      " sequential_5 (Sequential)   (None, 180, 180, 3)       0         \n",
      "                                                                 \n",
      " conv2d_18 (Conv2D)          (None, 180, 180, 32)      896       \n",
      "                                                                 \n",
      " batch_normalization_18 (Bat  (None, 180, 180, 32)     128       \n",
      " chNormalization)                                                \n",
      "                                                                 \n",
      " activation_25 (Activation)  (None, 180, 180, 32)      0         \n",
      "                                                                 \n",
      " max_pooling2d_14 (MaxPoolin  (None, 90, 90, 32)       0         \n",
      " g2D)                                                            \n",
      "                                                                 \n",
      " dropout_18 (Dropout)        (None, 90, 90, 32)        0         \n",
      "                                                                 \n",
      " conv2d_19 (Conv2D)          (None, 90, 90, 32)        9248      \n",
      "                                                                 \n",
      " batch_normalization_19 (Bat  (None, 90, 90, 32)       128       \n",
      " chNormalization)                                                \n",
      "                                                                 \n",
      " activation_26 (Activation)  (None, 90, 90, 32)        0         \n",
      "                                                                 \n",
      " max_pooling2d_15 (MaxPoolin  (None, 45, 45, 32)       0         \n",
      " g2D)                                                            \n",
      "                                                                 \n",
      " dropout_19 (Dropout)        (None, 45, 45, 32)        0         \n",
      "                                                                 \n",
      " conv2d_20 (Conv2D)          (None, 45, 45, 64)        18496     \n",
      "                                                                 \n",
      " batch_normalization_20 (Bat  (None, 45, 45, 64)       256       \n",
      " chNormalization)                                                \n",
      "                                                                 \n",
      " activation_27 (Activation)  (None, 45, 45, 64)        0         \n",
      "                                                                 \n",
      " max_pooling2d_16 (MaxPoolin  (None, 22, 22, 64)       0         \n",
      " g2D)                                                            \n",
      "                                                                 \n",
      " dropout_20 (Dropout)        (None, 22, 22, 64)        0         \n",
      "                                                                 \n",
      " conv2d_21 (Conv2D)          (None, 22, 22, 64)        36928     \n",
      "                                                                 \n",
      " batch_normalization_21 (Bat  (None, 22, 22, 64)       256       \n",
      " chNormalization)                                                \n",
      "                                                                 \n",
      " activation_28 (Activation)  (None, 22, 22, 64)        0         \n",
      "                                                                 \n",
      " max_pooling2d_17 (MaxPoolin  (None, 11, 11, 64)       0         \n",
      " g2D)                                                            \n",
      "                                                                 \n",
      " dropout_21 (Dropout)        (None, 11, 11, 64)        0         \n",
      "                                                                 \n",
      " conv2d_22 (Conv2D)          (None, 11, 11, 128)       73856     \n",
      "                                                                 \n",
      " batch_normalization_22 (Bat  (None, 11, 11, 128)      512       \n",
      " chNormalization)                                                \n",
      "                                                                 \n",
      " activation_29 (Activation)  (None, 11, 11, 128)       0         \n",
      "                                                                 \n",
      " max_pooling2d_18 (MaxPoolin  (None, 5, 5, 128)        0         \n",
      " g2D)                                                            \n",
      "                                                                 \n",
      " dropout_22 (Dropout)        (None, 5, 5, 128)         0         \n",
      "                                                                 \n",
      " conv2d_23 (Conv2D)          (None, 5, 5, 256)         295168    \n",
      "                                                                 \n",
      " batch_normalization_23 (Bat  (None, 5, 5, 256)        1024      \n",
      " chNormalization)                                                \n",
      "                                                                 \n",
      " activation_30 (Activation)  (None, 5, 5, 256)         0         \n",
      "                                                                 \n",
      " max_pooling2d_19 (MaxPoolin  (None, 2, 2, 256)        0         \n",
      " g2D)                                                            \n",
      "                                                                 \n",
      " dropout_23 (Dropout)        (None, 2, 2, 256)         0         \n",
      "                                                                 \n",
      " flatten_6 (Flatten)         (None, 1024)              0         \n",
      "                                                                 \n",
      " dense_11 (Dense)            (None, 4)                 4100      \n",
      "                                                                 \n",
      " activation_31 (Activation)  (None, 4)                 0         \n",
      "                                                                 \n",
      "=================================================================\n",
      "Total params: 440,996\n",
      "Trainable params: 439,844\n",
      "Non-trainable params: 1,152\n",
      "_________________________________________________________________\n"
     ]
    }
   ],
   "source": [
    "modelConv2 = Sequential([\n",
    "    resize_and_rescale,\n",
    "    Conv2D(32, (3,3), padding=\"same\", activation=\"relu\"),\n",
    "    BatchNormalization(),\n",
    "    Activation(\"relu\"),\n",
    "    MaxPooling2D((2,2)),\n",
    "    Dropout(0.2),\n",
    "    \n",
    "    Conv2D(32, 3, padding=\"same\", activation=\"relu\"),\n",
    "    BatchNormalization(),\n",
    "    Activation(\"relu\"),\n",
    "    MaxPooling2D((2,2)),\n",
    "    Dropout(0.2),\n",
    "    \n",
    "    Conv2D(64, 3, padding=\"same\", activation=\"relu\"),\n",
    "    BatchNormalization(),\n",
    "    Activation(\"relu\"),\n",
    "    MaxPooling2D((2,2)),\n",
    "    Dropout(0.2),\n",
    "    \n",
    "    Conv2D(64, 3, padding=\"same\", activation=\"relu\"),\n",
    "    BatchNormalization(),\n",
    "    Activation(\"relu\"),\n",
    "    MaxPooling2D((2,2)),\n",
    "    Dropout(0.2),\n",
    "    \n",
    "    Conv2D(128, 3, padding=\"same\", activation=\"relu\"),\n",
    "    BatchNormalization(),\n",
    "    Activation(\"relu\"),\n",
    "    MaxPooling2D((2,2)),\n",
    "    Dropout(0.2),\n",
    "    \n",
    "    Conv2D(256, 3, padding=\"same\", activation=\"relu\"),\n",
    "    BatchNormalization(),\n",
    "    Activation(\"relu\"),\n",
    "    MaxPooling2D((2,2)),\n",
    "    Dropout(0.2),\n",
    "    \n",
    "    Flatten(),\n",
    "    Dense(num_classes),\n",
    "    Activation(\"softmax\")\n",
    "])\n",
    "\n",
    "modelConv2.summary()"
   ]
  },
  {
   "cell_type": "code",
   "execution_count": 414,
   "id": "4b5e8974",
   "metadata": {},
   "outputs": [],
   "source": [
    "modelConv2.compile(\n",
    "  optimizer='adam',\n",
    "  loss=\"SparseCategoricalCrossentropy\",  \n",
    "  metrics=['accuracy'])"
   ]
  },
  {
   "cell_type": "code",
   "execution_count": 415,
   "id": "c9f2959d",
   "metadata": {},
   "outputs": [
    {
     "name": "stdout",
     "output_type": "stream",
     "text": [
      "Epoch 1/50\n"
     ]
    },
    {
     "name": "stderr",
     "output_type": "stream",
     "text": [
      "2022-06-01 11:13:19.115240: I tensorflow/core/grappler/optimizers/custom_graph_optimizer_registry.cc:112] Plugin optimizer for device_type GPU is enabled.\n"
     ]
    },
    {
     "name": "stdout",
     "output_type": "stream",
     "text": [
      "161/161 [==============================] - ETA: 0s - loss: 0.8582 - accuracy: 0.6993"
     ]
    },
    {
     "name": "stderr",
     "output_type": "stream",
     "text": [
      "2022-06-01 11:13:59.067295: I tensorflow/core/grappler/optimizers/custom_graph_optimizer_registry.cc:112] Plugin optimizer for device_type GPU is enabled.\n"
     ]
    },
    {
     "name": "stdout",
     "output_type": "stream",
     "text": [
      "\n",
      "Epoch 00001: val_loss improved from inf to 1.38596, saving model to trained_models/model-acc-0.3012-loss-1.3860.hdf5\n",
      "161/161 [==============================] - 42s 249ms/step - loss: 0.8582 - accuracy: 0.6993 - val_loss: 1.3860 - val_accuracy: 0.3012\n",
      "Epoch 2/50\n",
      "161/161 [==============================] - ETA: 0s - loss: 0.5385 - accuracy: 0.8070\n",
      "Epoch 00002: val_loss improved from 1.38596 to 1.35616, saving model to trained_models/model-acc-0.3012-loss-1.3562.hdf5\n",
      "161/161 [==============================] - 36s 225ms/step - loss: 0.5385 - accuracy: 0.8070 - val_loss: 1.3562 - val_accuracy: 0.3012\n",
      "Epoch 3/50\n",
      "161/161 [==============================] - ETA: 0s - loss: 0.4107 - accuracy: 0.8570\n",
      "Epoch 00003: val_loss improved from 1.35616 to 1.19628, saving model to trained_models/model-acc-0.4413-loss-1.1963.hdf5\n",
      "161/161 [==============================] - 35s 215ms/step - loss: 0.4107 - accuracy: 0.8570 - val_loss: 1.1963 - val_accuracy: 0.4413\n",
      "Epoch 4/50\n",
      "161/161 [==============================] - ETA: 0s - loss: 0.3080 - accuracy: 0.8835\n",
      "Epoch 00004: val_loss improved from 1.19628 to 0.91287, saving model to trained_models/model-acc-0.6270-loss-0.9129.hdf5\n",
      "161/161 [==============================] - 34s 211ms/step - loss: 0.3080 - accuracy: 0.8835 - val_loss: 0.9129 - val_accuracy: 0.6270\n",
      "Epoch 5/50\n",
      "161/161 [==============================] - ETA: 0s - loss: 0.2791 - accuracy: 0.8994\n",
      "Epoch 00005: val_loss improved from 0.91287 to 0.80575, saving model to trained_models/model-acc-0.6567-loss-0.8057.hdf5\n",
      "161/161 [==============================] - 34s 212ms/step - loss: 0.2791 - accuracy: 0.8994 - val_loss: 0.8057 - val_accuracy: 0.6567\n",
      "Epoch 6/50\n",
      "161/161 [==============================] - ETA: 0s - loss: 0.2279 - accuracy: 0.9183\n",
      "Epoch 00006: val_loss improved from 0.80575 to 0.40497, saving model to trained_models/model-acc-0.8651-loss-0.4050.hdf5\n",
      "161/161 [==============================] - 38s 236ms/step - loss: 0.2279 - accuracy: 0.9183 - val_loss: 0.4050 - val_accuracy: 0.8651\n",
      "Epoch 7/50\n",
      "161/161 [==============================] - ETA: 0s - loss: 0.1898 - accuracy: 0.9362\n",
      "Epoch 00007: val_loss did not improve from 0.40497\n",
      "161/161 [==============================] - 45s 281ms/step - loss: 0.1898 - accuracy: 0.9362 - val_loss: 0.5455 - val_accuracy: 0.7881\n",
      "Epoch 8/50\n",
      "161/161 [==============================] - ETA: 0s - loss: 0.1843 - accuracy: 0.9294\n",
      "Epoch 00008: val_loss improved from 0.40497 to 0.40074, saving model to trained_models/model-acc-0.8529-loss-0.4007.hdf5\n",
      "161/161 [==============================] - 50s 308ms/step - loss: 0.1843 - accuracy: 0.9294 - val_loss: 0.4007 - val_accuracy: 0.8529\n",
      "Epoch 9/50\n",
      "161/161 [==============================] - ETA: 0s - loss: 0.1613 - accuracy: 0.9401\n",
      "Epoch 00009: val_loss did not improve from 0.40074\n",
      "161/161 [==============================] - 47s 288ms/step - loss: 0.1613 - accuracy: 0.9401 - val_loss: 0.5041 - val_accuracy: 0.8161\n",
      "Epoch 10/50\n",
      "161/161 [==============================] - ETA: 0s - loss: 0.1264 - accuracy: 0.9547\n",
      "Epoch 00010: val_loss improved from 0.40074 to 0.26951, saving model to trained_models/model-acc-0.9142-loss-0.2695.hdf5\n",
      "161/161 [==============================] - 47s 289ms/step - loss: 0.1264 - accuracy: 0.9547 - val_loss: 0.2695 - val_accuracy: 0.9142\n",
      "Epoch 11/50\n",
      "161/161 [==============================] - ETA: 0s - loss: 0.1280 - accuracy: 0.9562\n",
      "Epoch 00011: val_loss did not improve from 0.26951\n",
      "161/161 [==============================] - 47s 292ms/step - loss: 0.1280 - accuracy: 0.9562 - val_loss: 0.6706 - val_accuracy: 0.7461\n",
      "Epoch 12/50\n",
      "161/161 [==============================] - ETA: 0s - loss: 0.1078 - accuracy: 0.9611\n",
      "Epoch 00012: val_loss did not improve from 0.26951\n",
      "161/161 [==============================] - 54s 332ms/step - loss: 0.1078 - accuracy: 0.9611 - val_loss: 0.6028 - val_accuracy: 0.7636\n",
      "Epoch 13/50\n",
      "161/161 [==============================] - ETA: 0s - loss: 0.0847 - accuracy: 0.9697\n",
      "Epoch 00013: val_loss did not improve from 0.26951\n",
      "161/161 [==============================] - 48s 295ms/step - loss: 0.0847 - accuracy: 0.9697 - val_loss: 1.3320 - val_accuracy: 0.6200\n",
      "Epoch 14/50\n",
      "161/161 [==============================] - ETA: 0s - loss: 0.0917 - accuracy: 0.9675\n",
      "Epoch 00014: val_loss improved from 0.26951 to 0.19697, saving model to trained_models/model-acc-0.9405-loss-0.1970.hdf5\n",
      "161/161 [==============================] - 48s 298ms/step - loss: 0.0917 - accuracy: 0.9675 - val_loss: 0.1970 - val_accuracy: 0.9405\n",
      "Epoch 15/50\n",
      "161/161 [==============================] - ETA: 0s - loss: 0.0739 - accuracy: 0.9735\n",
      "Epoch 00015: val_loss did not improve from 0.19697\n",
      "161/161 [==============================] - 47s 291ms/step - loss: 0.0739 - accuracy: 0.9735 - val_loss: 0.4862 - val_accuracy: 0.8266\n",
      "Epoch 16/50\n",
      "161/161 [==============================] - ETA: 0s - loss: 0.0979 - accuracy: 0.9679\n",
      "Epoch 00016: val_loss did not improve from 0.19697\n",
      "161/161 [==============================] - 47s 289ms/step - loss: 0.0979 - accuracy: 0.9679 - val_loss: 0.5622 - val_accuracy: 0.7951\n",
      "Epoch 17/50\n",
      "161/161 [==============================] - ETA: 0s - loss: 0.0913 - accuracy: 0.9693\n",
      "Epoch 00017: val_loss did not improve from 0.19697\n",
      "161/161 [==============================] - 48s 295ms/step - loss: 0.0913 - accuracy: 0.9693 - val_loss: 0.2748 - val_accuracy: 0.9037\n",
      "Epoch 18/50\n",
      "161/161 [==============================] - ETA: 0s - loss: 0.0647 - accuracy: 0.9774\n",
      "Epoch 00018: val_loss did not improve from 0.19697\n",
      "161/161 [==============================] - 49s 301ms/step - loss: 0.0647 - accuracy: 0.9774 - val_loss: 0.2554 - val_accuracy: 0.9282\n",
      "Epoch 19/50\n",
      "161/161 [==============================] - ETA: 0s - loss: 0.0761 - accuracy: 0.9714\n",
      "Epoch 00019: val_loss did not improve from 0.19697\n",
      "161/161 [==============================] - 49s 301ms/step - loss: 0.0761 - accuracy: 0.9714 - val_loss: 0.3059 - val_accuracy: 0.8967\n",
      "Epoch 20/50\n",
      "161/161 [==============================] - ETA: 0s - loss: 0.0579 - accuracy: 0.9804\n",
      "Epoch 00020: val_loss did not improve from 0.19697\n",
      "161/161 [==============================] - 50s 307ms/step - loss: 0.0579 - accuracy: 0.9804 - val_loss: 0.5165 - val_accuracy: 0.8074\n",
      "Epoch 21/50\n",
      "161/161 [==============================] - ETA: 0s - loss: 0.0524 - accuracy: 0.9819\n",
      "Epoch 00021: val_loss improved from 0.19697 to 0.18908, saving model to trained_models/model-acc-0.9317-loss-0.1891.hdf5\n",
      "161/161 [==============================] - 51s 318ms/step - loss: 0.0524 - accuracy: 0.9819 - val_loss: 0.1891 - val_accuracy: 0.9317\n",
      "Epoch 22/50\n",
      "161/161 [==============================] - ETA: 0s - loss: 0.0475 - accuracy: 0.9840\n",
      "Epoch 00022: val_loss did not improve from 0.18908\n",
      "161/161 [==============================] - 47s 290ms/step - loss: 0.0475 - accuracy: 0.9840 - val_loss: 2.7355 - val_accuracy: 0.6182\n",
      "Epoch 23/50\n",
      "161/161 [==============================] - ETA: 0s - loss: 0.0581 - accuracy: 0.9798\n",
      "Epoch 00023: val_loss did not improve from 0.18908\n",
      "161/161 [==============================] - 47s 289ms/step - loss: 0.0581 - accuracy: 0.9798 - val_loss: 0.7462 - val_accuracy: 0.7285\n",
      "Epoch 24/50\n",
      "161/161 [==============================] - ETA: 0s - loss: 0.0746 - accuracy: 0.9759\n",
      "Epoch 00024: val_loss improved from 0.18908 to 0.16705, saving model to trained_models/model-acc-0.9580-loss-0.1671.hdf5\n",
      "161/161 [==============================] - 46s 287ms/step - loss: 0.0746 - accuracy: 0.9759 - val_loss: 0.1671 - val_accuracy: 0.9580\n",
      "Epoch 25/50\n",
      "161/161 [==============================] - ETA: 0s - loss: 0.0499 - accuracy: 0.9819\n",
      "Epoch 00025: val_loss did not improve from 0.16705\n",
      "161/161 [==============================] - 46s 285ms/step - loss: 0.0499 - accuracy: 0.9819 - val_loss: 0.3229 - val_accuracy: 0.9142\n",
      "Epoch 26/50\n",
      "161/161 [==============================] - ETA: 0s - loss: 0.0434 - accuracy: 0.9842\n",
      "Epoch 00026: val_loss did not improve from 0.16705\n",
      "161/161 [==============================] - 49s 304ms/step - loss: 0.0434 - accuracy: 0.9842 - val_loss: 0.3089 - val_accuracy: 0.8897\n",
      "Epoch 27/50\n",
      "161/161 [==============================] - ETA: 0s - loss: 0.0394 - accuracy: 0.9864\n",
      "Epoch 00027: val_loss did not improve from 0.16705\n",
      "161/161 [==============================] - 47s 291ms/step - loss: 0.0394 - accuracy: 0.9864 - val_loss: 0.7687 - val_accuracy: 0.8249\n"
     ]
    },
    {
     "name": "stdout",
     "output_type": "stream",
     "text": [
      "Epoch 28/50\n",
      "161/161 [==============================] - ETA: 0s - loss: 0.0491 - accuracy: 0.9842\n",
      "Epoch 00028: val_loss did not improve from 0.16705\n",
      "161/161 [==============================] - 46s 284ms/step - loss: 0.0491 - accuracy: 0.9842 - val_loss: 0.5913 - val_accuracy: 0.7828\n",
      "Epoch 29/50\n",
      "161/161 [==============================] - ETA: 0s - loss: 0.0380 - accuracy: 0.9870\n",
      "Epoch 00029: val_loss did not improve from 0.16705\n",
      "161/161 [==============================] - 46s 283ms/step - loss: 0.0380 - accuracy: 0.9870 - val_loss: 0.7408 - val_accuracy: 0.8284\n",
      "Epoch 30/50\n",
      "161/161 [==============================] - ETA: 0s - loss: 0.0483 - accuracy: 0.9839\n",
      "Epoch 00030: val_loss did not improve from 0.16705\n",
      "161/161 [==============================] - 46s 285ms/step - loss: 0.0483 - accuracy: 0.9839 - val_loss: 0.2298 - val_accuracy: 0.9299\n",
      "Epoch 31/50\n",
      "161/161 [==============================] - ETA: 0s - loss: 0.0415 - accuracy: 0.9858\n",
      "Epoch 00031: val_loss did not improve from 0.16705\n",
      "161/161 [==============================] - 54s 335ms/step - loss: 0.0415 - accuracy: 0.9858 - val_loss: 0.1787 - val_accuracy: 0.9545\n",
      "Epoch 32/50\n",
      "161/161 [==============================] - ETA: 0s - loss: 0.0264 - accuracy: 0.9914\n",
      "Epoch 00032: val_loss did not improve from 0.16705\n",
      "161/161 [==============================] - 49s 304ms/step - loss: 0.0264 - accuracy: 0.9914 - val_loss: 0.2190 - val_accuracy: 0.9335\n",
      "Epoch 33/50\n",
      "161/161 [==============================] - ETA: 0s - loss: 0.0312 - accuracy: 0.9905\n",
      "Epoch 00033: val_loss did not improve from 0.16705\n",
      "161/161 [==============================] - 52s 321ms/step - loss: 0.0312 - accuracy: 0.9905 - val_loss: 0.1714 - val_accuracy: 0.9510\n",
      "Epoch 34/50\n",
      "161/161 [==============================] - ETA: 0s - loss: 0.0318 - accuracy: 0.9891\n",
      "Epoch 00034: val_loss did not improve from 0.16705\n",
      "161/161 [==============================] - 51s 314ms/step - loss: 0.0318 - accuracy: 0.9891 - val_loss: 0.6755 - val_accuracy: 0.8371\n",
      "Epoch 00034: early stopping\n"
     ]
    }
   ],
   "source": [
    "history3 = modelConv2.fit(\n",
    "    train_ds,\n",
    "    validation_data=val_ds,\n",
    "    epochs=50,\n",
    "    callbacks=create_callbacks(),\n",
    "    shuffle=True\n",
    ")"
   ]
  },
  {
   "cell_type": "code",
   "execution_count": 416,
   "id": "3ce8c6be",
   "metadata": {},
   "outputs": [
    {
     "data": {
      "image/png": "[encoded data removed]",
      "text/plain": [
       "<Figure size 576x360 with 1 Axes>"
      ]
     },
     "metadata": {
      "needs_background": "light"
     },
     "output_type": "display_data"
    }
   ],
   "source": [
    "pd.DataFrame(history3.history).plot(figsize=(8, 5))\n",
    "plt.grid(True)\n",
    "plt.gca().set_ylim(0, 1)\n",
    "plt.show()"
   ]
  },
  {
   "cell_type": "markdown",
   "id": "2b1009d4",
   "metadata": {},
   "source": [
    "## Tuning hyperparameters using keras-tuner"
   ]
  },
  {
   "cell_type": "code",
   "execution_count": 417,
   "id": "9aa9b47d",
   "metadata": {},
   "outputs": [],
   "source": [
    "from tensorflow.keras.optimizers import Adam"
   ]
  },
  {
   "cell_type": "code",
   "execution_count": 418,
   "id": "e4fcd02d",
   "metadata": {},
   "outputs": [],
   "source": [
    "import keras_tuner as kt"
   ]
  },
  {
   "cell_type": "code",
   "execution_count": 419,
   "id": "ccc3a507",
   "metadata": {},
   "outputs": [],
   "source": [
    "def create_model(hp):\n",
    "    \n",
    "    hp_dropout = hp.Float('dropout', 0.1, 0.4, step=0.1)\n",
    "    \n",
    "    model = Sequential([\n",
    "        resize_and_rescale,\n",
    "        Conv2D(32, (3,3), padding=\"same\", activation=\"relu\"),\n",
    "        BatchNormalization(),\n",
    "        Activation(\"relu\"),\n",
    "        MaxPooling2D((2,2)),\n",
    "        Dropout(hp_dropout),\n",
    "\n",
    "        Conv2D(32, 3, padding=\"same\", activation=\"relu\"),\n",
    "        BatchNormalization(),\n",
    "        Activation(\"relu\"),\n",
    "        MaxPooling2D((2,2)),\n",
    "        Dropout(hp_dropout),\n",
    "\n",
    "        Conv2D(64, 3, padding=\"same\", activation=\"relu\"),\n",
    "        BatchNormalization(),\n",
    "        Activation(\"relu\"),\n",
    "        MaxPooling2D((2,2)),\n",
    "        Dropout(hp_dropout),\n",
    "\n",
    "        Conv2D(64, 3, padding=\"same\", activation=\"relu\"),\n",
    "        BatchNormalization(),\n",
    "        Activation(\"relu\"),\n",
    "        MaxPooling2D((2,2)),\n",
    "        Dropout(hp_dropout),\n",
    "\n",
    "        Conv2D(128, 3, padding=\"same\", activation=\"relu\"),\n",
    "        BatchNormalization(),\n",
    "        Activation(\"relu\"),\n",
    "        MaxPooling2D((2,2)),\n",
    "        Dropout(hp_dropout),\n",
    "\n",
    "        Conv2D(256, 3, padding=\"same\", activation=\"relu\"),\n",
    "        BatchNormalization(),\n",
    "        Activation(\"relu\"),\n",
    "        MaxPooling2D((2,2)),\n",
    "        Dropout(hp_dropout),\n",
    "\n",
    "        Flatten(),\n",
    "        Dense(num_classes),\n",
    "        Activation(\"softmax\")\n",
    "    ])\n",
    "\n",
    "    hp_learning_rate = hp.Choice('learning_rate', values=[1e-2, 1e-3, 1e-4])\n",
    "    \n",
    "    model.compile(\n",
    "        optimizer=Adam(hp_learning_rate),\n",
    "        loss=\"SparseCategoricalCrossentropy\",  \n",
    "        metrics=['accuracy']\n",
    "    )\n",
    "    \n",
    "    return model"
   ]
  },
  {
   "cell_type": "code",
   "execution_count": 420,
   "id": "5f787570",
   "metadata": {},
   "outputs": [],
   "source": [
    "_callbacks = tf.keras.callbacks.EarlyStopping(monitor='val_loss', patience=10)"
   ]
  },
  {
   "cell_type": "markdown",
   "id": "c3fb7bdc",
   "metadata": {},
   "source": [
    "Hyperband is an optimized version of random search\n",
    "* hyperband paper: https://jmlr.org/papers/volume18/16-558/16-558.pdf"
   ]
  },
  {
   "cell_type": "code",
   "execution_count": 421,
   "id": "ec0102ef",
   "metadata": {},
   "outputs": [],
   "source": [
    "tuner = kt.Hyperband(create_model,\n",
    "                     objective=(\"val_accuracy\"),\n",
    "                     max_epochs=50,\n",
    "                     directory='hyperband',\n",
    "                     project_name='tuner')"
   ]
  },
  {
   "cell_type": "code",
   "execution_count": 422,
   "id": "a2d9a8e5",
   "metadata": {},
   "outputs": [
    {
     "name": "stdout",
     "output_type": "stream",
     "text": [
      "Trial 12 Complete [00h 01m 53s]\n",
      "val_accuracy: 0.24343256652355194\n",
      "\n",
      "Best val_accuracy So Far: 0.7443082332611084\n",
      "Total elapsed time: 00h 22m 02s\n"
     ]
    }
   ],
   "source": [
    "tuner.search(train_ds, validation_data=val_ds, epochs=50, shuffle=True, callbacks=[_callbacks])"
   ]
  },
  {
   "cell_type": "code",
   "execution_count": 423,
   "id": "3afb2393",
   "metadata": {},
   "outputs": [],
   "source": [
    "# Get the optimal hyperparameters\n",
    "best_hps=tuner.get_best_hyperparameters(num_trials=1)[0]"
   ]
  },
  {
   "cell_type": "code",
   "execution_count": 424,
   "id": "1e420130",
   "metadata": {},
   "outputs": [
    {
     "name": "stdout",
     "output_type": "stream",
     "text": [
      "Results summary\n",
      "Results in hyperband/tuner\n",
      "Showing 1 best trials\n",
      "Objective(name='val_accuracy', direction='max')\n",
      "Trial summary\n",
      "Hyperparameters:\n",
      "dropout: 0.1\n",
      "learning_rate: 0.01\n",
      "tuner/epochs: 2\n",
      "tuner/initial_epoch: 0\n",
      "tuner/bracket: 3\n",
      "tuner/round: 0\n",
      "Score: 0.7443082332611084\n"
     ]
    }
   ],
   "source": [
    "tuner.results_summary(num_trials=1)"
   ]
  },
  {
   "cell_type": "markdown",
   "id": "04983a27",
   "metadata": {},
   "source": [
    "Let's find out what is the best number of epochs"
   ]
  },
  {
   "cell_type": "code",
   "execution_count": 426,
   "id": "cf1a6126",
   "metadata": {},
   "outputs": [
    {
     "name": "stdout",
     "output_type": "stream",
     "text": [
      "Epoch 1/50\n"
     ]
    },
    {
     "name": "stderr",
     "output_type": "stream",
     "text": [
      "2022-06-01 12:04:16.681382: I tensorflow/core/grappler/optimizers/custom_graph_optimizer_registry.cc:112] Plugin optimizer for device_type GPU is enabled.\n"
     ]
    },
    {
     "name": "stdout",
     "output_type": "stream",
     "text": [
      "161/161 [==============================] - ETA: 0s - loss: 1.0358 - accuracy: 0.7001"
     ]
    },
    {
     "name": "stderr",
     "output_type": "stream",
     "text": [
      "2022-06-01 12:05:08.086722: I tensorflow/core/grappler/optimizers/custom_graph_optimizer_registry.cc:112] Plugin optimizer for device_type GPU is enabled.\n"
     ]
    },
    {
     "name": "stdout",
     "output_type": "stream",
     "text": [
      "161/161 [==============================] - 55s 330ms/step - loss: 1.0358 - accuracy: 0.7001 - val_loss: 1.1707 - val_accuracy: 0.4799\n",
      "Epoch 2/50\n",
      "161/161 [==============================] - 55s 336ms/step - loss: 0.5283 - accuracy: 0.8244 - val_loss: 0.7460 - val_accuracy: 0.6760\n",
      "Epoch 3/50\n",
      "161/161 [==============================] - 58s 355ms/step - loss: 0.3931 - accuracy: 0.8617 - val_loss: 0.8378 - val_accuracy: 0.7461\n",
      "Epoch 4/50\n",
      "161/161 [==============================] - 56s 343ms/step - loss: 0.3521 - accuracy: 0.8794 - val_loss: 0.3358 - val_accuracy: 0.8897\n",
      "Epoch 5/50\n",
      "161/161 [==============================] - 57s 351ms/step - loss: 0.2683 - accuracy: 0.9094 - val_loss: 0.3199 - val_accuracy: 0.8792\n",
      "Epoch 6/50\n",
      "161/161 [==============================] - 52s 319ms/step - loss: 0.1989 - accuracy: 0.9308 - val_loss: 0.2762 - val_accuracy: 0.9124\n",
      "Epoch 7/50\n",
      "161/161 [==============================] - 50s 310ms/step - loss: 0.1855 - accuracy: 0.9348 - val_loss: 1.4439 - val_accuracy: 0.7461\n",
      "Epoch 8/50\n",
      "161/161 [==============================] - 52s 319ms/step - loss: 0.1932 - accuracy: 0.9323 - val_loss: 2.3085 - val_accuracy: 0.7023\n",
      "Epoch 9/50\n",
      "161/161 [==============================] - 54s 336ms/step - loss: 0.1717 - accuracy: 0.9370 - val_loss: 0.2837 - val_accuracy: 0.9124\n",
      "Epoch 10/50\n",
      "161/161 [==============================] - 52s 320ms/step - loss: 0.1333 - accuracy: 0.9531 - val_loss: 0.3562 - val_accuracy: 0.9019\n",
      "Epoch 11/50\n",
      "161/161 [==============================] - 52s 320ms/step - loss: 0.1214 - accuracy: 0.9599 - val_loss: 0.4001 - val_accuracy: 0.8739\n",
      "Epoch 12/50\n",
      "161/161 [==============================] - 53s 325ms/step - loss: 0.0931 - accuracy: 0.9673 - val_loss: 0.2622 - val_accuracy: 0.9282\n",
      "Epoch 13/50\n",
      "161/161 [==============================] - 51s 314ms/step - loss: 0.0965 - accuracy: 0.9663 - val_loss: 0.2203 - val_accuracy: 0.9440\n",
      "Epoch 14/50\n",
      "161/161 [==============================] - 53s 327ms/step - loss: 0.0947 - accuracy: 0.9693 - val_loss: 0.1768 - val_accuracy: 0.9545\n",
      "Epoch 15/50\n",
      "161/161 [==============================] - 52s 323ms/step - loss: 0.0811 - accuracy: 0.9755 - val_loss: 0.3120 - val_accuracy: 0.9352\n",
      "Epoch 16/50\n",
      "161/161 [==============================] - 51s 316ms/step - loss: 0.0790 - accuracy: 0.9728 - val_loss: 0.1687 - val_accuracy: 0.9597\n",
      "Epoch 17/50\n",
      "161/161 [==============================] - 53s 326ms/step - loss: 0.0661 - accuracy: 0.9790 - val_loss: 0.2120 - val_accuracy: 0.9440\n",
      "Epoch 18/50\n",
      "161/161 [==============================] - 51s 313ms/step - loss: 0.0573 - accuracy: 0.9811 - val_loss: 0.3019 - val_accuracy: 0.9457\n",
      "Epoch 19/50\n",
      "161/161 [==============================] - 53s 325ms/step - loss: 0.0817 - accuracy: 0.9737 - val_loss: 0.5122 - val_accuracy: 0.8897\n",
      "Epoch 20/50\n",
      "161/161 [==============================] - 52s 319ms/step - loss: 0.0660 - accuracy: 0.9786 - val_loss: 0.3112 - val_accuracy: 0.9037\n",
      "Epoch 21/50\n",
      "161/161 [==============================] - 51s 315ms/step - loss: 0.0757 - accuracy: 0.9757 - val_loss: 0.3483 - val_accuracy: 0.9124\n",
      "Epoch 22/50\n",
      "161/161 [==============================] - 50s 310ms/step - loss: 0.0616 - accuracy: 0.9821 - val_loss: 0.3159 - val_accuracy: 0.9370\n",
      "Epoch 23/50\n",
      "161/161 [==============================] - 51s 316ms/step - loss: 0.0553 - accuracy: 0.9829 - val_loss: 0.2380 - val_accuracy: 0.9422\n",
      "Epoch 24/50\n",
      "161/161 [==============================] - 51s 316ms/step - loss: 0.0528 - accuracy: 0.9839 - val_loss: 0.3058 - val_accuracy: 0.9370\n",
      "Epoch 25/50\n",
      "161/161 [==============================] - 51s 316ms/step - loss: 0.0520 - accuracy: 0.9815 - val_loss: 0.2794 - val_accuracy: 0.9387\n",
      "Epoch 26/50\n",
      "161/161 [==============================] - 55s 338ms/step - loss: 0.0394 - accuracy: 0.9868 - val_loss: 0.1811 - val_accuracy: 0.9562\n",
      "Epoch 27/50\n",
      "161/161 [==============================] - 57s 351ms/step - loss: 0.0386 - accuracy: 0.9864 - val_loss: 0.2428 - val_accuracy: 0.9370\n",
      "Epoch 28/50\n",
      "161/161 [==============================] - 55s 340ms/step - loss: 0.0699 - accuracy: 0.9769 - val_loss: 0.2706 - val_accuracy: 0.9440\n",
      "Epoch 29/50\n",
      "161/161 [==============================] - 52s 321ms/step - loss: 0.0660 - accuracy: 0.9769 - val_loss: 0.1883 - val_accuracy: 0.9457\n",
      "Epoch 30/50\n",
      "161/161 [==============================] - 51s 316ms/step - loss: 0.0329 - accuracy: 0.9899 - val_loss: 0.1918 - val_accuracy: 0.9527\n",
      "Epoch 31/50\n",
      "161/161 [==============================] - 51s 315ms/step - loss: 0.0727 - accuracy: 0.9769 - val_loss: 0.6678 - val_accuracy: 0.8651\n",
      "Epoch 32/50\n",
      "161/161 [==============================] - 51s 314ms/step - loss: 0.0774 - accuracy: 0.9745 - val_loss: 0.2475 - val_accuracy: 0.9282\n",
      "Epoch 33/50\n",
      "161/161 [==============================] - 53s 326ms/step - loss: 0.0337 - accuracy: 0.9864 - val_loss: 0.2759 - val_accuracy: 0.9597\n",
      "Epoch 34/50\n",
      "161/161 [==============================] - 51s 317ms/step - loss: 0.0281 - accuracy: 0.9891 - val_loss: 0.2308 - val_accuracy: 0.9545\n",
      "Epoch 35/50\n",
      "161/161 [==============================] - 50s 307ms/step - loss: 0.0451 - accuracy: 0.9876 - val_loss: 0.2777 - val_accuracy: 0.9475\n",
      "Epoch 36/50\n",
      "161/161 [==============================] - 50s 309ms/step - loss: 0.0401 - accuracy: 0.9864 - val_loss: 0.3012 - val_accuracy: 0.9457\n",
      "Epoch 37/50\n",
      "161/161 [==============================] - 50s 311ms/step - loss: 0.0367 - accuracy: 0.9879 - val_loss: 0.3316 - val_accuracy: 0.9422\n",
      "Epoch 38/50\n",
      "161/161 [==============================] - 50s 311ms/step - loss: 0.0595 - accuracy: 0.9811 - val_loss: 0.5428 - val_accuracy: 0.9019\n",
      "Epoch 39/50\n",
      "161/161 [==============================] - 53s 328ms/step - loss: 0.0449 - accuracy: 0.9858 - val_loss: 0.3451 - val_accuracy: 0.9054\n",
      "Epoch 40/50\n",
      "161/161 [==============================] - 52s 322ms/step - loss: 0.0346 - accuracy: 0.9897 - val_loss: 0.2549 - val_accuracy: 0.9562\n",
      "Epoch 41/50\n",
      "161/161 [==============================] - 51s 315ms/step - loss: 0.0477 - accuracy: 0.9850 - val_loss: 0.2560 - val_accuracy: 0.9510\n",
      "Epoch 42/50\n",
      "161/161 [==============================] - 52s 323ms/step - loss: 0.0476 - accuracy: 0.9862 - val_loss: 0.2089 - val_accuracy: 0.9632\n",
      "Epoch 43/50\n",
      "161/161 [==============================] - 57s 347ms/step - loss: 0.0252 - accuracy: 0.9914 - val_loss: 0.2544 - val_accuracy: 0.9580\n",
      "Epoch 44/50\n",
      "161/161 [==============================] - 54s 333ms/step - loss: 0.0167 - accuracy: 0.9947 - val_loss: 0.2418 - val_accuracy: 0.9562\n",
      "Epoch 45/50\n",
      "161/161 [==============================] - 52s 324ms/step - loss: 0.0162 - accuracy: 0.9951 - val_loss: 0.2211 - val_accuracy: 0.9545\n",
      "Epoch 46/50\n",
      "161/161 [==============================] - 53s 331ms/step - loss: 0.0292 - accuracy: 0.9909 - val_loss: 0.2832 - val_accuracy: 0.9510\n",
      "Epoch 47/50\n",
      "161/161 [==============================] - 52s 321ms/step - loss: 0.0409 - accuracy: 0.9870 - val_loss: 0.3838 - val_accuracy: 0.9527\n",
      "Epoch 48/50\n",
      "161/161 [==============================] - 57s 351ms/step - loss: 0.0407 - accuracy: 0.9874 - val_loss: 0.3464 - val_accuracy: 0.9299\n",
      "Epoch 49/50\n",
      "161/161 [==============================] - 54s 331ms/step - loss: 0.0614 - accuracy: 0.9819 - val_loss: 0.3546 - val_accuracy: 0.9352\n",
      "Epoch 50/50\n",
      "161/161 [==============================] - 51s 314ms/step - loss: 0.0378 - accuracy: 0.9879 - val_loss: 0.2495 - val_accuracy: 0.9527\n",
      "Best epoch: 42\n"
     ]
    }
   ],
   "source": [
    "model = tuner.hypermodel.build(best_hps)\n",
    "history = model.fit(train_ds, validation_data=val_ds, epochs=50, shuffle=True)\n",
    "\n",
    "val_accuracy_per_epoch = history.history['val_accuracy']\n",
    "best_epoch = val_accuracy_per_epoch.index(max(val_accuracy_per_epoch)) + 1\n",
    "print('Best epoch: %d' % (best_epoch,))"
   ]
  },
  {
   "cell_type": "markdown",
   "id": "19859c4a",
   "metadata": {},
   "source": [
    "Now retrain the model with best number of epochs"
   ]
  },
  {
   "cell_type": "code",
   "execution_count": 451,
   "id": "a80f36bc",
   "metadata": {},
   "outputs": [
    {
     "name": "stdout",
     "output_type": "stream",
     "text": [
      "Epoch 1/42\n"
     ]
    },
    {
     "name": "stderr",
     "output_type": "stream",
     "text": [
      "2022-06-01 13:33:50.114482: I tensorflow/core/grappler/optimizers/custom_graph_optimizer_registry.cc:112] Plugin optimizer for device_type GPU is enabled.\n"
     ]
    },
    {
     "name": "stdout",
     "output_type": "stream",
     "text": [
      "161/161 [==============================] - ETA: 0s - loss: 1.1484 - accuracy: 0.6625"
     ]
    },
    {
     "name": "stderr",
     "output_type": "stream",
     "text": [
      "2022-06-01 13:34:24.709810: I tensorflow/core/grappler/optimizers/custom_graph_optimizer_registry.cc:112] Plugin optimizer for device_type GPU is enabled.\n"
     ]
    },
    {
     "name": "stdout",
     "output_type": "stream",
     "text": [
      "161/161 [==============================] - 37s 220ms/step - loss: 1.1484 - accuracy: 0.6625 - val_loss: 0.8214 - val_accuracy: 0.6778\n",
      "Epoch 2/42\n",
      "161/161 [==============================] - 34s 211ms/step - loss: 0.5902 - accuracy: 0.8096 - val_loss: 0.7134 - val_accuracy: 0.7356\n",
      "Epoch 3/42\n",
      "161/161 [==============================] - 34s 210ms/step - loss: 0.3537 - accuracy: 0.8763 - val_loss: 0.4839 - val_accuracy: 0.8319\n",
      "Epoch 4/42\n",
      "161/161 [==============================] - 38s 235ms/step - loss: 0.2943 - accuracy: 0.8969 - val_loss: 0.3051 - val_accuracy: 0.8967\n",
      "Epoch 5/42\n",
      "161/161 [==============================] - 35s 216ms/step - loss: 0.2418 - accuracy: 0.9107 - val_loss: 0.3473 - val_accuracy: 0.9002\n",
      "Epoch 6/42\n",
      "161/161 [==============================] - 36s 223ms/step - loss: 0.2312 - accuracy: 0.9177 - val_loss: 0.3177 - val_accuracy: 0.9002\n",
      "Epoch 7/42\n",
      "161/161 [==============================] - 35s 214ms/step - loss: 0.1957 - accuracy: 0.9286 - val_loss: 0.2387 - val_accuracy: 0.9282\n",
      "Epoch 8/42\n",
      "161/161 [==============================] - 34s 212ms/step - loss: 0.1691 - accuracy: 0.9391 - val_loss: 0.5868 - val_accuracy: 0.8039\n",
      "Epoch 9/42\n",
      "161/161 [==============================] - 34s 212ms/step - loss: 0.1414 - accuracy: 0.9455 - val_loss: 0.2439 - val_accuracy: 0.9212\n",
      "Epoch 10/42\n",
      "161/161 [==============================] - 34s 212ms/step - loss: 0.1195 - accuracy: 0.9592 - val_loss: 0.2139 - val_accuracy: 0.9405\n",
      "Epoch 11/42\n",
      "161/161 [==============================] - 34s 212ms/step - loss: 0.1351 - accuracy: 0.9527 - val_loss: 0.2452 - val_accuracy: 0.9194\n",
      "Epoch 12/42\n",
      "161/161 [==============================] - 34s 212ms/step - loss: 0.1290 - accuracy: 0.9555 - val_loss: 0.4181 - val_accuracy: 0.8757\n",
      "Epoch 13/42\n",
      "161/161 [==============================] - 34s 210ms/step - loss: 0.1201 - accuracy: 0.9572 - val_loss: 0.4339 - val_accuracy: 0.8546\n",
      "Epoch 14/42\n",
      "161/161 [==============================] - 34s 211ms/step - loss: 0.1035 - accuracy: 0.9632 - val_loss: 0.2412 - val_accuracy: 0.9299\n",
      "Epoch 15/42\n",
      "161/161 [==============================] - 34s 211ms/step - loss: 0.0838 - accuracy: 0.9699 - val_loss: 0.3510 - val_accuracy: 0.8984\n",
      "Epoch 16/42\n",
      "161/161 [==============================] - 34s 211ms/step - loss: 0.0797 - accuracy: 0.9726 - val_loss: 0.2162 - val_accuracy: 0.9492\n",
      "Epoch 17/42\n",
      "161/161 [==============================] - 34s 211ms/step - loss: 0.0834 - accuracy: 0.9706 - val_loss: 0.4034 - val_accuracy: 0.9054\n",
      "Epoch 18/42\n",
      "161/161 [==============================] - 34s 214ms/step - loss: 0.0940 - accuracy: 0.9702 - val_loss: 0.2931 - val_accuracy: 0.9282\n",
      "Epoch 19/42\n",
      "161/161 [==============================] - 34s 212ms/step - loss: 0.0742 - accuracy: 0.9710 - val_loss: 0.1816 - val_accuracy: 0.9457\n",
      "Epoch 20/42\n",
      "161/161 [==============================] - 34s 213ms/step - loss: 0.0831 - accuracy: 0.9728 - val_loss: 0.2608 - val_accuracy: 0.9457\n",
      "Epoch 21/42\n",
      "161/161 [==============================] - 34s 212ms/step - loss: 0.0550 - accuracy: 0.9833 - val_loss: 0.3021 - val_accuracy: 0.9405\n",
      "Epoch 22/42\n",
      "161/161 [==============================] - 35s 214ms/step - loss: 0.0573 - accuracy: 0.9817 - val_loss: 0.2707 - val_accuracy: 0.9405\n",
      "Epoch 23/42\n",
      "161/161 [==============================] - 36s 222ms/step - loss: 0.0719 - accuracy: 0.9765 - val_loss: 0.3001 - val_accuracy: 0.9422\n",
      "Epoch 24/42\n",
      "161/161 [==============================] - 34s 213ms/step - loss: 0.0687 - accuracy: 0.9782 - val_loss: 0.4197 - val_accuracy: 0.9159\n",
      "Epoch 25/42\n",
      "161/161 [==============================] - 34s 212ms/step - loss: 0.0719 - accuracy: 0.9759 - val_loss: 0.2582 - val_accuracy: 0.9510\n",
      "Epoch 26/42\n",
      "161/161 [==============================] - 34s 213ms/step - loss: 0.0704 - accuracy: 0.9759 - val_loss: 0.2009 - val_accuracy: 0.9457\n",
      "Epoch 27/42\n",
      "161/161 [==============================] - 34s 213ms/step - loss: 0.0403 - accuracy: 0.9856 - val_loss: 0.2223 - val_accuracy: 0.9597\n",
      "Epoch 28/42\n",
      "161/161 [==============================] - 34s 212ms/step - loss: 0.0370 - accuracy: 0.9887 - val_loss: 0.3067 - val_accuracy: 0.9229\n",
      "Epoch 29/42\n",
      "161/161 [==============================] - 34s 212ms/step - loss: 0.0658 - accuracy: 0.9788 - val_loss: 0.2230 - val_accuracy: 0.9597\n",
      "Epoch 30/42\n",
      "161/161 [==============================] - 36s 222ms/step - loss: 0.0573 - accuracy: 0.9807 - val_loss: 0.2119 - val_accuracy: 0.9597\n",
      "Epoch 31/42\n",
      "161/161 [==============================] - 43s 265ms/step - loss: 0.0470 - accuracy: 0.9837 - val_loss: 0.1957 - val_accuracy: 0.9650\n",
      "Epoch 32/42\n",
      "161/161 [==============================] - 37s 225ms/step - loss: 0.0403 - accuracy: 0.9844 - val_loss: 0.2963 - val_accuracy: 0.9247\n",
      "Epoch 33/42\n",
      "161/161 [==============================] - 35s 215ms/step - loss: 0.0883 - accuracy: 0.9743 - val_loss: 0.3245 - val_accuracy: 0.9299\n",
      "Epoch 34/42\n",
      "161/161 [==============================] - 35s 214ms/step - loss: 0.0756 - accuracy: 0.9739 - val_loss: 0.3665 - val_accuracy: 0.9317\n",
      "Epoch 35/42\n",
      "161/161 [==============================] - 34s 213ms/step - loss: 0.0524 - accuracy: 0.9840 - val_loss: 0.3272 - val_accuracy: 0.9405\n",
      "Epoch 36/42\n",
      "161/161 [==============================] - 34s 212ms/step - loss: 0.0340 - accuracy: 0.9885 - val_loss: 0.2699 - val_accuracy: 0.9440\n",
      "Epoch 37/42\n",
      "161/161 [==============================] - 34s 211ms/step - loss: 0.0290 - accuracy: 0.9901 - val_loss: 0.2497 - val_accuracy: 0.9580\n",
      "Epoch 38/42\n",
      "161/161 [==============================] - 34s 212ms/step - loss: 0.0291 - accuracy: 0.9891 - val_loss: 0.3018 - val_accuracy: 0.9387\n",
      "Epoch 39/42\n",
      "161/161 [==============================] - 34s 213ms/step - loss: 0.0345 - accuracy: 0.9881 - val_loss: 0.3960 - val_accuracy: 0.9370\n",
      "Epoch 40/42\n",
      "161/161 [==============================] - 35s 214ms/step - loss: 0.0525 - accuracy: 0.9848 - val_loss: 0.2858 - val_accuracy: 0.9264\n",
      "Epoch 41/42\n",
      "161/161 [==============================] - 35s 218ms/step - loss: 0.0528 - accuracy: 0.9831 - val_loss: 0.4037 - val_accuracy: 0.9124\n",
      "Epoch 42/42\n",
      "161/161 [==============================] - 35s 218ms/step - loss: 0.0381 - accuracy: 0.9868 - val_loss: 0.2380 - val_accuracy: 0.9615\n"
     ]
    }
   ],
   "source": [
    "hypermodel = tuner.hypermodel.build(best_hps)\n",
    "\n",
    "history4 = hypermodel.fit(train_ds, validation_data=val_ds, epochs=best_epoch, shuffle=True)"
   ]
  },
  {
   "cell_type": "code",
   "execution_count": 452,
   "id": "a363675c",
   "metadata": {},
   "outputs": [
    {
     "data": {
      "image/png": "[encoded data removed]",
      "text/plain": [
       "<Figure size 576x360 with 1 Axes>"
      ]
     },
     "metadata": {
      "needs_background": "light"
     },
     "output_type": "display_data"
    }
   ],
   "source": [
    "pd.DataFrame(history4.history).plot(figsize=(8, 5))\n",
    "plt.grid(True)\n",
    "plt.gca().set_ylim(0, 1)\n",
    "plt.show()"
   ]
  },
  {
   "cell_type": "code",
   "execution_count": 453,
   "id": "a4b902b9",
   "metadata": {},
   "outputs": [],
   "source": [
    "hypermodel.save(\"trained_models/hypermodel.hdf5\")"
   ]
  },
  {
   "cell_type": "code",
   "execution_count": 454,
   "id": "3a2446a6",
   "metadata": {},
   "outputs": [
    {
     "name": "stdout",
     "output_type": "stream",
     "text": [
      "41/41 [==============================] - 3s 77ms/step - loss: 0.2035 - accuracy: 0.9535\n",
      "[test loss, test accuracy]: [0.2035461962223053, 0.9534706473350525]\n"
     ]
    }
   ],
   "source": [
    "eval_result = hypermodel.evaluate(test_ds)\n",
    "print(\"[test loss, test accuracy]:\", eval_result)"
   ]
  },
  {
   "cell_type": "markdown",
   "id": "233bb5f0",
   "metadata": {},
   "source": [
    "#### Transfer learning"
   ]
  },
  {
   "cell_type": "code",
   "execution_count": 476,
   "id": "261d116d",
   "metadata": {},
   "outputs": [
    {
     "name": "stdout",
     "output_type": "stream",
     "text": [
      "Model: \"sequential_7\"\n",
      "_________________________________________________________________\n",
      " Layer (type)                Output Shape              Param #   \n",
      "=================================================================\n",
      " vgg16 (Functional)          (None, 5, 5, 512)         14714688  \n",
      "                                                                 \n",
      " flatten_7 (Flatten)         (None, 12800)             0         \n",
      "                                                                 \n",
      " dense_9 (Dense)             (None, 256)               3277056   \n",
      "                                                                 \n",
      " dense_10 (Dense)            (None, 4)                 1028      \n",
      "                                                                 \n",
      " activation_37 (Activation)  (None, 4)                 0         \n",
      "                                                                 \n",
      "=================================================================\n",
      "Total params: 17,992,772\n",
      "Trainable params: 3,278,084\n",
      "Non-trainable params: 14,714,688\n",
      "_________________________________________________________________\n"
     ]
    }
   ],
   "source": [
    "from keras.applications.vgg16 import VGG16\n",
    "\n",
    "_VGG16 = VGG16(weights='imagenet',\n",
    "                   include_top=False,\n",
    "                   input_shape=(img_height,img_width,3))\n",
    "\n",
    "modelVGG16_1 = Sequential([\n",
    "    _VGG16,\n",
    "    Flatten(),\n",
    "    Dense(256, activation='relu'),\n",
    "    Dense(num_classes),\n",
    "    Activation(\"softmax\")\n",
    "])\n",
    "\n",
    "modelVGG16_1.layers[0].trainable = False\n",
    "\n",
    "modelVGG16_1.summary()"
   ]
  },
  {
   "cell_type": "code",
   "execution_count": 477,
   "id": "ff196cba",
   "metadata": {},
   "outputs": [
    {
     "name": "stdout",
     "output_type": "stream",
     "text": [
      "Epoch 1/30\n"
     ]
    },
    {
     "name": "stderr",
     "output_type": "stream",
     "text": [
      "2022-06-01 14:15:39.923041: I tensorflow/core/grappler/optimizers/custom_graph_optimizer_registry.cc:112] Plugin optimizer for device_type GPU is enabled.\n"
     ]
    },
    {
     "name": "stdout",
     "output_type": "stream",
     "text": [
      "161/161 [==============================] - ETA: 0s - loss: 3.4308 - accuracy: 0.8413"
     ]
    },
    {
     "name": "stderr",
     "output_type": "stream",
     "text": [
      "2022-06-01 14:16:48.281655: I tensorflow/core/grappler/optimizers/custom_graph_optimizer_registry.cc:112] Plugin optimizer for device_type GPU is enabled.\n"
     ]
    },
    {
     "name": "stdout",
     "output_type": "stream",
     "text": [
      "161/161 [==============================] - 78s 480ms/step - loss: 3.4308 - accuracy: 0.8413 - val_loss: 0.5422 - val_accuracy: 0.9019\n",
      "Epoch 2/30\n",
      "161/161 [==============================] - 87s 539ms/step - loss: 0.1762 - accuracy: 0.9560 - val_loss: 0.4222 - val_accuracy: 0.9299\n",
      "Epoch 3/30\n",
      "161/161 [==============================] - 133s 829ms/step - loss: 0.0883 - accuracy: 0.9770 - val_loss: 0.4048 - val_accuracy: 0.9299\n",
      "Epoch 4/30\n",
      "161/161 [==============================] - 114s 710ms/step - loss: 0.0438 - accuracy: 0.9868 - val_loss: 0.4720 - val_accuracy: 0.9282\n",
      "Epoch 5/30\n",
      "161/161 [==============================] - 112s 694ms/step - loss: 0.0683 - accuracy: 0.9815 - val_loss: 0.5181 - val_accuracy: 0.9229\n",
      "Epoch 6/30\n",
      "161/161 [==============================] - 116s 723ms/step - loss: 0.0822 - accuracy: 0.9784 - val_loss: 0.3813 - val_accuracy: 0.9405\n",
      "Epoch 7/30\n",
      "161/161 [==============================] - 122s 761ms/step - loss: 0.0485 - accuracy: 0.9879 - val_loss: 0.4458 - val_accuracy: 0.9457\n",
      "Epoch 8/30\n",
      "161/161 [==============================] - 128s 788ms/step - loss: 0.0397 - accuracy: 0.9901 - val_loss: 0.5086 - val_accuracy: 0.9440\n",
      "Epoch 9/30\n",
      "161/161 [==============================] - 133s 830ms/step - loss: 0.0429 - accuracy: 0.9881 - val_loss: 0.4658 - val_accuracy: 0.9510\n",
      "Epoch 10/30\n",
      "161/161 [==============================] - 141s 876ms/step - loss: 0.0262 - accuracy: 0.9932 - val_loss: 0.6627 - val_accuracy: 0.9335\n",
      "Epoch 11/30\n",
      "161/161 [==============================] - 131s 811ms/step - loss: 0.0529 - accuracy: 0.9899 - val_loss: 0.4013 - val_accuracy: 0.9492\n",
      "Epoch 12/30\n",
      "161/161 [==============================] - 127s 791ms/step - loss: 0.0289 - accuracy: 0.9936 - val_loss: 0.4731 - val_accuracy: 0.9562\n",
      "Epoch 13/30\n",
      "161/161 [==============================] - 129s 805ms/step - loss: 0.0308 - accuracy: 0.9938 - val_loss: 0.6396 - val_accuracy: 0.9457\n",
      "Epoch 14/30\n",
      "161/161 [==============================] - 124s 767ms/step - loss: 0.0382 - accuracy: 0.9891 - val_loss: 1.2197 - val_accuracy: 0.9019\n",
      "Epoch 15/30\n",
      "161/161 [==============================] - 127s 788ms/step - loss: 0.1037 - accuracy: 0.9800 - val_loss: 0.7836 - val_accuracy: 0.9422\n",
      "Epoch 16/30\n",
      "161/161 [==============================] - 128s 798ms/step - loss: 0.0265 - accuracy: 0.9942 - val_loss: 0.4886 - val_accuracy: 0.9527\n"
     ]
    }
   ],
   "source": [
    "modelVGG16_1.compile(\n",
    "  optimizer='adam',\n",
    "  loss=\"SparseCategoricalCrossentropy\",  \n",
    "  metrics=['accuracy'])\n",
    "\n",
    "history5 = modelVGG16_1.fit(\n",
    "    train_ds,\n",
    "    validation_data=val_ds,\n",
    "    epochs=30,\n",
    "    callbacks=_callbacks,\n",
    "    shuffle=True\n",
    ")"
   ]
  },
  {
   "cell_type": "code",
   "execution_count": 478,
   "id": "d488058e",
   "metadata": {},
   "outputs": [
    {
     "data": {
      "image/png": "[encoded data removed]",
      "text/plain": [
       "<Figure size 576x360 with 1 Axes>"
      ]
     },
     "metadata": {
      "needs_background": "light"
     },
     "output_type": "display_data"
    }
   ],
   "source": [
    "pd.DataFrame(history5.history).plot(figsize=(8, 5))\n",
    "plt.grid(True)\n",
    "plt.gca().set_ylim(0, 1)\n",
    "plt.show()"
   ]
  },
  {
   "cell_type": "markdown",
   "id": "9b40c818",
   "metadata": {},
   "source": [
    "## Model evaluation"
   ]
  },
  {
   "cell_type": "markdown",
   "id": "5b0fb023",
   "metadata": {},
   "source": [
    "Let's evaluate all saved models on test set"
   ]
  },
  {
   "cell_type": "code",
   "execution_count": 17,
   "id": "8f948c4a",
   "metadata": {},
   "outputs": [
    {
     "name": "stdout",
     "output_type": "stream",
     "text": [
      "Found 1311 files belonging to 4 classes.\n"
     ]
    }
   ],
   "source": [
    "test_ds = image_dataset_from_directory(\n",
    "  \"Testing/\",\n",
    "  image_size=(img_height, img_width),\n",
    "  shuffle=False)"
   ]
  },
  {
   "cell_type": "code",
   "execution_count": 20,
   "id": "b51b31d4",
   "metadata": {},
   "outputs": [],
   "source": [
    "trained_models = {}\n",
    "\n",
    "for filename in os.listdir(TRAINED_MODEL_DIR):\n",
    "    f = os.path.join(TRAINED_MODEL_DIR, filename)\n",
    "    if \"hdf5\" in f:\n",
    "        trained_models[filename] = f"
   ]
  },
  {
   "cell_type": "code",
   "execution_count": 21,
   "id": "946e54a1",
   "metadata": {},
   "outputs": [
    {
     "data": {
      "text/plain": [
       "{'hypermodel.hdf5': 'trained_models/hypermodel.hdf5',\n",
       " 'model-acc-0.3012-loss-1.3562.hdf5': 'trained_models/model-acc-0.3012-loss-1.3562.hdf5',\n",
       " 'model-acc-0.3012-loss-1.3860.hdf5': 'trained_models/model-acc-0.3012-loss-1.3860.hdf5',\n",
       " 'model-acc-0.4413-loss-1.1963.hdf5': 'trained_models/model-acc-0.4413-loss-1.1963.hdf5',\n",
       " 'model-acc-0.5972-loss-1.0114.hdf5': 'trained_models/model-acc-0.5972-loss-1.0114.hdf5',\n",
       " 'model-acc-0.6252-loss-1.0909.hdf5': 'trained_models/model-acc-0.6252-loss-1.0909.hdf5',\n",
       " 'model-acc-0.6270-loss-0.9129.hdf5': 'trained_models/model-acc-0.6270-loss-0.9129.hdf5',\n",
       " 'model-acc-0.6532-loss-0.8097.hdf5': 'trained_models/model-acc-0.6532-loss-0.8097.hdf5',\n",
       " 'model-acc-0.6567-loss-0.8057.hdf5': 'trained_models/model-acc-0.6567-loss-0.8057.hdf5',\n",
       " 'model-acc-0.7128-loss-1.3214.hdf5': 'trained_models/model-acc-0.7128-loss-1.3214.hdf5',\n",
       " 'model-acc-0.7408-loss-0.6141.hdf5': 'trained_models/model-acc-0.7408-loss-0.6141.hdf5',\n",
       " 'model-acc-0.7601-loss-0.5940.hdf5': 'trained_models/model-acc-0.7601-loss-0.5940.hdf5',\n",
       " 'model-acc-0.7688-loss-0.7580.hdf5': 'trained_models/model-acc-0.7688-loss-0.7580.hdf5',\n",
       " 'model-acc-0.7881-loss-0.5166.hdf5': 'trained_models/model-acc-0.7881-loss-0.5166.hdf5',\n",
       " 'model-acc-0.8109-loss-0.7747.hdf5': 'trained_models/model-acc-0.8109-loss-0.7747.hdf5',\n",
       " 'model-acc-0.8161-loss-0.4800.hdf5': 'trained_models/model-acc-0.8161-loss-0.4800.hdf5',\n",
       " 'model-acc-0.8231-loss-0.4934.hdf5': 'trained_models/model-acc-0.8231-loss-0.4934.hdf5',\n",
       " 'model-acc-0.8319-loss-0.4977.hdf5': 'trained_models/model-acc-0.8319-loss-0.4977.hdf5',\n",
       " 'model-acc-0.8406-loss-0.4258.hdf5': 'trained_models/model-acc-0.8406-loss-0.4258.hdf5',\n",
       " 'model-acc-0.8441-loss-0.4005.hdf5': 'trained_models/model-acc-0.8441-loss-0.4005.hdf5',\n",
       " 'model-acc-0.8529-loss-0.4007.hdf5': 'trained_models/model-acc-0.8529-loss-0.4007.hdf5',\n",
       " 'model-acc-0.8546-loss-0.4733.hdf5': 'trained_models/model-acc-0.8546-loss-0.4733.hdf5',\n",
       " 'model-acc-0.8564-loss-0.3768.hdf5': 'trained_models/model-acc-0.8564-loss-0.3768.hdf5',\n",
       " 'model-acc-0.8599-loss-0.4230.hdf5': 'trained_models/model-acc-0.8599-loss-0.4230.hdf5',\n",
       " 'model-acc-0.8651-loss-0.4050.hdf5': 'trained_models/model-acc-0.8651-loss-0.4050.hdf5',\n",
       " 'model-acc-0.8739-loss-0.3156.hdf5': 'trained_models/model-acc-0.8739-loss-0.3156.hdf5',\n",
       " 'model-acc-0.8757-loss-0.3293.hdf5': 'trained_models/model-acc-0.8757-loss-0.3293.hdf5',\n",
       " 'model-acc-0.8809-loss-0.3382.hdf5': 'trained_models/model-acc-0.8809-loss-0.3382.hdf5',\n",
       " 'model-acc-0.8809-loss-0.3712.hdf5': 'trained_models/model-acc-0.8809-loss-0.3712.hdf5',\n",
       " 'model-acc-0.8844-loss-0.2809.hdf5': 'trained_models/model-acc-0.8844-loss-0.2809.hdf5',\n",
       " 'model-acc-0.8897-loss-0.2733.hdf5': 'trained_models/model-acc-0.8897-loss-0.2733.hdf5',\n",
       " 'model-acc-0.8932-loss-0.2865.hdf5': 'trained_models/model-acc-0.8932-loss-0.2865.hdf5',\n",
       " 'model-acc-0.8967-loss-0.3120.hdf5': 'trained_models/model-acc-0.8967-loss-0.3120.hdf5',\n",
       " 'model-acc-0.9037-loss-0.2482.hdf5': 'trained_models/model-acc-0.9037-loss-0.2482.hdf5',\n",
       " 'model-acc-0.9142-loss-0.2695.hdf5': 'trained_models/model-acc-0.9142-loss-0.2695.hdf5',\n",
       " 'model-acc-0.9159-loss-0.2423.hdf5': 'trained_models/model-acc-0.9159-loss-0.2423.hdf5',\n",
       " 'model-acc-0.9159-loss-0.2505.hdf5': 'trained_models/model-acc-0.9159-loss-0.2505.hdf5',\n",
       " 'model-acc-0.9247-loss-0.2272.hdf5': 'trained_models/model-acc-0.9247-loss-0.2272.hdf5',\n",
       " 'model-acc-0.9299-loss-0.2465.hdf5': 'trained_models/model-acc-0.9299-loss-0.2465.hdf5',\n",
       " 'model-acc-0.9317-loss-0.1891.hdf5': 'trained_models/model-acc-0.9317-loss-0.1891.hdf5',\n",
       " 'model-acc-0.9317-loss-0.2010.hdf5': 'trained_models/model-acc-0.9317-loss-0.2010.hdf5',\n",
       " 'model-acc-0.9405-loss-0.1970.hdf5': 'trained_models/model-acc-0.9405-loss-0.1970.hdf5',\n",
       " 'model-acc-0.9422-loss-0.1949.hdf5': 'trained_models/model-acc-0.9422-loss-0.1949.hdf5'}"
      ]
     },
     "execution_count": 21,
     "metadata": {},
     "output_type": "execute_result"
    }
   ],
   "source": [
    "trained_models = {k: v for k, v in sorted(trained_models.items(), key=lambda item: item[1])}\n",
    "trained_models"
   ]
  },
  {
   "cell_type": "code",
   "execution_count": 22,
   "id": "a72fa043",
   "metadata": {},
   "outputs": [
    {
     "name": "stdout",
     "output_type": "stream",
     "text": [
      "------------\n",
      "hypermodel.hdf5\n"
     ]
    },
    {
     "name": "stderr",
     "output_type": "stream",
     "text": [
      "2022-06-01 15:28:04.330589: I tensorflow/core/grappler/optimizers/custom_graph_optimizer_registry.cc:112] Plugin optimizer for device_type GPU is enabled.\n"
     ]
    },
    {
     "name": "stdout",
     "output_type": "stream",
     "text": [
      "41/41 [==============================] - 3s 54ms/step - loss: 0.2035 - accuracy: 0.9535\n",
      "------------\n",
      "model-acc-0.3012-loss-1.3562.hdf5\n",
      " 2/41 [>.............................] - ETA: 2s - loss: 1.3959 - accuracy: 0.0000e+00"
     ]
    },
    {
     "name": "stderr",
     "output_type": "stream",
     "text": [
      "2022-06-01 15:28:07.556191: I tensorflow/core/grappler/optimizers/custom_graph_optimizer_registry.cc:112] Plugin optimizer for device_type GPU is enabled.\n"
     ]
    },
    {
     "name": "stdout",
     "output_type": "stream",
     "text": [
      "41/41 [==============================] - 2s 50ms/step - loss: 1.3568 - accuracy: 0.3074\n",
      "------------\n",
      "model-acc-0.3012-loss-1.3860.hdf5\n",
      " 2/41 [>.............................] - ETA: 2s - loss: 1.3876 - accuracy: 0.0000e+00"
     ]
    },
    {
     "name": "stderr",
     "output_type": "stream",
     "text": [
      "2022-06-01 15:28:09.881043: I tensorflow/core/grappler/optimizers/custom_graph_optimizer_registry.cc:112] Plugin optimizer for device_type GPU is enabled.\n"
     ]
    },
    {
     "name": "stdout",
     "output_type": "stream",
     "text": [
      "41/41 [==============================] - 2s 52ms/step - loss: 1.3859 - accuracy: 0.3089\n",
      "------------\n",
      "model-acc-0.4413-loss-1.1963.hdf5\n",
      " 2/41 [>.............................] - ETA: 2s - loss: 1.1097 - accuracy: 0.5312"
     ]
    },
    {
     "name": "stderr",
     "output_type": "stream",
     "text": [
      "2022-06-01 15:28:12.252888: I tensorflow/core/grappler/optimizers/custom_graph_optimizer_registry.cc:112] Plugin optimizer for device_type GPU is enabled.\n"
     ]
    },
    {
     "name": "stdout",
     "output_type": "stream",
     "text": [
      "41/41 [==============================] - 2s 51ms/step - loss: 1.1892 - accuracy: 0.4561\n",
      "------------\n",
      "model-acc-0.5972-loss-1.0114.hdf5\n"
     ]
    },
    {
     "name": "stderr",
     "output_type": "stream",
     "text": [
      "2022-06-01 15:28:14.511356: I tensorflow/core/grappler/optimizers/custom_graph_optimizer_registry.cc:112] Plugin optimizer for device_type GPU is enabled.\n"
     ]
    },
    {
     "name": "stdout",
     "output_type": "stream",
     "text": [
      "41/41 [==============================] - 4s 98ms/step - loss: 1.1828 - accuracy: 0.5080\n",
      "------------\n",
      "model-acc-0.6252-loss-1.0909.hdf5\n"
     ]
    },
    {
     "name": "stderr",
     "output_type": "stream",
     "text": [
      "2022-06-01 15:28:19.159918: I tensorflow/core/grappler/optimizers/custom_graph_optimizer_registry.cc:112] Plugin optimizer for device_type GPU is enabled.\n"
     ]
    },
    {
     "name": "stdout",
     "output_type": "stream",
     "text": [
      "41/41 [==============================] - 2s 36ms/step - loss: 1.1016 - accuracy: 0.6018\n",
      "------------\n",
      "model-acc-0.6270-loss-0.9129.hdf5\n",
      " 2/41 [>.............................] - ETA: 2s - loss: 0.8364 - accuracy: 0.6406"
     ]
    },
    {
     "name": "stderr",
     "output_type": "stream",
     "text": [
      "2022-06-01 15:28:21.105951: I tensorflow/core/grappler/optimizers/custom_graph_optimizer_registry.cc:112] Plugin optimizer for device_type GPU is enabled.\n"
     ]
    },
    {
     "name": "stdout",
     "output_type": "stream",
     "text": [
      "41/41 [==============================] - 2s 51ms/step - loss: 0.9303 - accuracy: 0.6171\n",
      "------------\n",
      "model-acc-0.6532-loss-0.8097.hdf5\n",
      " 1/41 [..............................] - ETA: 7s - loss: 0.9402 - accuracy: 0.4375"
     ]
    },
    {
     "name": "stderr",
     "output_type": "stream",
     "text": [
      "2022-06-01 15:28:23.365773: I tensorflow/core/grappler/optimizers/custom_graph_optimizer_registry.cc:112] Plugin optimizer for device_type GPU is enabled.\n"
     ]
    },
    {
     "name": "stdout",
     "output_type": "stream",
     "text": [
      "41/41 [==============================] - 4s 103ms/step - loss: 0.9839 - accuracy: 0.5454\n",
      "------------\n",
      "model-acc-0.6567-loss-0.8057.hdf5\n",
      " 2/41 [>.............................] - ETA: 2s - loss: 0.8002 - accuracy: 0.7344"
     ]
    },
    {
     "name": "stderr",
     "output_type": "stream",
     "text": [
      "2022-06-01 15:28:27.842830: I tensorflow/core/grappler/optimizers/custom_graph_optimizer_registry.cc:112] Plugin optimizer for device_type GPU is enabled.\n"
     ]
    },
    {
     "name": "stdout",
     "output_type": "stream",
     "text": [
      "41/41 [==============================] - 2s 50ms/step - loss: 0.8359 - accuracy: 0.6377\n",
      "------------\n",
      "model-acc-0.7128-loss-1.3214.hdf5\n",
      " 8/41 [====>.........................] - ETA: 0s - loss: 0.7871 - accuracy: 0.6797"
     ]
    },
    {
     "name": "stderr",
     "output_type": "stream",
     "text": [
      "2022-06-01 15:28:29.997379: I tensorflow/core/grappler/optimizers/custom_graph_optimizer_registry.cc:112] Plugin optimizer for device_type GPU is enabled.\n"
     ]
    },
    {
     "name": "stdout",
     "output_type": "stream",
     "text": [
      "41/41 [==============================] - 1s 14ms/step - loss: 1.5942 - accuracy: 0.6629\n",
      "------------\n",
      "model-acc-0.7408-loss-0.6141.hdf5\n",
      " 1/41 [..............................] - ETA: 7s - loss: 0.4316 - accuracy: 0.9375"
     ]
    },
    {
     "name": "stderr",
     "output_type": "stream",
     "text": [
      "2022-06-01 15:28:30.732671: I tensorflow/core/grappler/optimizers/custom_graph_optimizer_registry.cc:112] Plugin optimizer for device_type GPU is enabled.\n"
     ]
    },
    {
     "name": "stdout",
     "output_type": "stream",
     "text": [
      "41/41 [==============================] - 4s 106ms/step - loss: 0.7187 - accuracy: 0.7010\n",
      "------------\n",
      "model-acc-0.7601-loss-0.5940.hdf5\n",
      " 1/41 [..............................] - ETA: 7s - loss: 0.5421 - accuracy: 0.8438"
     ]
    },
    {
     "name": "stderr",
     "output_type": "stream",
     "text": [
      "2022-06-01 15:28:35.210681: I tensorflow/core/grappler/optimizers/custom_graph_optimizer_registry.cc:112] Plugin optimizer for device_type GPU is enabled.\n"
     ]
    },
    {
     "name": "stdout",
     "output_type": "stream",
     "text": [
      "41/41 [==============================] - 4s 102ms/step - loss: 0.7044 - accuracy: 0.7239\n",
      "------------\n",
      "model-acc-0.7688-loss-0.7580.hdf5\n",
      " 3/41 [=>............................] - ETA: 1s - loss: 0.7125 - accuracy: 0.8229"
     ]
    },
    {
     "name": "stderr",
     "output_type": "stream",
     "text": [
      "2022-06-01 15:28:39.863751: I tensorflow/core/grappler/optimizers/custom_graph_optimizer_registry.cc:112] Plugin optimizer for device_type GPU is enabled.\n"
     ]
    },
    {
     "name": "stdout",
     "output_type": "stream",
     "text": [
      "41/41 [==============================] - 2s 39ms/step - loss: 0.8100 - accuracy: 0.7346\n",
      "------------\n",
      "model-acc-0.7881-loss-0.5166.hdf5\n",
      " 1/41 [..............................] - ETA: 8s - loss: 0.5222 - accuracy: 0.7500"
     ]
    },
    {
     "name": "stderr",
     "output_type": "stream",
     "text": [
      "2022-06-01 15:28:41.657461: I tensorflow/core/grappler/optimizers/custom_graph_optimizer_registry.cc:112] Plugin optimizer for device_type GPU is enabled.\n"
     ]
    },
    {
     "name": "stdout",
     "output_type": "stream",
     "text": [
      "41/41 [==============================] - 4s 100ms/step - loss: 0.5876 - accuracy: 0.7574\n",
      "------------\n",
      "model-acc-0.8109-loss-0.7747.hdf5\n",
      " 7/41 [====>.........................] - ETA: 0s - loss: 0.2859 - accuracy: 0.9018"
     ]
    },
    {
     "name": "stderr",
     "output_type": "stream",
     "text": [
      "2022-06-01 15:28:45.907263: I tensorflow/core/grappler/optimizers/custom_graph_optimizer_registry.cc:112] Plugin optimizer for device_type GPU is enabled.\n"
     ]
    },
    {
     "name": "stdout",
     "output_type": "stream",
     "text": [
      "41/41 [==============================] - 1s 16ms/step - loss: 0.8934 - accuracy: 0.8024\n",
      "------------\n",
      "model-acc-0.8161-loss-0.4800.hdf5\n",
      " 1/41 [..............................] - ETA: 8s - loss: 1.1274 - accuracy: 0.4688"
     ]
    },
    {
     "name": "stderr",
     "output_type": "stream",
     "text": [
      "2022-06-01 15:28:46.738722: I tensorflow/core/grappler/optimizers/custom_graph_optimizer_registry.cc:112] Plugin optimizer for device_type GPU is enabled.\n"
     ]
    },
    {
     "name": "stdout",
     "output_type": "stream",
     "text": [
      "41/41 [==============================] - 4s 100ms/step - loss: 0.5738 - accuracy: 0.7643\n",
      "------------\n",
      "model-acc-0.8231-loss-0.4934.hdf5\n",
      " 1/41 [..............................] - ETA: 7s - loss: 0.5151 - accuracy: 0.7812"
     ]
    },
    {
     "name": "stderr",
     "output_type": "stream",
     "text": [
      "2022-06-01 15:28:51.028895: I tensorflow/core/grappler/optimizers/custom_graph_optimizer_registry.cc:112] Plugin optimizer for device_type GPU is enabled.\n"
     ]
    },
    {
     "name": "stdout",
     "output_type": "stream",
     "text": [
      "41/41 [==============================] - 4s 98ms/step - loss: 0.5669 - accuracy: 0.7704\n",
      "------------\n",
      "model-acc-0.8319-loss-0.4977.hdf5\n",
      " 1/41 [..............................] - ETA: 8s - loss: 0.6242 - accuracy: 0.7500"
     ]
    },
    {
     "name": "stderr",
     "output_type": "stream",
     "text": [
      "2022-06-01 15:28:55.228658: I tensorflow/core/grappler/optimizers/custom_graph_optimizer_registry.cc:112] Plugin optimizer for device_type GPU is enabled.\n"
     ]
    },
    {
     "name": "stdout",
     "output_type": "stream",
     "text": [
      "41/41 [==============================] - 4s 99ms/step - loss: 0.6228 - accuracy: 0.7803\n",
      "------------\n",
      "model-acc-0.8406-loss-0.4258.hdf5\n",
      " 1/41 [..............................] - ETA: 7s - loss: 0.6187 - accuracy: 0.7188"
     ]
    },
    {
     "name": "stderr",
     "output_type": "stream",
     "text": [
      "2022-06-01 15:28:59.456401: I tensorflow/core/grappler/optimizers/custom_graph_optimizer_registry.cc:112] Plugin optimizer for device_type GPU is enabled.\n"
     ]
    },
    {
     "name": "stdout",
     "output_type": "stream",
     "text": [
      "41/41 [==============================] - 4s 97ms/step - loss: 0.4930 - accuracy: 0.8024\n",
      "------------\n",
      "model-acc-0.8441-loss-0.4005.hdf5\n",
      " 1/41 [..............................] - ETA: 7s - loss: 0.4372 - accuracy: 0.7500"
     ]
    },
    {
     "name": "stderr",
     "output_type": "stream",
     "text": [
      "2022-06-01 15:29:03.601052: I tensorflow/core/grappler/optimizers/custom_graph_optimizer_registry.cc:112] Plugin optimizer for device_type GPU is enabled.\n"
     ]
    },
    {
     "name": "stdout",
     "output_type": "stream",
     "text": [
      "41/41 [==============================] - 4s 97ms/step - loss: 0.4566 - accuracy: 0.8085\n",
      "------------\n",
      "model-acc-0.8529-loss-0.4007.hdf5\n",
      " 2/41 [>.............................] - ETA: 2s - loss: 0.1500 - accuracy: 0.9531"
     ]
    },
    {
     "name": "stderr",
     "output_type": "stream",
     "text": [
      "2022-06-01 15:29:07.833355: I tensorflow/core/grappler/optimizers/custom_graph_optimizer_registry.cc:112] Plugin optimizer for device_type GPU is enabled.\n"
     ]
    },
    {
     "name": "stdout",
     "output_type": "stream",
     "text": [
      "41/41 [==============================] - 2s 51ms/step - loss: 0.4192 - accuracy: 0.8444\n",
      "------------\n",
      "model-acc-0.8546-loss-0.4733.hdf5\n",
      " 3/41 [=>............................] - ETA: 1s - loss: 0.4556 - accuracy: 0.8542 "
     ]
    },
    {
     "name": "stderr",
     "output_type": "stream",
     "text": [
      "2022-06-01 15:29:10.858357: I tensorflow/core/grappler/optimizers/custom_graph_optimizer_registry.cc:112] Plugin optimizer for device_type GPU is enabled.\n"
     ]
    },
    {
     "name": "stdout",
     "output_type": "stream",
     "text": [
      "41/41 [==============================] - 2s 37ms/step - loss: 0.5323 - accuracy: 0.8291\n",
      "------------\n",
      "model-acc-0.8564-loss-0.3768.hdf5\n",
      " 1/41 [..............................] - ETA: 7s - loss: 0.4089 - accuracy: 0.7500"
     ]
    },
    {
     "name": "stderr",
     "output_type": "stream",
     "text": [
      "2022-06-01 15:29:12.525431: I tensorflow/core/grappler/optimizers/custom_graph_optimizer_registry.cc:112] Plugin optimizer for device_type GPU is enabled.\n"
     ]
    },
    {
     "name": "stdout",
     "output_type": "stream",
     "text": [
      "41/41 [==============================] - 4s 96ms/step - loss: 0.4229 - accuracy: 0.8360\n",
      "------------\n",
      "model-acc-0.8599-loss-0.4230.hdf5\n",
      " 3/41 [=>............................] - ETA: 1s - loss: 0.4192 - accuracy: 0.8229"
     ]
    },
    {
     "name": "stderr",
     "output_type": "stream",
     "text": [
      "2022-06-01 15:29:16.955980: I tensorflow/core/grappler/optimizers/custom_graph_optimizer_registry.cc:112] Plugin optimizer for device_type GPU is enabled.\n"
     ]
    },
    {
     "name": "stdout",
     "output_type": "stream",
     "text": [
      "41/41 [==============================] - 2s 36ms/step - loss: 0.4545 - accuracy: 0.8558\n",
      "------------\n",
      "model-acc-0.8651-loss-0.4050.hdf5\n",
      " 2/41 [>.............................] - ETA: 2s - loss: 0.5796 - accuracy: 0.7656"
     ]
    },
    {
     "name": "stderr",
     "output_type": "stream",
     "text": [
      "2022-06-01 15:29:18.679828: I tensorflow/core/grappler/optimizers/custom_graph_optimizer_registry.cc:112] Plugin optimizer for device_type GPU is enabled.\n"
     ]
    },
    {
     "name": "stdout",
     "output_type": "stream",
     "text": [
      "41/41 [==============================] - 2s 50ms/step - loss: 0.4587 - accuracy: 0.8352\n",
      "------------\n",
      "model-acc-0.8739-loss-0.3156.hdf5\n",
      " 1/41 [..............................] - ETA: 7s - loss: 0.6079 - accuracy: 0.6875"
     ]
    },
    {
     "name": "stderr",
     "output_type": "stream",
     "text": [
      "2022-06-01 15:29:20.900429: I tensorflow/core/grappler/optimizers/custom_graph_optimizer_registry.cc:112] Plugin optimizer for device_type GPU is enabled.\n"
     ]
    },
    {
     "name": "stdout",
     "output_type": "stream",
     "text": [
      "41/41 [==============================] - 4s 96ms/step - loss: 0.3935 - accuracy: 0.8658\n",
      "------------\n",
      "model-acc-0.8757-loss-0.3293.hdf5\n",
      " 1/41 [..............................] - ETA: 6s - loss: 0.5763 - accuracy: 0.7188"
     ]
    },
    {
     "name": "stderr",
     "output_type": "stream",
     "text": [
      "2022-06-01 15:29:25.007152: I tensorflow/core/grappler/optimizers/custom_graph_optimizer_registry.cc:112] Plugin optimizer for device_type GPU is enabled.\n"
     ]
    },
    {
     "name": "stdout",
     "output_type": "stream",
     "text": [
      "41/41 [==============================] - 4s 96ms/step - loss: 0.4132 - accuracy: 0.8421\n",
      "------------\n",
      "model-acc-0.8809-loss-0.3382.hdf5\n",
      " 3/41 [=>............................] - ETA: 1s - loss: 0.3652 - accuracy: 0.8438"
     ]
    },
    {
     "name": "stderr",
     "output_type": "stream",
     "text": [
      "2022-06-01 15:29:29.340749: I tensorflow/core/grappler/optimizers/custom_graph_optimizer_registry.cc:112] Plugin optimizer for device_type GPU is enabled.\n"
     ]
    },
    {
     "name": "stdout",
     "output_type": "stream",
     "text": [
      "41/41 [==============================] - 2s 36ms/step - loss: 0.4024 - accuracy: 0.8726\n",
      "------------\n",
      "model-acc-0.8809-loss-0.3712.hdf5\n",
      " 3/41 [=>............................] - ETA: 1s - loss: 0.3216 - accuracy: 0.8854"
     ]
    },
    {
     "name": "stderr",
     "output_type": "stream",
     "text": [
      "2022-06-01 15:29:31.281642: I tensorflow/core/grappler/optimizers/custom_graph_optimizer_registry.cc:112] Plugin optimizer for device_type GPU is enabled.\n"
     ]
    },
    {
     "name": "stdout",
     "output_type": "stream",
     "text": [
      "41/41 [==============================] - 2s 36ms/step - loss: 0.4439 - accuracy: 0.8680\n",
      "------------\n",
      "model-acc-0.8844-loss-0.2809.hdf5\n",
      " 1/41 [..............................] - ETA: 7s - loss: 0.1575 - accuracy: 0.9375"
     ]
    },
    {
     "name": "stderr",
     "output_type": "stream",
     "text": [
      "2022-06-01 15:29:32.923680: I tensorflow/core/grappler/optimizers/custom_graph_optimizer_registry.cc:112] Plugin optimizer for device_type GPU is enabled.\n"
     ]
    },
    {
     "name": "stdout",
     "output_type": "stream",
     "text": [
      "41/41 [==============================] - 4s 96ms/step - loss: 0.3253 - accuracy: 0.8871\n",
      "------------\n",
      "model-acc-0.8897-loss-0.2733.hdf5\n",
      " 1/41 [..............................] - ETA: 6s - loss: 0.3775 - accuracy: 0.8750"
     ]
    },
    {
     "name": "stderr",
     "output_type": "stream",
     "text": [
      "2022-06-01 15:29:37.341525: I tensorflow/core/grappler/optimizers/custom_graph_optimizer_registry.cc:112] Plugin optimizer for device_type GPU is enabled.\n"
     ]
    },
    {
     "name": "stdout",
     "output_type": "stream",
     "text": [
      "41/41 [==============================] - 2s 37ms/step - loss: 0.3560 - accuracy: 0.9077\n",
      "------------\n",
      "model-acc-0.8932-loss-0.2865.hdf5\n",
      " 1/41 [..............................] - ETA: 7s - loss: 0.6515 - accuracy: 0.6562"
     ]
    },
    {
     "name": "stderr",
     "output_type": "stream",
     "text": [
      "2022-06-01 15:29:39.050533: I tensorflow/core/grappler/optimizers/custom_graph_optimizer_registry.cc:112] Plugin optimizer for device_type GPU is enabled.\n"
     ]
    },
    {
     "name": "stdout",
     "output_type": "stream",
     "text": [
      "41/41 [==============================] - 4s 101ms/step - loss: 0.3606 - accuracy: 0.8741\n",
      "------------\n",
      "model-acc-0.8967-loss-0.3120.hdf5\n",
      " 1/41 [..............................] - ETA: 7s - loss: 0.3371 - accuracy: 0.9375"
     ]
    },
    {
     "name": "stderr",
     "output_type": "stream",
     "text": [
      "2022-06-01 15:29:43.612113: I tensorflow/core/grappler/optimizers/custom_graph_optimizer_registry.cc:112] Plugin optimizer for device_type GPU is enabled.\n"
     ]
    },
    {
     "name": "stdout",
     "output_type": "stream",
     "text": [
      "41/41 [==============================] - 2s 36ms/step - loss: 0.3495 - accuracy: 0.9039\n",
      "------------\n",
      "model-acc-0.9037-loss-0.2482.hdf5\n",
      " 1/41 [..............................] - ETA: 7s - loss: 0.2315 - accuracy: 0.9375"
     ]
    },
    {
     "name": "stderr",
     "output_type": "stream",
     "text": [
      "2022-06-01 15:29:45.301068: I tensorflow/core/grappler/optimizers/custom_graph_optimizer_registry.cc:112] Plugin optimizer for device_type GPU is enabled.\n"
     ]
    },
    {
     "name": "stdout",
     "output_type": "stream",
     "text": [
      "41/41 [==============================] - 4s 98ms/step - loss: 0.2887 - accuracy: 0.9016\n",
      "------------\n",
      "model-acc-0.9142-loss-0.2695.hdf5\n",
      " 2/41 [>.............................] - ETA: 2s - loss: 0.2352 - accuracy: 0.8750"
     ]
    },
    {
     "name": "stderr",
     "output_type": "stream",
     "text": [
      "2022-06-01 15:29:49.562069: I tensorflow/core/grappler/optimizers/custom_graph_optimizer_registry.cc:112] Plugin optimizer for device_type GPU is enabled.\n"
     ]
    },
    {
     "name": "stdout",
     "output_type": "stream",
     "text": [
      "41/41 [==============================] - 2s 49ms/step - loss: 0.2953 - accuracy: 0.8932\n",
      "------------\n",
      "model-acc-0.9159-loss-0.2423.hdf5\n",
      " 1/41 [..............................] - ETA: 6s - loss: 0.2895 - accuracy: 0.8750"
     ]
    },
    {
     "name": "stderr",
     "output_type": "stream",
     "text": [
      "2022-06-01 15:29:52.095434: I tensorflow/core/grappler/optimizers/custom_graph_optimizer_registry.cc:112] Plugin optimizer for device_type GPU is enabled.\n"
     ]
    },
    {
     "name": "stdout",
     "output_type": "stream",
     "text": [
      "41/41 [==============================] - 2s 37ms/step - loss: 0.2635 - accuracy: 0.9397\n",
      "------------\n",
      "model-acc-0.9159-loss-0.2505.hdf5\n",
      " 1/41 [..............................] - ETA: 7s - loss: 0.1208 - accuracy: 1.0000"
     ]
    },
    {
     "name": "stderr",
     "output_type": "stream",
     "text": [
      "2022-06-01 15:29:54.132147: I tensorflow/core/grappler/optimizers/custom_graph_optimizer_registry.cc:112] Plugin optimizer for device_type GPU is enabled.\n"
     ]
    },
    {
     "name": "stdout",
     "output_type": "stream",
     "text": [
      "41/41 [==============================] - 2s 37ms/step - loss: 0.2379 - accuracy: 0.9367\n",
      "------------\n",
      "model-acc-0.9247-loss-0.2272.hdf5\n"
     ]
    },
    {
     "name": "stderr",
     "output_type": "stream",
     "text": [
      "2022-06-01 15:29:55.832305: I tensorflow/core/grappler/optimizers/custom_graph_optimizer_registry.cc:112] Plugin optimizer for device_type GPU is enabled.\n"
     ]
    },
    {
     "name": "stdout",
     "output_type": "stream",
     "text": [
      "41/41 [==============================] - 4s 99ms/step - loss: 0.2714 - accuracy: 0.9130\n",
      "------------\n",
      "model-acc-0.9299-loss-0.2465.hdf5\n",
      " 1/41 [..............................] - ETA: 7s - loss: 0.4393 - accuracy: 0.8125"
     ]
    },
    {
     "name": "stderr",
     "output_type": "stream",
     "text": [
      "2022-06-01 15:30:00.143181: I tensorflow/core/grappler/optimizers/custom_graph_optimizer_registry.cc:112] Plugin optimizer for device_type GPU is enabled.\n"
     ]
    },
    {
     "name": "stdout",
     "output_type": "stream",
     "text": [
      "41/41 [==============================] - 4s 97ms/step - loss: 0.3230 - accuracy: 0.8986\n",
      "------------\n",
      "model-acc-0.9317-loss-0.1891.hdf5\n",
      " 1/41 [..............................] - ETA: 7s - loss: 0.3530 - accuracy: 0.8438"
     ]
    },
    {
     "name": "stderr",
     "output_type": "stream",
     "text": [
      "2022-06-01 15:30:04.377148: I tensorflow/core/grappler/optimizers/custom_graph_optimizer_registry.cc:112] Plugin optimizer for device_type GPU is enabled.\n"
     ]
    },
    {
     "name": "stdout",
     "output_type": "stream",
     "text": [
      "41/41 [==============================] - 2s 50ms/step - loss: 0.2007 - accuracy: 0.9252\n",
      "------------\n",
      "model-acc-0.9317-loss-0.2010.hdf5\n",
      " 1/41 [..............................] - ETA: 7s - loss: 0.1023 - accuracy: 0.9688"
     ]
    },
    {
     "name": "stderr",
     "output_type": "stream",
     "text": [
      "2022-06-01 15:30:06.630095: I tensorflow/core/grappler/optimizers/custom_graph_optimizer_registry.cc:112] Plugin optimizer for device_type GPU is enabled.\n"
     ]
    },
    {
     "name": "stdout",
     "output_type": "stream",
     "text": [
      "41/41 [==============================] - 4s 97ms/step - loss: 0.2073 - accuracy: 0.9474\n",
      "------------\n",
      "model-acc-0.9405-loss-0.1970.hdf5\n",
      " 2/41 [>.............................] - ETA: 2s - loss: 0.2297 - accuracy: 0.8906"
     ]
    },
    {
     "name": "stderr",
     "output_type": "stream",
     "text": [
      "2022-06-01 15:30:10.863634: I tensorflow/core/grappler/optimizers/custom_graph_optimizer_registry.cc:112] Plugin optimizer for device_type GPU is enabled.\n"
     ]
    },
    {
     "name": "stdout",
     "output_type": "stream",
     "text": [
      "41/41 [==============================] - 2s 50ms/step - loss: 0.1687 - accuracy: 0.9481\n",
      "------------\n",
      "model-acc-0.9422-loss-0.1949.hdf5\n",
      " 1/41 [..............................] - ETA: 7s - loss: 0.1799 - accuracy: 0.9375"
     ]
    },
    {
     "name": "stderr",
     "output_type": "stream",
     "text": [
      "2022-06-01 15:30:13.115150: I tensorflow/core/grappler/optimizers/custom_graph_optimizer_registry.cc:112] Plugin optimizer for device_type GPU is enabled.\n"
     ]
    },
    {
     "name": "stdout",
     "output_type": "stream",
     "text": [
      "41/41 [==============================] - 4s 98ms/step - loss: 0.2245 - accuracy: 0.9497\n"
     ]
    }
   ],
   "source": [
    "for name, path in trained_models.items():\n",
    "    print(\"------------\")\n",
    "    print(name)\n",
    "    model = keras.models.load_model(path)\n",
    "    model.evaluate(test_ds)"
   ]
  },
  {
   "cell_type": "markdown",
   "id": "a98832ea",
   "metadata": {},
   "source": [
    "As we can see the tuned model with convolutional layers, batch normalization and dropout achieved the highest accuracy. Let's take it for further evaluation"
   ]
  },
  {
   "cell_type": "code",
   "execution_count": 23,
   "id": "72a0097c",
   "metadata": {},
   "outputs": [
    {
     "name": "stdout",
     "output_type": "stream",
     "text": [
      " 2/41 [>.............................] - ETA: 2s - loss: 0.1792 - accuracy: 0.9219"
     ]
    },
    {
     "name": "stderr",
     "output_type": "stream",
     "text": [
      "2022-06-01 15:30:17.720595: I tensorflow/core/grappler/optimizers/custom_graph_optimizer_registry.cc:112] Plugin optimizer for device_type GPU is enabled.\n"
     ]
    },
    {
     "name": "stdout",
     "output_type": "stream",
     "text": [
      "41/41 [==============================] - 2s 49ms/step - loss: 0.2035 - accuracy: 0.9535\n"
     ]
    },
    {
     "data": {
      "text/plain": [
       "[0.2035461962223053, 0.9534706473350525]"
      ]
     },
     "execution_count": 23,
     "metadata": {},
     "output_type": "execute_result"
    }
   ],
   "source": [
    "best_model = keras.models.load_model('trained_models/hypermodel.hdf5')\n",
    "best_model.evaluate(test_ds)"
   ]
  },
  {
   "cell_type": "markdown",
   "id": "b6b5d7c8",
   "metadata": {},
   "source": [
    "Confusion matrix"
   ]
  },
  {
   "cell_type": "code",
   "execution_count": 24,
   "id": "830a100a",
   "metadata": {},
   "outputs": [
    {
     "name": "stderr",
     "output_type": "stream",
     "text": [
      "2022-06-01 15:30:19.858337: I tensorflow/core/grappler/optimizers/custom_graph_optimizer_registry.cc:112] Plugin optimizer for device_type GPU is enabled.\n"
     ]
    },
    {
     "data": {
      "text/plain": [
       "array([0, 0, 0, ..., 3, 3, 3])"
      ]
     },
     "execution_count": 24,
     "metadata": {},
     "output_type": "execute_result"
    }
   ],
   "source": [
    "predictions = best_model.predict(test_ds)\n",
    "predictions = np.argmax(predictions, axis=-1)\n",
    "predictions"
   ]
  },
  {
   "cell_type": "code",
   "execution_count": 25,
   "id": "3f21f1fd",
   "metadata": {},
   "outputs": [
    {
     "data": {
      "text/plain": [
       "array([0, 0, 0, ..., 3, 3, 3], dtype=int32)"
      ]
     },
     "execution_count": 25,
     "metadata": {},
     "output_type": "execute_result"
    }
   ],
   "source": [
    "# class labels\n",
    "target_labels = np.concatenate([y for x, y in test_ds])\n",
    "target_labels"
   ]
  },
  {
   "cell_type": "code",
   "execution_count": 26,
   "id": "f2f4a735",
   "metadata": {},
   "outputs": [],
   "source": [
    "from sklearn import metrics\n",
    "conf = metrics.confusion_matrix(target_labels, predictions)"
   ]
  },
  {
   "cell_type": "code",
   "execution_count": 27,
   "id": "50802968",
   "metadata": {},
   "outputs": [],
   "source": [
    "labels = [\n",
    "    \"glioma\",\n",
    "    \"meningioma\",\n",
    "    \"notumor\",\n",
    "    \"pituitary\"\n",
    "]"
   ]
  },
  {
   "cell_type": "code",
   "execution_count": 28,
   "id": "d7c58446",
   "metadata": {},
   "outputs": [],
   "source": [
    "import seaborn as sns\n",
    "\n",
    "def plot_confusion_matrix(conf, labels, figsize=(8, 8)):\n",
    "    fig = plt.figure(figsize=figsize)\n",
    "    heatmap = sns.heatmap(conf, annot=True, fmt=\"d\")\n",
    "    heatmap.xaxis.set_ticklabels(labels, rotation=45, ha=\"right\", fontsize=12)\n",
    "    heatmap.yaxis.set_ticklabels(labels, rotation=0, ha=\"right\", fontsize=12)\n",
    "    plt.xlabel(\"Predicted label\", fontsize=12)\n",
    "    plt.ylabel(\"True label\", fontsize=12)\n",
    "    plt.show()"
   ]
  },
  {
   "cell_type": "code",
   "execution_count": 29,
   "id": "4710b841",
   "metadata": {},
   "outputs": [
    {
     "data": {
      "image/png": "[encoded data removed]",
      "text/plain": [
       "<Figure size 576x576 with 2 Axes>"
      ]
     },
     "metadata": {
      "needs_background": "light"
     },
     "output_type": "display_data"
    }
   ],
   "source": [
    "plot_confusion_matrix(conf, labels)"
   ]
  },
  {
   "cell_type": "code",
   "execution_count": 30,
   "id": "dcbf068d",
   "metadata": {},
   "outputs": [
    {
     "name": "stdout",
     "output_type": "stream",
     "text": [
      "              precision    recall  f1-score   support\n",
      "\n",
      "      glioma       0.98      0.92      0.95       300\n",
      "  meningioma       0.92      0.89      0.90       306\n",
      "     notumor       0.95      1.00      0.98       405\n",
      "   pituitary       0.96      0.99      0.98       300\n",
      "\n",
      "    accuracy                           0.95      1311\n",
      "   macro avg       0.95      0.95      0.95      1311\n",
      "weighted avg       0.95      0.95      0.95      1311\n",
      "\n"
     ]
    }
   ],
   "source": [
    "print(metrics.classification_report(target_labels, predictions, target_names=labels))"
   ]
  },
  {
   "cell_type": "markdown",
   "id": "9abecadd",
   "metadata": {},
   "source": [
    "### Conversion to CoreML format"
   ]
  },
  {
   "cell_type": "code",
   "execution_count": 31,
   "id": "fd26b677",
   "metadata": {},
   "outputs": [
    {
     "name": "stderr",
     "output_type": "stream",
     "text": [
      "WARNING:root:scikit-learn version 1.0.2 is not supported. Minimum required version: 0.17. Maximum required version: 0.19.2. Disabling scikit-learn conversion API.\n",
      "/Users/jakubstepien/miniforge3/envs/env_tf/lib/python3.9/site-packages/xgboost/compat.py:36: FutureWarning: pandas.Int64Index is deprecated and will be removed from pandas in a future version. Use pandas.Index with the appropriate dtype instead.\n",
      "  from pandas import MultiIndex, Int64Index\n",
      "WARNING:root:XGBoost version 1.5.1 has not been tested with coremltools. You may run into unexpected errors. XGBoost 1.4.2 is the most recent version that has been tested.\n",
      "WARNING:root:TensorFlow version 2.7.0 has not been tested with coremltools. You may run into unexpected errors. TensorFlow 2.6.2 is the most recent version that has been tested.\n",
      "WARNING:root:Keras version 2.7.0 has not been tested with coremltools. You may run into unexpected errors. Keras 2.6.0 is the most recent version that has been tested.\n"
     ]
    }
   ],
   "source": [
    "import coremltools as ct"
   ]
  },
  {
   "cell_type": "code",
   "execution_count": 32,
   "id": "261f2f1a",
   "metadata": {},
   "outputs": [],
   "source": [
    "labels = [\n",
    "    \"glioma\",\n",
    "    \"meningioma\",\n",
    "    \"notumor\",\n",
    "    \"pituitary\"\n",
    "]"
   ]
  },
  {
   "cell_type": "code",
   "execution_count": 33,
   "id": "9cd31349",
   "metadata": {},
   "outputs": [],
   "source": [
    "from keras.layers.normalization.layer_normalization import *\n",
    "from keras.layers.normalization.batch_normalization import *"
   ]
  },
  {
   "cell_type": "code",
   "execution_count": 34,
   "id": "019408d3",
   "metadata": {},
   "outputs": [
    {
     "name": "stderr",
     "output_type": "stream",
     "text": [
      "2022-06-01 15:30:23.095740: I tensorflow/core/grappler/devices.cc:75] Number of eligible GPUs (core count >= 8, compute capability >= 0.0): 0 (Note: TensorFlow was not compiled with CUDA or ROCm support)\n",
      "2022-06-01 15:30:23.095810: I tensorflow/core/grappler/clusters/single_machine.cc:358] Starting new session\n",
      "2022-06-01 15:30:23.095954: I tensorflow/core/common_runtime/pluggable_device/pluggable_device_factory.cc:305] Could not identify NUMA node of platform GPU ID 0, defaulting to 0. Your kernel may not have been built with NUMA support.\n",
      "2022-06-01 15:30:23.095965: I tensorflow/core/common_runtime/pluggable_device/pluggable_device_factory.cc:271] Created TensorFlow device (/job:localhost/replica:0/task:0/device:GPU:0 with 0 MB memory) -> physical PluggableDevice (device: 0, name: METAL, pci bus id: <undefined>)\n",
      "2022-06-01 15:30:23.096753: I tensorflow/core/grappler/optimizers/meta_optimizer.cc:1149] Optimization results for grappler item: graph_to_optimize\n",
      "  function_optimizer: function_optimizer did nothing. time = 0.002ms.\n",
      "  function_optimizer: function_optimizer did nothing. time = 0ms.\n",
      "\n",
      "2022-06-01 15:30:23.146053: I tensorflow/core/grappler/devices.cc:75] Number of eligible GPUs (core count >= 8, compute capability >= 0.0): 0 (Note: TensorFlow was not compiled with CUDA or ROCm support)\n",
      "2022-06-01 15:30:23.146119: I tensorflow/core/grappler/clusters/single_machine.cc:358] Starting new session\n",
      "2022-06-01 15:30:23.146243: I tensorflow/core/common_runtime/pluggable_device/pluggable_device_factory.cc:305] Could not identify NUMA node of platform GPU ID 0, defaulting to 0. Your kernel may not have been built with NUMA support.\n",
      "2022-06-01 15:30:23.146256: I tensorflow/core/common_runtime/pluggable_device/pluggable_device_factory.cc:271] Created TensorFlow device (/job:localhost/replica:0/task:0/device:GPU:0 with 0 MB memory) -> physical PluggableDevice (device: 0, name: METAL, pci bus id: <undefined>)\n",
      "2022-06-01 15:30:23.157414: I tensorflow/core/grappler/optimizers/meta_optimizer.cc:1149] Optimization results for grappler item: graph_to_optimize\n",
      "  constant_folding: Graph size after: 94 nodes (-38), 131 edges (-38), time = 6.528ms.\n",
      "  dependency_optimizer: Graph size after: 85 nodes (-9), 84 edges (-47), time = 0.754ms.\n",
      "  debug_stripper: debug_stripper did nothing. time = 0.136ms.\n",
      "  constant_folding: Graph size after: 85 nodes (0), 84 edges (0), time = 1.08ms.\n",
      "  dependency_optimizer: Graph size after: 85 nodes (0), 84 edges (0), time = 0.446ms.\n",
      "  debug_stripper: debug_stripper did nothing. time = 0.04ms.\n",
      "\n",
      "2022-06-01 15:30:23.186678: I tensorflow/core/grappler/devices.cc:75] Number of eligible GPUs (core count >= 8, compute capability >= 0.0): 0 (Note: TensorFlow was not compiled with CUDA or ROCm support)\n",
      "2022-06-01 15:30:23.186787: I tensorflow/core/grappler/clusters/single_machine.cc:358] Starting new session\n",
      "2022-06-01 15:30:23.187011: I tensorflow/core/common_runtime/pluggable_device/pluggable_device_factory.cc:305] Could not identify NUMA node of platform GPU ID 0, defaulting to 0. Your kernel may not have been built with NUMA support.\n",
      "2022-06-01 15:30:23.187021: I tensorflow/core/common_runtime/pluggable_device/pluggable_device_factory.cc:271] Created TensorFlow device (/job:localhost/replica:0/task:0/device:GPU:0 with 0 MB memory) -> physical PluggableDevice (device: 0, name: METAL, pci bus id: <undefined>)\n",
      "2022-06-01 15:30:23.187804: I tensorflow/core/grappler/optimizers/meta_optimizer.cc:1149] Optimization results for grappler item: graph_to_optimize\n",
      "  function_optimizer: function_optimizer did nothing. time = 0.002ms.\n",
      "  function_optimizer: function_optimizer did nothing. time = 0ms.\n",
      "\n",
      "2022-06-01 15:30:23.240068: I tensorflow/core/grappler/devices.cc:75] Number of eligible GPUs (core count >= 8, compute capability >= 0.0): 0 (Note: TensorFlow was not compiled with CUDA or ROCm support)\n",
      "2022-06-01 15:30:23.240134: I tensorflow/core/grappler/clusters/single_machine.cc:358] Starting new session\n",
      "2022-06-01 15:30:23.240231: I tensorflow/core/common_runtime/pluggable_device/pluggable_device_factory.cc:305] Could not identify NUMA node of platform GPU ID 0, defaulting to 0. Your kernel may not have been built with NUMA support.\n",
      "2022-06-01 15:30:23.240247: I tensorflow/core/common_runtime/pluggable_device/pluggable_device_factory.cc:271] Created TensorFlow device (/job:localhost/replica:0/task:0/device:GPU:0 with 0 MB memory) -> physical PluggableDevice (device: 0, name: METAL, pci bus id: <undefined>)\n",
      "2022-06-01 15:30:23.248156: I tensorflow/core/grappler/optimizers/meta_optimizer.cc:1149] Optimization results for grappler item: graph_to_optimize\n",
      "  constant_folding: Graph size after: 94 nodes (-38), 131 edges (-38), time = 4.487ms.\n",
      "  dependency_optimizer: Graph size after: 85 nodes (-9), 84 edges (-47), time = 0.477ms.\n",
      "  debug_stripper: debug_stripper did nothing. time = 0.043ms.\n",
      "  constant_folding: Graph size after: 85 nodes (0), 84 edges (0), time = 0.763ms.\n",
      "  dependency_optimizer: Graph size after: 85 nodes (0), 84 edges (0), time = 0.342ms.\n",
      "  debug_stripper: debug_stripper did nothing. time = 0.032ms.\n",
      "\n",
      "Running TensorFlow Graph Passes:   0%|               | 0/6 [00:00<?, ? passes/s]2022-06-01 15:30:23.439217: I tensorflow/core/common_runtime/pluggable_device/pluggable_device_factory.cc:305] Could not identify NUMA node of platform GPU ID 0, defaulting to 0. Your kernel may not have been built with NUMA support.\n",
      "2022-06-01 15:30:23.439235: I tensorflow/core/common_runtime/pluggable_device/pluggable_device_factory.cc:271] Created TensorFlow device (/job:localhost/replica:0/task:0/device:GPU:0 with 0 MB memory) -> physical PluggableDevice (device: 0, name: METAL, pci bus id: <undefined>)\n",
      "Running TensorFlow Graph Passes: 100%|███████| 6/6 [00:00<00:00, 67.93 passes/s]\n",
      "Converting Frontend ==> MIL Ops: 100%|██████| 85/85 [00:00<00:00, 1794.42 ops/s]\n",
      "Running MIL Common passes: 100%|██████████| 34/34 [00:00<00:00, 838.10 passes/s]\n",
      "Running MIL Clean up passes: 100%|██████████| 9/9 [00:00<00:00, 649.40 passes/s]\n",
      "Translating MIL ==> NeuralNetwork Ops: 100%|█| 143/143 [00:00<00:00, 6115.58 ops\n"
     ]
    }
   ],
   "source": [
    "config = ct.ClassifierConfig(labels)\n",
    "\n",
    "coreml_model = ct.convert(best_model, \n",
    "                          inputs=[ct.ImageType()],\n",
    "                         classifier_config=config)"
   ]
  },
  {
   "cell_type": "code",
   "execution_count": 474,
   "id": "f8810915",
   "metadata": {},
   "outputs": [
    {
     "name": "stdout",
     "output_type": "stream",
     "text": [
      "input {\n",
      "  name: \"sequential_5_input\"\n",
      "  type {\n",
      "    imageType {\n",
      "      width: 180\n",
      "      height: 180\n",
      "      colorSpace: RGB\n",
      "      imageSizeRange {\n",
      "        widthRange {\n",
      "          lowerBound: 180\n",
      "          upperBound: 180\n",
      "        }\n",
      "        heightRange {\n",
      "          lowerBound: 180\n",
      "          upperBound: 180\n",
      "        }\n",
      "      }\n",
      "    }\n",
      "  }\n",
      "}\n",
      "output {\n",
      "  name: \"Identity\"\n",
      "  type {\n",
      "    dictionaryType {\n",
      "      stringKeyType {\n",
      "      }\n",
      "    }\n",
      "  }\n",
      "}\n",
      "output {\n",
      "  name: \"classLabel\"\n",
      "  type {\n",
      "    stringType {\n",
      "    }\n",
      "  }\n",
      "}\n",
      "predictedFeatureName: \"classLabel\"\n",
      "predictedProbabilitiesName: \"Identity\"\n",
      "metadata {\n",
      "  userDefined {\n",
      "    key: \"com.github.apple.coremltools.source\"\n",
      "    value: \"tensorflow==2.7.0\"\n",
      "  }\n",
      "  userDefined {\n",
      "    key: \"com.github.apple.coremltools.version\"\n",
      "    value: \"5.2.0\"\n",
      "  }\n",
      "}\n",
      "\n"
     ]
    }
   ],
   "source": [
    "print(coreml_model)"
   ]
  },
  {
   "cell_type": "code",
   "execution_count": 475,
   "id": "71a2bb0f",
   "metadata": {},
   "outputs": [],
   "source": [
    "coreml_model.save(\"TumorClassifierTuned.mlmodel\")"
   ]
  },
  {
   "cell_type": "code",
   "execution_count": null,
   "id": "16e86eb1",
   "metadata": {},
   "outputs": [],
   "source": []
  },
  {
   "cell_type": "code",
   "execution_count": null,
   "id": "4a556b02",
   "metadata": {},
   "outputs": [],
   "source": []
  },
  {
   "cell_type": "code",
   "execution_count": null,
   "id": "a216fc23",
   "metadata": {},
   "outputs": [],
   "source": []
  }
 ],
 "metadata": {
  "kernelspec": {
   "display_name": "Python 3 (ipykernel)",
   "language": "python",
   "name": "python3"
  },
  "language_info": {
   "codemirror_mode": {
    "name": "ipython",
    "version": 3
   },
   "file_extension": ".py",
   "mimetype": "text/x-python",
   "name": "python",
   "nbconvert_exporter": "python",
   "pygments_lexer": "ipython3",
   "version": "3.9.12"
  }
 },
 "nbformat": 4,
 "nbformat_minor": 5
}
