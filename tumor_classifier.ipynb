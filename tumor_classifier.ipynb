{
 "cells": [
  {
   "cell_type": "markdown",
   "id": "2119c223",
   "metadata": {},
   "source": [
    "## About dataset\n",
    "\n",
    "#### https://www.kaggle.com/datasets/masoudnickparvar/brain-tumor-mri-dataset\n",
    "Dataset contains 7022 images of human brain MRI images which are classified into 4 classes: \n",
    "1. glioma \n",
    "2. meningioma\n",
    "3. pituitary\n",
    "4. no tumor\n"
   ]
  },
  {
   "cell_type": "markdown",
   "id": "0c865a50",
   "metadata": {},
   "source": [
    "### 1. Data analysis"
   ]
  },
  {
   "cell_type": "code",
   "execution_count": 1,
   "id": "70831174",
   "metadata": {},
   "outputs": [],
   "source": [
    "import os, os.path\n",
    "import matplotlib.pyplot as plt"
   ]
  },
  {
   "cell_type": "markdown",
   "id": "84550c60",
   "metadata": {},
   "source": [
    "Let's count how many images are in train/test directories"
   ]
  },
  {
   "cell_type": "code",
   "execution_count": 2,
   "id": "d11fbda0",
   "metadata": {},
   "outputs": [],
   "source": [
    "train_dir = \"Training\"\n",
    "test_dir = \"Testing\""
   ]
  },
  {
   "cell_type": "code",
   "execution_count": 3,
   "id": "cde40775",
   "metadata": {},
   "outputs": [],
   "source": [
    "def countClasses(directory):\n",
    "    counts = {}\n",
    "    for path in os.listdir(directory):\n",
    "        dirPath = os.path.join(directory, path)\n",
    "        if os.path.isdir(dirPath):\n",
    "            counts[path] = len([name for name in os.listdir(dirPath) \n",
    "                                if os.path.isfile(os.path.join(dirPath, name))])\n",
    "        \n",
    "    return counts"
   ]
  },
  {
   "cell_type": "code",
   "execution_count": 4,
   "id": "bcd5aaf3",
   "metadata": {},
   "outputs": [
    {
     "name": "stdout",
     "output_type": "stream",
     "text": [
      "{'pituitary': 1457, 'notumor': 1595, 'glioma': 1321, 'meningioma': 1339}\n"
     ]
    }
   ],
   "source": [
    "train_counts = countClasses(train_dir)\n",
    "print(train_counts)"
   ]
  },
  {
   "cell_type": "code",
   "execution_count": 5,
   "id": "dfe9ae4e",
   "metadata": {},
   "outputs": [
    {
     "data": {
      "text/plain": [
       "<BarContainer object of 4 artists>"
      ]
     },
     "execution_count": 5,
     "metadata": {},
     "output_type": "execute_result"
    },
    {
     "data": {
      "image/png": "[encoded data removed]",
      "text/plain": [
       "<Figure size 432x288 with 1 Axes>"
      ]
     },
     "metadata": {
      "needs_background": "light"
     },
     "output_type": "display_data"
    }
   ],
   "source": [
    "plt.bar(train_counts.keys(), train_counts.values())"
   ]
  },
  {
   "cell_type": "code",
   "execution_count": 6,
   "id": "4059689b",
   "metadata": {},
   "outputs": [
    {
     "name": "stdout",
     "output_type": "stream",
     "text": [
      "{'pituitary': 300, 'notumor': 405, 'glioma': 300, 'meningioma': 306}\n"
     ]
    }
   ],
   "source": [
    "test_counts = countClasses(test_dir)\n",
    "print(test_counts)"
   ]
  },
  {
   "cell_type": "code",
   "execution_count": 7,
   "id": "d48cdea6",
   "metadata": {},
   "outputs": [
    {
     "data": {
      "text/plain": [
       "<BarContainer object of 4 artists>"
      ]
     },
     "execution_count": 7,
     "metadata": {},
     "output_type": "execute_result"
    },
    {
     "data": {
      "image/png": "[encoded data removed]",
      "text/plain": [
       "<Figure size 432x288 with 1 Axes>"
      ]
     },
     "metadata": {
      "needs_background": "light"
     },
     "output_type": "display_data"
    }
   ],
   "source": [
    "plt.bar(test_counts.keys(), test_counts.values())"
   ]
  },
  {
   "cell_type": "code",
   "execution_count": 8,
   "id": "cbb6315f",
   "metadata": {},
   "outputs": [
    {
     "name": "stdout",
     "output_type": "stream",
     "text": [
      "Training data:  5712\n",
      "Testing data:  1311\n"
     ]
    }
   ],
   "source": [
    "train_count = sum(train_counts.values())\n",
    "test_count = sum(test_counts.values())\n",
    "print(\"Training data: \",train_count)\n",
    "print(\"Testing data: \", test_count)"
   ]
  },
  {
   "cell_type": "code",
   "execution_count": 9,
   "id": "fd7146ca",
   "metadata": {},
   "outputs": [
    {
     "data": {
      "image/png": "[encoded data removed]",
      "text/plain": [
       "<Figure size 432x288 with 1 Axes>"
      ]
     },
     "metadata": {},
     "output_type": "display_data"
    }
   ],
   "source": [
    "plt.pie([train_count, test_count], \n",
    "        labels = [\"train\", \"test\"],\n",
    "        startangle = 30,\n",
    "        autopct='%.1f%%')\n",
    "\n",
    "plt.show()"
   ]
  },
  {
   "cell_type": "markdown",
   "id": "6c3bcc89",
   "metadata": {},
   "source": [
    "### 2. Data preprocessing "
   ]
  },
  {
   "cell_type": "code",
   "execution_count": 10,
   "id": "262e8b33",
   "metadata": {},
   "outputs": [],
   "source": [
    "import tensorflow as tf\n",
    "from tensorflow.keras.utils import image_dataset_from_directory\n",
    "from tensorflow import keras\n",
    "\n",
    "batch_size = 32\n",
    "img_height = 180\n",
    "img_width = 180"
   ]
  },
  {
   "cell_type": "markdown",
   "id": "61b58353",
   "metadata": {},
   "source": [
    "Let's use 10% of training data as validation set.\n",
    "Each image is going to be resized to 180x180 pixels"
   ]
  },
  {
   "cell_type": "code",
   "execution_count": 11,
   "id": "301ff876",
   "metadata": {},
   "outputs": [
    {
     "name": "stdout",
     "output_type": "stream",
     "text": [
      "Found 5712 files belonging to 4 classes.\n",
      "Using 5141 files for training.\n",
      "Metal device set to: Apple M1\n"
     ]
    },
    {
     "name": "stderr",
     "output_type": "stream",
     "text": [
      "2022-05-29 21:44:03.908239: I tensorflow/core/common_runtime/pluggable_device/pluggable_device_factory.cc:305] Could not identify NUMA node of platform GPU ID 0, defaulting to 0. Your kernel may not have been built with NUMA support.\n",
      "2022-05-29 21:44:03.908369: I tensorflow/core/common_runtime/pluggable_device/pluggable_device_factory.cc:271] Created TensorFlow device (/job:localhost/replica:0/task:0/device:GPU:0 with 0 MB memory) -> physical PluggableDevice (device: 0, name: METAL, pci bus id: <undefined>)\n"
     ]
    }
   ],
   "source": [
    "train_ds = image_dataset_from_directory(\n",
    "  \"Training/\",\n",
    "  validation_split=0.1,\n",
    "  subset=\"training\",\n",
    "  seed=123,\n",
    "  image_size=(img_height, img_width),\n",
    "  batch_size=batch_size)"
   ]
  },
  {
   "cell_type": "code",
   "execution_count": 12,
   "id": "d0d6a9ed",
   "metadata": {},
   "outputs": [
    {
     "name": "stdout",
     "output_type": "stream",
     "text": [
      "Found 5712 files belonging to 4 classes.\n",
      "Using 571 files for validation.\n"
     ]
    }
   ],
   "source": [
    "val_ds = image_dataset_from_directory(\n",
    "  \"Training/\",\n",
    "  validation_split=0.1,\n",
    "  subset=\"validation\",\n",
    "  seed=123,\n",
    "  image_size=(img_height, img_width),\n",
    "  batch_size=batch_size)"
   ]
  },
  {
   "cell_type": "markdown",
   "id": "e0717201",
   "metadata": {},
   "source": [
    "As expected in single batch there are 32 images of 180x180 size"
   ]
  },
  {
   "cell_type": "code",
   "execution_count": 13,
   "id": "d7b9527d",
   "metadata": {},
   "outputs": [
    {
     "name": "stdout",
     "output_type": "stream",
     "text": [
      "(32, 180, 180, 3)\n",
      "(32,)\n"
     ]
    },
    {
     "name": "stderr",
     "output_type": "stream",
     "text": [
      "2022-05-29 21:44:06.322091: W tensorflow/core/platform/profile_utils/cpu_utils.cc:128] Failed to get CPU frequency: 0 Hz\n"
     ]
    }
   ],
   "source": [
    "for image_batch, labels_batch in train_ds:\n",
    "    print(image_batch.shape)\n",
    "    print(labels_batch.shape)\n",
    "    break"
   ]
  },
  {
   "cell_type": "code",
   "execution_count": 14,
   "id": "d3197d24",
   "metadata": {},
   "outputs": [],
   "source": [
    "import tensorflow as tf\n",
    "from tensorflow import keras\n",
    "from keras.layers import *"
   ]
  },
  {
   "cell_type": "markdown",
   "id": "cc442998",
   "metadata": {},
   "source": [
    "The RGB values are in range of [0,255]. Let's rescale that to [0,1] range"
   ]
  },
  {
   "cell_type": "code",
   "execution_count": 22,
   "id": "2a64faeb",
   "metadata": {},
   "outputs": [],
   "source": [
    "resize_and_rescale = tf.keras.Sequential([\n",
    "  Resizing(img_height, img_width, input_shape=(img_height, img_width, 3)),\n",
    "  Rescaling(1./255)\n",
    "])"
   ]
  },
  {
   "cell_type": "markdown",
   "id": "814a6832",
   "metadata": {},
   "source": [
    "We're going to save only the best model.\n",
    "To avoid overfitting, training is ended if validation accuracy is not improving in 10 epochs "
   ]
  },
  {
   "cell_type": "code",
   "execution_count": 23,
   "id": "3bf6d506",
   "metadata": {},
   "outputs": [],
   "source": [
    "from keras import callbacks\n",
    "\n",
    "TRAINED_MODEL_DIR = \"trained_models/\"\n",
    "\n",
    "model_name = TRAINED_MODEL_DIR + \"model-{val_accuracy:.4f}.hdf5\"\n",
    "\n",
    "if not os.path.exists(TRAINED_MODEL_DIR):\n",
    "    os.makedirs(TRAINED_MODEL_DIR)"
   ]
  },
  {
   "cell_type": "code",
   "execution_count": 24,
   "id": "dda45238",
   "metadata": {},
   "outputs": [],
   "source": [
    "def create_callbacks():\n",
    "    return [\n",
    "        callbacks.EarlyStopping(monitor=\"val_accuracy\", patience=10, verbose=1),\n",
    "\n",
    "        callbacks.ModelCheckpoint(model_name, monitor=\"val_accuracy\", \n",
    "                                  verbose=1, save_best_only=True),\n",
    "    ]"
   ]
  },
  {
   "cell_type": "code",
   "execution_count": 25,
   "id": "9ff5da76",
   "metadata": {},
   "outputs": [],
   "source": [
    "_callbacks = create_callbacks()"
   ]
  },
  {
   "cell_type": "markdown",
   "id": "091d6f45",
   "metadata": {},
   "source": [
    "### 3. Creating and training models"
   ]
  },
  {
   "cell_type": "markdown",
   "id": "073612fa",
   "metadata": {},
   "source": [
    "First, let's create simple network with one Dense layer"
   ]
  },
  {
   "cell_type": "code",
   "execution_count": 27,
   "id": "6c40aee3",
   "metadata": {},
   "outputs": [],
   "source": [
    "import numpy as np\n",
    "from keras import Sequential\n",
    "from keras import optimizers\n",
    "\n",
    "num_classes = 4\n",
    "\n",
    "modelFlatten = Sequential([\n",
    "    resize_and_rescale,\n",
    "    Flatten(),\n",
    "    Dense(num_classes),\n",
    "    Activation(\"softmax\")\n",
    "])\n",
    "\n",
    "modelFlatten.compile(\n",
    "  optimizer='adam',\n",
    "  loss=\"SparseCategoricalCrossentropy\",\n",
    "  metrics=['accuracy'])"
   ]
  },
  {
   "cell_type": "code",
   "execution_count": 28,
   "id": "31c9f5c3",
   "metadata": {},
   "outputs": [
    {
     "name": "stdout",
     "output_type": "stream",
     "text": [
      "Model: \"sequential_4\"\n",
      "_________________________________________________________________\n",
      " Layer (type)                Output Shape              Param #   \n",
      "=================================================================\n",
      " sequential_2 (Sequential)   (None, 180, 180, 3)       0         \n",
      "                                                                 \n",
      " flatten_2 (Flatten)         (None, 97200)             0         \n",
      "                                                                 \n",
      " dense_2 (Dense)             (None, 4)                 388804    \n",
      "                                                                 \n",
      " activation_2 (Activation)   (None, 4)                 0         \n",
      "                                                                 \n",
      "=================================================================\n",
      "Total params: 388,804\n",
      "Trainable params: 388,804\n",
      "Non-trainable params: 0\n",
      "_________________________________________________________________\n"
     ]
    }
   ],
   "source": [
    "modelFlatten.summary()"
   ]
  },
  {
   "cell_type": "code",
   "execution_count": 29,
   "id": "798286dc",
   "metadata": {
    "scrolled": true
   },
   "outputs": [
    {
     "name": "stdout",
     "output_type": "stream",
     "text": [
      "Epoch 1/10\n",
      "  1/161 [..............................] - ETA: 42s - loss: 1.3747 - accuracy: 0.3125"
     ]
    },
    {
     "name": "stderr",
     "output_type": "stream",
     "text": [
      "2022-05-29 21:45:06.387955: I tensorflow/core/grappler/optimizers/custom_graph_optimizer_registry.cc:112] Plugin optimizer for device_type GPU is enabled.\n"
     ]
    },
    {
     "name": "stdout",
     "output_type": "stream",
     "text": [
      "161/161 [==============================] - ETA: 0s - loss: 2.2424 - accuracy: 0.6174"
     ]
    },
    {
     "name": "stderr",
     "output_type": "stream",
     "text": [
      "2022-05-29 21:45:08.703507: I tensorflow/core/grappler/optimizers/custom_graph_optimizer_registry.cc:112] Plugin optimizer for device_type GPU is enabled.\n"
     ]
    },
    {
     "name": "stdout",
     "output_type": "stream",
     "text": [
      "\n",
      "Epoch 00001: val_accuracy improved from -inf to 0.70753, saving model to trained_models/model-0.7075.hdf5\n",
      "161/161 [==============================] - 3s 16ms/step - loss: 2.2424 - accuracy: 0.6174 - val_loss: 1.2206 - val_accuracy: 0.7075\n",
      "Epoch 2/10\n",
      "160/161 [============================>.] - ETA: 0s - loss: 0.9865 - accuracy: 0.7393\n",
      "Epoch 00002: val_accuracy improved from 0.70753 to 0.76708, saving model to trained_models/model-0.7671.hdf5\n",
      "161/161 [==============================] - 3s 15ms/step - loss: 0.9856 - accuracy: 0.7392 - val_loss: 0.9788 - val_accuracy: 0.7671\n",
      "Epoch 3/10\n",
      "160/161 [============================>.] - ETA: 0s - loss: 0.7514 - accuracy: 0.7883\n",
      "Epoch 00003: val_accuracy improved from 0.76708 to 0.78109, saving model to trained_models/model-0.7811.hdf5\n",
      "161/161 [==============================] - 3s 15ms/step - loss: 0.7496 - accuracy: 0.7886 - val_loss: 1.1444 - val_accuracy: 0.7811\n",
      "Epoch 4/10\n",
      "160/161 [============================>.] - ETA: 0s - loss: 0.8518 - accuracy: 0.7871\n",
      "Epoch 00004: val_accuracy did not improve from 0.78109\n",
      "161/161 [==============================] - 3s 16ms/step - loss: 0.8500 - accuracy: 0.7872 - val_loss: 1.0115 - val_accuracy: 0.7426\n",
      "Epoch 5/10\n",
      "161/161 [==============================] - ETA: 0s - loss: 0.5157 - accuracy: 0.8496\n",
      "Epoch 00005: val_accuracy improved from 0.78109 to 0.83363, saving model to trained_models/model-0.8336.hdf5\n",
      "161/161 [==============================] - 3s 15ms/step - loss: 0.5157 - accuracy: 0.8496 - val_loss: 0.8165 - val_accuracy: 0.8336\n",
      "Epoch 6/10\n",
      "158/161 [============================>.] - ETA: 0s - loss: 0.5645 - accuracy: 0.8422\n",
      "Epoch 00006: val_accuracy improved from 0.83363 to 0.84413, saving model to trained_models/model-0.8441.hdf5\n",
      "161/161 [==============================] - 3s 15ms/step - loss: 0.5635 - accuracy: 0.8424 - val_loss: 0.8055 - val_accuracy: 0.8441\n",
      "Epoch 7/10\n",
      "159/161 [============================>.] - ETA: 0s - loss: 0.4975 - accuracy: 0.8534\n",
      "Epoch 00007: val_accuracy did not improve from 0.84413\n",
      "161/161 [==============================] - 3s 15ms/step - loss: 0.5014 - accuracy: 0.8524 - val_loss: 0.9882 - val_accuracy: 0.7916\n",
      "Epoch 8/10\n",
      "158/161 [============================>.] - ETA: 0s - loss: 0.7414 - accuracy: 0.8315\n",
      "Epoch 00008: val_accuracy did not improve from 0.84413\n",
      "161/161 [==============================] - 3s 16ms/step - loss: 0.7329 - accuracy: 0.8327 - val_loss: 1.1120 - val_accuracy: 0.7776\n",
      "Epoch 9/10\n",
      "158/161 [============================>.] - ETA: 0s - loss: 0.4677 - accuracy: 0.8760\n",
      "Epoch 00009: val_accuracy did not improve from 0.84413\n",
      "161/161 [==============================] - 3s 16ms/step - loss: 0.4695 - accuracy: 0.8755 - val_loss: 1.6557 - val_accuracy: 0.7548\n",
      "Epoch 10/10\n",
      "159/161 [============================>.] - ETA: 0s - loss: 0.4461 - accuracy: 0.8809\n",
      "Epoch 00010: val_accuracy did not improve from 0.84413\n",
      "161/161 [==============================] - 3s 16ms/step - loss: 0.4436 - accuracy: 0.8812 - val_loss: 1.1770 - val_accuracy: 0.8231\n"
     ]
    }
   ],
   "source": [
    "from keras.callbacks import History\n",
    "\n",
    "history = modelFlatten.fit(\n",
    "    train_ds,\n",
    "    validation_data=val_ds,\n",
    "    epochs=10,\n",
    "    callbacks=_callbacks,\n",
    "    shuffle=True\n",
    ")"
   ]
  },
  {
   "cell_type": "markdown",
   "id": "0665c265",
   "metadata": {},
   "source": [
    "ModelFlatten best val_acc = 0.8424"
   ]
  },
  {
   "cell_type": "code",
   "execution_count": 32,
   "id": "e6a0e407",
   "metadata": {
    "scrolled": true
   },
   "outputs": [
    {
     "data": {
      "image/png": "[encoded data removed]",
      "text/plain": [
       "<Figure size 576x360 with 1 Axes>"
      ]
     },
     "metadata": {
      "needs_background": "light"
     },
     "output_type": "display_data"
    }
   ],
   "source": [
    "import pandas as pd\n",
    "\n",
    "pd.DataFrame(history.history).plot(figsize=(8, 5))\n",
    "plt.grid(True)\n",
    "plt.gca().set_ylim(0, 2)\n",
    "plt.show()"
   ]
  },
  {
   "cell_type": "markdown",
   "id": "6be728ad",
   "metadata": {},
   "source": [
    "#### Deep neural networks"
   ]
  },
  {
   "cell_type": "code",
   "execution_count": 33,
   "id": "e6351c78",
   "metadata": {},
   "outputs": [],
   "source": [
    "modelFlattenBatchNormalization = Sequential([\n",
    "    resize_and_rescale,\n",
    "    Flatten(),\n",
    "    BatchNormalization(),\n",
    "    Activation(\"relu\"),\n",
    "    Dropout(0.3),\n",
    "    \n",
    "    Dense(300, activation=\"relu\"),\n",
    "    BatchNormalization(),\n",
    "    Activation(\"relu\"),\n",
    "    Dropout(0.3),\n",
    "    \n",
    "    Dense(100, activation=\"relu\"),\n",
    "    BatchNormalization(),\n",
    "    Activation(\"relu\"),\n",
    "    Dropout(0.3),\n",
    "    \n",
    "    Dense(num_classes),\n",
    "    Activation(\"softmax\")\n",
    "])"
   ]
  },
  {
   "cell_type": "code",
   "execution_count": 34,
   "id": "378644c7",
   "metadata": {},
   "outputs": [],
   "source": [
    "modelFlattenBatchNormalization.compile(\n",
    "  optimizer='adam',\n",
    "  loss=\"SparseCategoricalCrossentropy\",\n",
    "  metrics=['accuracy'])"
   ]
  },
  {
   "cell_type": "code",
   "execution_count": 36,
   "id": "5f3715e1",
   "metadata": {},
   "outputs": [
    {
     "name": "stdout",
     "output_type": "stream",
     "text": [
      "Model: \"sequential_5\"\n",
      "_________________________________________________________________\n",
      " Layer (type)                Output Shape              Param #   \n",
      "=================================================================\n",
      " sequential_2 (Sequential)   (None, 180, 180, 3)       0         \n",
      "                                                                 \n",
      " flatten_3 (Flatten)         (None, 97200)             0         \n",
      "                                                                 \n",
      " batch_normalization (BatchN  (None, 97200)            388800    \n",
      " ormalization)                                                   \n",
      "                                                                 \n",
      " activation_3 (Activation)   (None, 97200)             0         \n",
      "                                                                 \n",
      " dropout (Dropout)           (None, 97200)             0         \n",
      "                                                                 \n",
      " dense_3 (Dense)             (None, 300)               29160300  \n",
      "                                                                 \n",
      " batch_normalization_1 (Batc  (None, 300)              1200      \n",
      " hNormalization)                                                 \n",
      "                                                                 \n",
      " activation_4 (Activation)   (None, 300)               0         \n",
      "                                                                 \n",
      " dropout_1 (Dropout)         (None, 300)               0         \n",
      "                                                                 \n",
      " dense_4 (Dense)             (None, 100)               30100     \n",
      "                                                                 \n",
      " batch_normalization_2 (Batc  (None, 100)              400       \n",
      " hNormalization)                                                 \n",
      "                                                                 \n",
      " activation_5 (Activation)   (None, 100)               0         \n",
      "                                                                 \n",
      " dropout_2 (Dropout)         (None, 100)               0         \n",
      "                                                                 \n",
      " dense_5 (Dense)             (None, 4)                 404       \n",
      "                                                                 \n",
      " activation_6 (Activation)   (None, 4)                 0         \n",
      "                                                                 \n",
      "=================================================================\n",
      "Total params: 29,581,204\n",
      "Trainable params: 29,386,004\n",
      "Non-trainable params: 195,200\n",
      "_________________________________________________________________\n"
     ]
    }
   ],
   "source": [
    "modelFlattenBatchNormalization.summary()"
   ]
  },
  {
   "cell_type": "code",
   "execution_count": 37,
   "id": "c0bee07b",
   "metadata": {},
   "outputs": [
    {
     "name": "stdout",
     "output_type": "stream",
     "text": [
      "Epoch 1/10\n"
     ]
    },
    {
     "name": "stderr",
     "output_type": "stream",
     "text": [
      "2022-05-29 21:47:14.150601: I tensorflow/core/grappler/optimizers/custom_graph_optimizer_registry.cc:112] Plugin optimizer for device_type GPU is enabled.\n"
     ]
    },
    {
     "name": "stdout",
     "output_type": "stream",
     "text": [
      "161/161 [==============================] - ETA: 0s - loss: 0.8793 - accuracy: 0.6802"
     ]
    },
    {
     "name": "stderr",
     "output_type": "stream",
     "text": [
      "2022-05-29 21:47:27.029952: I tensorflow/core/grappler/optimizers/custom_graph_optimizer_registry.cc:112] Plugin optimizer for device_type GPU is enabled.\n"
     ]
    },
    {
     "name": "stdout",
     "output_type": "stream",
     "text": [
      "\n",
      "Epoch 00001: val_accuracy did not improve from 0.84413\n",
      "161/161 [==============================] - 14s 83ms/step - loss: 0.8793 - accuracy: 0.6802 - val_loss: 1.0416 - val_accuracy: 0.6287\n",
      "Epoch 2/10\n",
      "161/161 [==============================] - ETA: 0s - loss: 0.5723 - accuracy: 0.7981\n",
      "Epoch 00002: val_accuracy did not improve from 0.84413\n",
      "161/161 [==============================] - 13s 82ms/step - loss: 0.5723 - accuracy: 0.7981 - val_loss: 0.7014 - val_accuracy: 0.7811\n",
      "Epoch 3/10\n",
      "161/161 [==============================] - ETA: 0s - loss: 0.4672 - accuracy: 0.8308\n",
      "Epoch 00003: val_accuracy did not improve from 0.84413\n",
      "161/161 [==============================] - 13s 82ms/step - loss: 0.4672 - accuracy: 0.8308 - val_loss: 0.5384 - val_accuracy: 0.7881\n",
      "Epoch 4/10\n",
      "161/161 [==============================] - ETA: 0s - loss: 0.3988 - accuracy: 0.8605\n",
      "Epoch 00004: val_accuracy improved from 0.84413 to 0.88616, saving model to trained_models/model-0.8862.hdf5\n",
      "161/161 [==============================] - 14s 85ms/step - loss: 0.3988 - accuracy: 0.8605 - val_loss: 0.3644 - val_accuracy: 0.8862\n",
      "Epoch 5/10\n",
      "161/161 [==============================] - ETA: 0s - loss: 0.3239 - accuracy: 0.8866\n",
      "Epoch 00005: val_accuracy did not improve from 0.88616\n",
      "161/161 [==============================] - 13s 83ms/step - loss: 0.3239 - accuracy: 0.8866 - val_loss: 0.3527 - val_accuracy: 0.8774\n",
      "Epoch 6/10\n",
      "161/161 [==============================] - ETA: 0s - loss: 0.3035 - accuracy: 0.8955\n",
      "Epoch 00006: val_accuracy did not improve from 0.88616\n",
      "161/161 [==============================] - 13s 81ms/step - loss: 0.3035 - accuracy: 0.8955 - val_loss: 0.3255 - val_accuracy: 0.8844\n",
      "Epoch 7/10\n",
      "161/161 [==============================] - ETA: 0s - loss: 0.2627 - accuracy: 0.9066\n",
      "Epoch 00007: val_accuracy improved from 0.88616 to 0.88792, saving model to trained_models/model-0.8879.hdf5\n",
      "161/161 [==============================] - 13s 83ms/step - loss: 0.2627 - accuracy: 0.9066 - val_loss: 0.3268 - val_accuracy: 0.8879\n",
      "Epoch 8/10\n",
      "161/161 [==============================] - ETA: 0s - loss: 0.2255 - accuracy: 0.9220\n",
      "Epoch 00008: val_accuracy improved from 0.88792 to 0.89142, saving model to trained_models/model-0.8914.hdf5\n",
      "161/161 [==============================] - 14s 84ms/step - loss: 0.2255 - accuracy: 0.9220 - val_loss: 0.3040 - val_accuracy: 0.8914\n",
      "Epoch 9/10\n",
      "161/161 [==============================] - ETA: 0s - loss: 0.2199 - accuracy: 0.9278\n",
      "Epoch 00009: val_accuracy improved from 0.89142 to 0.90718, saving model to trained_models/model-0.9072.hdf5\n",
      "161/161 [==============================] - 13s 82ms/step - loss: 0.2199 - accuracy: 0.9278 - val_loss: 0.2900 - val_accuracy: 0.9072\n",
      "Epoch 10/10\n",
      "161/161 [==============================] - ETA: 0s - loss: 0.1934 - accuracy: 0.9352\n",
      "Epoch 00010: val_accuracy improved from 0.90718 to 0.91068, saving model to trained_models/model-0.9107.hdf5\n",
      "161/161 [==============================] - 14s 85ms/step - loss: 0.1934 - accuracy: 0.9352 - val_loss: 0.2617 - val_accuracy: 0.9107\n"
     ]
    }
   ],
   "source": [
    "history = modelFlattenBatchNormalization.fit(\n",
    "    train_ds,\n",
    "    validation_data=val_ds,\n",
    "    epochs=10,\n",
    "    callbacks=_callbacks,\n",
    "    shuffle=True\n",
    ")"
   ]
  },
  {
   "cell_type": "code",
   "execution_count": 38,
   "id": "1b7b09ae",
   "metadata": {},
   "outputs": [
    {
     "data": {
      "image/png": "[encoded data removed]",
      "text/plain": [
       "<Figure size 576x360 with 1 Axes>"
      ]
     },
     "metadata": {
      "needs_background": "light"
     },
     "output_type": "display_data"
    }
   ],
   "source": [
    "pd.DataFrame(history.history).plot(figsize=(8, 5))\n",
    "plt.grid(True)\n",
    "plt.gca().set_ylim(0, 1)\n",
    "plt.show()"
   ]
  },
  {
   "cell_type": "markdown",
   "id": "382127d0",
   "metadata": {},
   "source": [
    "#### Convolutional neural networks"
   ]
  },
  {
   "cell_type": "code",
   "execution_count": 39,
   "id": "176de1e1",
   "metadata": {},
   "outputs": [],
   "source": [
    "modelConv1 = Sequential([\n",
    "    resize_and_rescale,\n",
    "    Conv2D(32, (3,3), padding=\"same\", activation=\"relu\"),\n",
    "    Conv2D(32, 3, padding=\"same\", activation=\"relu\"),\n",
    "    MaxPooling2D(2),\n",
    "    \n",
    "    Conv2D(64, 3, padding=\"same\", activation=\"relu\"),\n",
    "    Conv2D(64, 3, padding=\"same\", activation=\"relu\"),\n",
    "    MaxPooling2D(2),\n",
    "    \n",
    "    Conv2D(128, 3, padding=\"same\", activation=\"relu\"),\n",
    "    Conv2D(256, 3, padding=\"same\", activation=\"relu\"),\n",
    "    GlobalAveragePooling2D(),\n",
    "    Dense(num_classes),\n",
    "    Activation(\"softmax\")\n",
    "])"
   ]
  },
  {
   "cell_type": "code",
   "execution_count": 40,
   "id": "aa0f11c9",
   "metadata": {},
   "outputs": [
    {
     "name": "stdout",
     "output_type": "stream",
     "text": [
      "Model: \"sequential_6\"\n",
      "_________________________________________________________________\n",
      " Layer (type)                Output Shape              Param #   \n",
      "=================================================================\n",
      " sequential_2 (Sequential)   (None, 180, 180, 3)       0         \n",
      "                                                                 \n",
      " conv2d (Conv2D)             (None, 180, 180, 32)      896       \n",
      "                                                                 \n",
      " conv2d_1 (Conv2D)           (None, 180, 180, 32)      9248      \n",
      "                                                                 \n",
      " max_pooling2d (MaxPooling2D  (None, 90, 90, 32)       0         \n",
      " )                                                               \n",
      "                                                                 \n",
      " conv2d_2 (Conv2D)           (None, 90, 90, 64)        18496     \n",
      "                                                                 \n",
      " conv2d_3 (Conv2D)           (None, 90, 90, 64)        36928     \n",
      "                                                                 \n",
      " max_pooling2d_1 (MaxPooling  (None, 45, 45, 64)       0         \n",
      " 2D)                                                             \n",
      "                                                                 \n",
      " conv2d_4 (Conv2D)           (None, 45, 45, 128)       73856     \n",
      "                                                                 \n",
      " conv2d_5 (Conv2D)           (None, 45, 45, 256)       295168    \n",
      "                                                                 \n",
      " global_average_pooling2d (G  (None, 256)              0         \n",
      " lobalAveragePooling2D)                                          \n",
      "                                                                 \n",
      " dense_6 (Dense)             (None, 4)                 1028      \n",
      "                                                                 \n",
      " activation_7 (Activation)   (None, 4)                 0         \n",
      "                                                                 \n",
      "=================================================================\n",
      "Total params: 435,620\n",
      "Trainable params: 435,620\n",
      "Non-trainable params: 0\n",
      "_________________________________________________________________\n"
     ]
    }
   ],
   "source": [
    "modelConv1.summary()"
   ]
  },
  {
   "cell_type": "code",
   "execution_count": 41,
   "id": "9f6efa8c",
   "metadata": {},
   "outputs": [],
   "source": [
    "modelConv1.compile(\n",
    "  optimizer='adam',\n",
    "  loss=\"SparseCategoricalCrossentropy\",  \n",
    "  metrics=['accuracy'])"
   ]
  },
  {
   "cell_type": "code",
   "execution_count": 155,
   "id": "ebb1629f",
   "metadata": {},
   "outputs": [
    {
     "name": "stdout",
     "output_type": "stream",
     "text": [
      "Epoch 1/5\n",
      "161/161 [==============================] - ETA: 0s - loss: 0.6697 - accuracy: 0.7397\n",
      "Epoch 00001: val_accuracy did not improve from 0.86165\n",
      "161/161 [==============================] - 50s 309ms/step - loss: 0.6697 - accuracy: 0.7397 - val_loss: 0.6571 - val_accuracy: 0.7496\n",
      "Epoch 2/5\n",
      "161/161 [==============================] - ETA: 0s - loss: 0.6478 - accuracy: 0.7495\n",
      "Epoch 00002: val_accuracy did not improve from 0.86165\n",
      "161/161 [==============================] - 50s 310ms/step - loss: 0.6478 - accuracy: 0.7495 - val_loss: 0.6113 - val_accuracy: 0.7723\n",
      "Epoch 3/5\n",
      "161/161 [==============================] - ETA: 0s - loss: 0.5997 - accuracy: 0.7674\n",
      "Epoch 00003: val_accuracy did not improve from 0.86165\n",
      "161/161 [==============================] - 50s 310ms/step - loss: 0.5997 - accuracy: 0.7674 - val_loss: 0.6177 - val_accuracy: 0.7758\n",
      "Epoch 4/5\n",
      "161/161 [==============================] - ETA: 0s - loss: 0.5516 - accuracy: 0.7870\n",
      "Epoch 00004: val_accuracy did not improve from 0.86165\n",
      "161/161 [==============================] - 50s 311ms/step - loss: 0.5516 - accuracy: 0.7870 - val_loss: 0.5152 - val_accuracy: 0.7968\n",
      "Epoch 5/5\n",
      "161/161 [==============================] - ETA: 0s - loss: 0.5471 - accuracy: 0.7956\n",
      "Epoch 00005: val_accuracy did not improve from 0.86165\n",
      "161/161 [==============================] - 51s 317ms/step - loss: 0.5471 - accuracy: 0.7956 - val_loss: 0.5469 - val_accuracy: 0.7636\n"
     ]
    }
   ],
   "source": [
    "history2 = modelConv1.fit(\n",
    "    train_ds,\n",
    "    validation_data=val_ds,\n",
    "    epochs=5,\n",
    "    callbacks=_callbacks,\n",
    "    shuffle=True\n",
    ")"
   ]
  },
  {
   "cell_type": "code",
   "execution_count": 48,
   "id": "36aa9164",
   "metadata": {},
   "outputs": [
    {
     "name": "stdout",
     "output_type": "stream",
     "text": [
      "Model: \"sequential_9\"\n",
      "_________________________________________________________________\n",
      " Layer (type)                Output Shape              Param #   \n",
      "=================================================================\n",
      " sequential_2 (Sequential)   (None, 180, 180, 3)       0         \n",
      "                                                                 \n",
      " conv2d_16 (Conv2D)          (None, 180, 180, 32)      896       \n",
      "                                                                 \n",
      " batch_normalization_13 (Bat  (None, 180, 180, 32)     128       \n",
      " chNormalization)                                                \n",
      "                                                                 \n",
      " activation_20 (Activation)  (None, 180, 180, 32)      0         \n",
      "                                                                 \n",
      " max_pooling2d_12 (MaxPoolin  (None, 90, 90, 32)       0         \n",
      " g2D)                                                            \n",
      "                                                                 \n",
      " dropout_13 (Dropout)        (None, 90, 90, 32)        0         \n",
      "                                                                 \n",
      " conv2d_17 (Conv2D)          (None, 90, 90, 32)        9248      \n",
      "                                                                 \n",
      " batch_normalization_14 (Bat  (None, 90, 90, 32)       128       \n",
      " chNormalization)                                                \n",
      "                                                                 \n",
      " activation_21 (Activation)  (None, 90, 90, 32)        0         \n",
      "                                                                 \n",
      " max_pooling2d_13 (MaxPoolin  (None, 45, 45, 32)       0         \n",
      " g2D)                                                            \n",
      "                                                                 \n",
      " dropout_14 (Dropout)        (None, 45, 45, 32)        0         \n",
      "                                                                 \n",
      " conv2d_18 (Conv2D)          (None, 45, 45, 64)        18496     \n",
      "                                                                 \n",
      " batch_normalization_15 (Bat  (None, 45, 45, 64)       256       \n",
      " chNormalization)                                                \n",
      "                                                                 \n",
      " activation_22 (Activation)  (None, 45, 45, 64)        0         \n",
      "                                                                 \n",
      " max_pooling2d_14 (MaxPoolin  (None, 22, 22, 64)       0         \n",
      " g2D)                                                            \n",
      "                                                                 \n",
      " dropout_15 (Dropout)        (None, 22, 22, 64)        0         \n",
      "                                                                 \n",
      " conv2d_19 (Conv2D)          (None, 22, 22, 64)        36928     \n",
      "                                                                 \n",
      " batch_normalization_16 (Bat  (None, 22, 22, 64)       256       \n",
      " chNormalization)                                                \n",
      "                                                                 \n",
      " activation_23 (Activation)  (None, 22, 22, 64)        0         \n",
      "                                                                 \n",
      " max_pooling2d_15 (MaxPoolin  (None, 11, 11, 64)       0         \n",
      " g2D)                                                            \n",
      "                                                                 \n",
      " dropout_16 (Dropout)        (None, 11, 11, 64)        0         \n",
      "                                                                 \n",
      " conv2d_20 (Conv2D)          (None, 11, 11, 128)       73856     \n",
      "                                                                 \n",
      " batch_normalization_17 (Bat  (None, 11, 11, 128)      512       \n",
      " chNormalization)                                                \n",
      "                                                                 \n",
      " activation_24 (Activation)  (None, 11, 11, 128)       0         \n",
      "                                                                 \n",
      " max_pooling2d_16 (MaxPoolin  (None, 5, 5, 128)        0         \n",
      " g2D)                                                            \n",
      "                                                                 \n",
      " dropout_17 (Dropout)        (None, 5, 5, 128)         0         \n",
      "                                                                 \n",
      " conv2d_21 (Conv2D)          (None, 5, 5, 256)         295168    \n",
      "                                                                 \n",
      " batch_normalization_18 (Bat  (None, 5, 5, 256)        1024      \n",
      " chNormalization)                                                \n",
      "                                                                 \n",
      " activation_25 (Activation)  (None, 5, 5, 256)         0         \n",
      "                                                                 \n",
      " max_pooling2d_17 (MaxPoolin  (None, 2, 2, 256)        0         \n",
      " g2D)                                                            \n",
      "                                                                 \n",
      " dropout_18 (Dropout)        (None, 2, 2, 256)         0         \n",
      "                                                                 \n",
      " flatten_4 (Flatten)         (None, 1024)              0         \n",
      "                                                                 \n",
      " dense_9 (Dense)             (None, 4)                 4100      \n",
      "                                                                 \n",
      " activation_26 (Activation)  (None, 4)                 0         \n",
      "                                                                 \n",
      "=================================================================\n",
      "Total params: 440,996\n",
      "Trainable params: 439,844\n",
      "Non-trainable params: 1,152\n",
      "_________________________________________________________________\n"
     ]
    }
   ],
   "source": [
    "modelConv2 = Sequential([\n",
    "    resize_and_rescale,\n",
    "    Conv2D(32, (3,3), padding=\"same\", activation=\"relu\"),\n",
    "    BatchNormalization(),\n",
    "    Activation(\"relu\"),\n",
    "    MaxPooling2D((2,2)),\n",
    "    Dropout(0.2),\n",
    "    \n",
    "    Conv2D(32, 3, padding=\"same\", activation=\"relu\"),\n",
    "    BatchNormalization(),\n",
    "    Activation(\"relu\"),\n",
    "    MaxPooling2D((2,2)),\n",
    "    Dropout(0.2),\n",
    "    \n",
    "    Conv2D(64, 3, padding=\"same\", activation=\"relu\"),\n",
    "    BatchNormalization(),\n",
    "    Activation(\"relu\"),\n",
    "    MaxPooling2D((2,2)),\n",
    "    Dropout(0.2),\n",
    "    \n",
    "    Conv2D(64, 3, padding=\"same\", activation=\"relu\"),\n",
    "    BatchNormalization(),\n",
    "    Activation(\"relu\"),\n",
    "    MaxPooling2D((2,2)),\n",
    "    Dropout(0.2),\n",
    "    \n",
    "    Conv2D(128, 3, padding=\"same\", activation=\"relu\"),\n",
    "    BatchNormalization(),\n",
    "    Activation(\"relu\"),\n",
    "    MaxPooling2D((2,2)),\n",
    "    Dropout(0.2),\n",
    "    \n",
    "    Conv2D(256, 3, padding=\"same\", activation=\"relu\"),\n",
    "    BatchNormalization(),\n",
    "    Activation(\"relu\"),\n",
    "    MaxPooling2D((2,2)),\n",
    "    Dropout(0.2),\n",
    "    \n",
    "    Flatten(),\n",
    "    Dense(num_classes),\n",
    "    Activation(\"softmax\")\n",
    "])\n",
    "\n",
    "modelConv2.summary()"
   ]
  },
  {
   "cell_type": "code",
   "execution_count": 49,
   "id": "98d3a644",
   "metadata": {},
   "outputs": [],
   "source": [
    "modelConv2.compile(\n",
    "  optimizer='adam',\n",
    "  loss=\"SparseCategoricalCrossentropy\",  \n",
    "  metrics=['accuracy'])"
   ]
  },
  {
   "cell_type": "code",
   "execution_count": 50,
   "id": "aca7a2ee",
   "metadata": {},
   "outputs": [
    {
     "name": "stdout",
     "output_type": "stream",
     "text": [
      "Epoch 1/20\n"
     ]
    },
    {
     "name": "stderr",
     "output_type": "stream",
     "text": [
      "2022-05-29 22:26:12.262620: I tensorflow/core/grappler/optimizers/custom_graph_optimizer_registry.cc:112] Plugin optimizer for device_type GPU is enabled.\n"
     ]
    },
    {
     "name": "stdout",
     "output_type": "stream",
     "text": [
      "161/161 [==============================] - ETA: 0s - loss: 0.9018 - accuracy: 0.6917"
     ]
    },
    {
     "name": "stderr",
     "output_type": "stream",
     "text": [
      "2022-05-29 22:26:39.936988: I tensorflow/core/grappler/optimizers/custom_graph_optimizer_registry.cc:112] Plugin optimizer for device_type GPU is enabled.\n"
     ]
    },
    {
     "name": "stdout",
     "output_type": "stream",
     "text": [
      "\n",
      "Epoch 00001: val_accuracy did not improve from 0.91068\n",
      "161/161 [==============================] - 29s 174ms/step - loss: 0.9018 - accuracy: 0.6917 - val_loss: 1.3870 - val_accuracy: 0.2434\n",
      "Epoch 2/20\n",
      "161/161 [==============================] - ETA: 0s - loss: 0.5294 - accuracy: 0.8059\n",
      "Epoch 00002: val_accuracy did not improve from 0.91068\n",
      "161/161 [==============================] - 27s 167ms/step - loss: 0.5294 - accuracy: 0.8059 - val_loss: 1.3033 - val_accuracy: 0.4273\n",
      "Epoch 3/20\n",
      "161/161 [==============================] - ETA: 0s - loss: 0.4064 - accuracy: 0.8471\n",
      "Epoch 00003: val_accuracy did not improve from 0.91068\n",
      "161/161 [==============================] - 27s 167ms/step - loss: 0.4064 - accuracy: 0.8471 - val_loss: 1.1971 - val_accuracy: 0.4081\n",
      "Epoch 4/20\n",
      "161/161 [==============================] - ETA: 0s - loss: 0.3459 - accuracy: 0.8693\n",
      "Epoch 00004: val_accuracy did not improve from 0.91068\n",
      "161/161 [==============================] - 27s 170ms/step - loss: 0.3459 - accuracy: 0.8693 - val_loss: 0.8536 - val_accuracy: 0.7145\n",
      "Epoch 5/20\n",
      "161/161 [==============================] - ETA: 0s - loss: 0.2449 - accuracy: 0.9103\n",
      "Epoch 00005: val_accuracy did not improve from 0.91068\n",
      "161/161 [==============================] - 27s 166ms/step - loss: 0.2449 - accuracy: 0.9103 - val_loss: 0.5857 - val_accuracy: 0.7986\n",
      "Epoch 6/20\n",
      "161/161 [==============================] - ETA: 0s - loss: 0.2465 - accuracy: 0.9097\n",
      "Epoch 00006: val_accuracy did not improve from 0.91068\n",
      "161/161 [==============================] - 27s 166ms/step - loss: 0.2465 - accuracy: 0.9097 - val_loss: 0.4896 - val_accuracy: 0.8389\n",
      "Epoch 7/20\n",
      "161/161 [==============================] - ETA: 0s - loss: 0.2137 - accuracy: 0.9185\n",
      "Epoch 00007: val_accuracy did not improve from 0.91068\n",
      "161/161 [==============================] - 27s 169ms/step - loss: 0.2137 - accuracy: 0.9185 - val_loss: 0.3969 - val_accuracy: 0.8774\n",
      "Epoch 8/20\n",
      "161/161 [==============================] - ETA: 0s - loss: 0.1513 - accuracy: 0.9453\n",
      "Epoch 00008: val_accuracy did not improve from 0.91068\n",
      "161/161 [==============================] - 27s 166ms/step - loss: 0.1513 - accuracy: 0.9453 - val_loss: 0.5100 - val_accuracy: 0.8266\n",
      "Epoch 9/20\n",
      "161/161 [==============================] - ETA: 0s - loss: 0.1618 - accuracy: 0.9444\n",
      "Epoch 00009: val_accuracy did not improve from 0.91068\n",
      "161/161 [==============================] - 28s 171ms/step - loss: 0.1618 - accuracy: 0.9444 - val_loss: 0.2787 - val_accuracy: 0.9107\n",
      "Epoch 10/20\n",
      "161/161 [==============================] - ETA: 0s - loss: 0.1195 - accuracy: 0.9535\n",
      "Epoch 00010: val_accuracy improved from 0.91068 to 0.94746, saving model to trained_models/model-0.9475.hdf5\n",
      "161/161 [==============================] - 28s 172ms/step - loss: 0.1195 - accuracy: 0.9535 - val_loss: 0.1873 - val_accuracy: 0.9475\n",
      "Epoch 11/20\n",
      "161/161 [==============================] - ETA: 0s - loss: 0.1016 - accuracy: 0.9607\n",
      "Epoch 00011: val_accuracy did not improve from 0.94746\n",
      "161/161 [==============================] - 27s 168ms/step - loss: 0.1016 - accuracy: 0.9607 - val_loss: 0.2891 - val_accuracy: 0.9159\n",
      "Epoch 12/20\n",
      "161/161 [==============================] - ETA: 0s - loss: 0.1243 - accuracy: 0.9574\n",
      "Epoch 00012: val_accuracy improved from 0.94746 to 0.95447, saving model to trained_models/model-0.9545.hdf5\n",
      "161/161 [==============================] - 27s 170ms/step - loss: 0.1243 - accuracy: 0.9574 - val_loss: 0.1724 - val_accuracy: 0.9545\n",
      "Epoch 13/20\n",
      "161/161 [==============================] - ETA: 0s - loss: 0.0971 - accuracy: 0.9650\n",
      "Epoch 00013: val_accuracy did not improve from 0.95447\n",
      "161/161 [==============================] - 28s 171ms/step - loss: 0.0971 - accuracy: 0.9650 - val_loss: 0.1875 - val_accuracy: 0.9405\n",
      "Epoch 14/20\n",
      "161/161 [==============================] - ETA: 0s - loss: 0.0770 - accuracy: 0.9745\n",
      "Epoch 00014: val_accuracy did not improve from 0.95447\n",
      "161/161 [==============================] - 27s 168ms/step - loss: 0.0770 - accuracy: 0.9745 - val_loss: 0.1839 - val_accuracy: 0.9387\n",
      "Epoch 15/20\n",
      "161/161 [==============================] - ETA: 0s - loss: 0.0696 - accuracy: 0.9767\n",
      "Epoch 00015: val_accuracy did not improve from 0.95447\n",
      "161/161 [==============================] - 28s 175ms/step - loss: 0.0696 - accuracy: 0.9767 - val_loss: 0.2145 - val_accuracy: 0.9405\n",
      "Epoch 16/20\n",
      "161/161 [==============================] - ETA: 0s - loss: 0.0763 - accuracy: 0.9743\n",
      "Epoch 00016: val_accuracy did not improve from 0.95447\n",
      "161/161 [==============================] - 27s 170ms/step - loss: 0.0763 - accuracy: 0.9743 - val_loss: 0.2101 - val_accuracy: 0.9352\n",
      "Epoch 17/20\n",
      "161/161 [==============================] - ETA: 0s - loss: 0.0540 - accuracy: 0.9815\n",
      "Epoch 00017: val_accuracy did not improve from 0.95447\n",
      "161/161 [==============================] - 28s 171ms/step - loss: 0.0540 - accuracy: 0.9815 - val_loss: 0.4263 - val_accuracy: 0.8897\n",
      "Epoch 18/20\n",
      "161/161 [==============================] - ETA: 0s - loss: 0.0716 - accuracy: 0.9792\n",
      "Epoch 00018: val_accuracy did not improve from 0.95447\n",
      "161/161 [==============================] - 29s 177ms/step - loss: 0.0716 - accuracy: 0.9792 - val_loss: 0.2239 - val_accuracy: 0.9317\n",
      "Epoch 19/20\n",
      "161/161 [==============================] - ETA: 0s - loss: 0.0552 - accuracy: 0.9807\n",
      "Epoch 00019: val_accuracy improved from 0.95447 to 0.95972, saving model to trained_models/model-0.9597.hdf5\n",
      "161/161 [==============================] - 28s 171ms/step - loss: 0.0552 - accuracy: 0.9807 - val_loss: 0.1449 - val_accuracy: 0.9597\n",
      "Epoch 20/20\n",
      "161/161 [==============================] - ETA: 0s - loss: 0.0502 - accuracy: 0.9829\n",
      "Epoch 00020: val_accuracy did not improve from 0.95972\n",
      "161/161 [==============================] - 27s 168ms/step - loss: 0.0502 - accuracy: 0.9829 - val_loss: 0.3474 - val_accuracy: 0.9002\n"
     ]
    }
   ],
   "source": [
    "history3 = modelConv2.fit(\n",
    "    train_ds,\n",
    "    validation_data=val_ds,\n",
    "    epochs=20,\n",
    "    callbacks=_callbacks,\n",
    "    shuffle=True\n",
    ")"
   ]
  },
  {
   "cell_type": "code",
   "execution_count": 56,
   "id": "78b4ffac",
   "metadata": {},
   "outputs": [
    {
     "data": {
      "image/png": "[encoded data removed]",
      "text/plain": [
       "<Figure size 576x360 with 1 Axes>"
      ]
     },
     "metadata": {
      "needs_background": "light"
     },
     "output_type": "display_data"
    }
   ],
   "source": [
    "pd.DataFrame(history3.history).plot(figsize=(8, 5))\n",
    "plt.grid(True)\n",
    "plt.gca().set_ylim(0, 1)\n",
    "plt.show()"
   ]
  },
  {
   "cell_type": "markdown",
   "id": "233bb5f0",
   "metadata": {},
   "source": [
    "#### VGG16"
   ]
  },
  {
   "cell_type": "code",
   "execution_count": 204,
   "id": "261d116d",
   "metadata": {},
   "outputs": [
    {
     "name": "stdout",
     "output_type": "stream",
     "text": [
      "Model: \"sequential_53\"\n",
      "_________________________________________________________________\n",
      " Layer (type)                Output Shape              Param #   \n",
      "=================================================================\n",
      " vgg16 (Functional)          (None, 5, 5, 512)         14714688  \n",
      "                                                                 \n",
      " flatten_33 (Flatten)        (None, 12800)             0         \n",
      "                                                                 \n",
      " dense_61 (Dense)            (None, 256)               3277056   \n",
      "                                                                 \n",
      " dense_62 (Dense)            (None, 4)                 1028      \n",
      "                                                                 \n",
      " activation_56 (Activation)  (None, 4)                 0         \n",
      "                                                                 \n",
      "=================================================================\n",
      "Total params: 17,992,772\n",
      "Trainable params: 3,278,084\n",
      "Non-trainable params: 14,714,688\n",
      "_________________________________________________________________\n"
     ]
    }
   ],
   "source": [
    "from keras.applications.vgg16 import VGG16\n",
    "\n",
    "_VGG16 = VGG16(weights='imagenet',\n",
    "                   include_top=False,\n",
    "                   input_shape=(img_height,img_width,3))\n",
    "\n",
    "modelVGG16_1 = Sequential([\n",
    "    _VGG16,\n",
    "    Flatten(),\n",
    "    Dense(256, activation='relu'),\n",
    "    Dense(num_classes),\n",
    "    Activation(\"softmax\")\n",
    "])\n",
    "\n",
    "modelVGG16_1.layers[0].trainable = False\n",
    "\n",
    "modelVGG16_1.summary()"
   ]
  },
  {
   "cell_type": "code",
   "execution_count": 206,
   "id": "ff196cba",
   "metadata": {},
   "outputs": [
    {
     "name": "stdout",
     "output_type": "stream",
     "text": [
      "Epoch 1/5\n"
     ]
    },
    {
     "name": "stderr",
     "output_type": "stream",
     "text": [
      "/Users/jakubstepien/miniforge3/envs/env_tf/lib/python3.9/site-packages/tensorflow/python/util/dispatch.py:1096: UserWarning: \"`sparse_categorical_crossentropy` received `from_logits=True`, but the `output` argument was produced by a sigmoid or softmax activation and thus does not represent logits. Was this intended?\"\n",
      "  return dispatch_target(*args, **kwargs)\n",
      "2022-05-27 08:33:54.523357: I tensorflow/core/grappler/optimizers/custom_graph_optimizer_registry.cc:112] Plugin optimizer for device_type GPU is enabled.\n"
     ]
    },
    {
     "name": "stdout",
     "output_type": "stream",
     "text": [
      "161/161 [==============================] - ETA: 0s - loss: 2.1112 - accuracy: 0.8461"
     ]
    },
    {
     "name": "stderr",
     "output_type": "stream",
     "text": [
      "2022-05-27 08:34:56.150259: I tensorflow/core/grappler/optimizers/custom_graph_optimizer_registry.cc:112] Plugin optimizer for device_type GPU is enabled.\n"
     ]
    },
    {
     "name": "stdout",
     "output_type": "stream",
     "text": [
      "\n",
      "Epoch 00001: val_accuracy did not improve from 0.90718\n",
      "161/161 [==============================] - 69s 425ms/step - loss: 2.1112 - accuracy: 0.8461 - val_loss: 0.2782 - val_accuracy: 0.8984\n",
      "Epoch 2/5\n",
      "161/161 [==============================] - ETA: 0s - loss: 0.1549 - accuracy: 0.9516\n",
      "Epoch 00002: val_accuracy improved from 0.90718 to 0.92294, saving model to trained_models/model-0.9229.hdf5\n",
      "161/161 [==============================] - 69s 431ms/step - loss: 0.1549 - accuracy: 0.9516 - val_loss: 0.3308 - val_accuracy: 0.9229\n",
      "Epoch 3/5\n",
      "161/161 [==============================] - ETA: 0s - loss: 0.0640 - accuracy: 0.9815\n",
      "Epoch 00003: val_accuracy improved from 0.92294 to 0.93520, saving model to trained_models/model-0.9352.hdf5\n",
      "161/161 [==============================] - 72s 448ms/step - loss: 0.0640 - accuracy: 0.9815 - val_loss: 0.3232 - val_accuracy: 0.9352\n",
      "Epoch 4/5\n",
      "161/161 [==============================] - ETA: 0s - loss: 0.0376 - accuracy: 0.9870\n",
      "Epoch 00004: val_accuracy improved from 0.93520 to 0.94921, saving model to trained_models/model-0.9492.hdf5\n",
      "161/161 [==============================] - 731s 5s/step - loss: 0.0376 - accuracy: 0.9870 - val_loss: 0.2878 - val_accuracy: 0.9492\n",
      "Epoch 5/5\n",
      "161/161 [==============================] - ETA: 0s - loss: 0.0346 - accuracy: 0.9909\n",
      "Epoch 00005: val_accuracy did not improve from 0.94921\n",
      "161/161 [==============================] - 69s 426ms/step - loss: 0.0346 - accuracy: 0.9909 - val_loss: 0.3717 - val_accuracy: 0.9282\n"
     ]
    }
   ],
   "source": [
    "modelVGG16_1.compile(\n",
    "  optimizer='adam',\n",
    "  loss=\"SparseCategoricalCrossentropy\",  \n",
    "  metrics=['accuracy'])\n",
    "\n",
    "history3 = modelVGG16_1.fit(\n",
    "    train_ds,\n",
    "    validation_data=val_ds,\n",
    "    epochs=5,\n",
    "    callbacks=_callbacks,\n",
    "    shuffle=True\n",
    ")"
   ]
  },
  {
   "cell_type": "code",
   "execution_count": 207,
   "id": "d488058e",
   "metadata": {},
   "outputs": [
    {
     "data": {
      "image/png": "[encoded data removed]",
      "text/plain": [
       "<Figure size 576x360 with 1 Axes>"
      ]
     },
     "metadata": {
      "needs_background": "light"
     },
     "output_type": "display_data"
    }
   ],
   "source": [
    "pd.DataFrame(history3.history).plot(figsize=(8, 5))\n",
    "plt.grid(True)\n",
    "plt.gca().set_ylim(0, 1)\n",
    "plt.show()"
   ]
  },
  {
   "cell_type": "markdown",
   "id": "9b40c818",
   "metadata": {},
   "source": [
    "## Model evaluation"
   ]
  },
  {
   "cell_type": "markdown",
   "id": "5b0fb023",
   "metadata": {},
   "source": [
    "Let's evaluate all saved models on test set"
   ]
  },
  {
   "cell_type": "code",
   "execution_count": 51,
   "id": "8f948c4a",
   "metadata": {},
   "outputs": [
    {
     "name": "stdout",
     "output_type": "stream",
     "text": [
      "Found 1311 files belonging to 4 classes.\n"
     ]
    }
   ],
   "source": [
    "test_ds = image_dataset_from_directory(\n",
    "  \"Testing/\",\n",
    "  image_size=(img_height, img_width))"
   ]
  },
  {
   "cell_type": "code",
   "execution_count": 52,
   "id": "b51b31d4",
   "metadata": {},
   "outputs": [],
   "source": [
    "trained_models = {}\n",
    "\n",
    "for filename in os.listdir(TRAINED_MODEL_DIR):\n",
    "    f = os.path.join(TRAINED_MODEL_DIR, filename)\n",
    "    if \"hdf5\" in f:\n",
    "        trained_models[filename] = f"
   ]
  },
  {
   "cell_type": "code",
   "execution_count": 53,
   "id": "946e54a1",
   "metadata": {},
   "outputs": [
    {
     "data": {
      "text/plain": [
       "{'model-0.7075.hdf5': 'trained_models/model-0.7075.hdf5',\n",
       " 'model-0.7356.hdf5': 'trained_models/model-0.7356.hdf5',\n",
       " 'model-0.7671.hdf5': 'trained_models/model-0.7671.hdf5',\n",
       " 'model-0.7811.hdf5': 'trained_models/model-0.7811.hdf5',\n",
       " 'model-0.8336.hdf5': 'trained_models/model-0.8336.hdf5',\n",
       " 'model-0.8424.hdf5': 'trained_models/model-0.8424.hdf5',\n",
       " 'model-0.8441.hdf5': 'trained_models/model-0.8441.hdf5',\n",
       " 'model-0.8476.hdf5': 'trained_models/model-0.8476.hdf5',\n",
       " 'model-0.8616.hdf5': 'trained_models/model-0.8616.hdf5',\n",
       " 'model-0.8862.hdf5': 'trained_models/model-0.8862.hdf5',\n",
       " 'model-0.8879.hdf5': 'trained_models/model-0.8879.hdf5',\n",
       " 'model-0.8897.hdf5': 'trained_models/model-0.8897.hdf5',\n",
       " 'model-0.8914.hdf5': 'trained_models/model-0.8914.hdf5',\n",
       " 'model-0.9037.hdf5': 'trained_models/model-0.9037.hdf5',\n",
       " 'model-0.9072.hdf5': 'trained_models/model-0.9072.hdf5',\n",
       " 'model-0.9107.hdf5': 'trained_models/model-0.9107.hdf5',\n",
       " 'model-0.9229.hdf5': 'trained_models/model-0.9229.hdf5',\n",
       " 'model-0.9352.hdf5': 'trained_models/model-0.9352.hdf5',\n",
       " 'model-0.9475.hdf5': 'trained_models/model-0.9475.hdf5',\n",
       " 'model-0.9492.hdf5': 'trained_models/model-0.9492.hdf5',\n",
       " 'model-0.9545.hdf5': 'trained_models/model-0.9545.hdf5',\n",
       " 'model-0.9597.hdf5': 'trained_models/model-0.9597.hdf5'}"
      ]
     },
     "execution_count": 53,
     "metadata": {},
     "output_type": "execute_result"
    }
   ],
   "source": [
    "trained_models = {k: v for k, v in sorted(trained_models.items(), key=lambda item: item[1])}\n",
    "trained_models"
   ]
  },
  {
   "cell_type": "code",
   "execution_count": 60,
   "id": "3b2d1084",
   "metadata": {},
   "outputs": [],
   "source": [
    "tmp2 = keras.models.load_model('trained_models/model-0.8441.hdf5')"
   ]
  },
  {
   "cell_type": "code",
   "execution_count": 55,
   "id": "9f00d731",
   "metadata": {},
   "outputs": [
    {
     "name": "stderr",
     "output_type": "stream",
     "text": [
      "/Users/jakubstepien/miniforge3/envs/env_tf/lib/python3.9/site-packages/tensorflow/python/util/dispatch.py:1096: UserWarning: \"`sparse_categorical_crossentropy` received `from_logits=True`, but the `output` argument was produced by a sigmoid or softmax activation and thus does not represent logits. Was this intended?\"\n",
      "  return dispatch_target(*args, **kwargs)\n",
      "2022-05-29 22:38:06.273181: I tensorflow/core/grappler/optimizers/custom_graph_optimizer_registry.cc:112] Plugin optimizer for device_type GPU is enabled.\n"
     ]
    },
    {
     "name": "stdout",
     "output_type": "stream",
     "text": [
      "41/41 [==============================] - 16s 374ms/step - loss: 0.2013 - accuracy: 0.9504\n"
     ]
    },
    {
     "data": {
      "text/plain": [
       "[0.20134738087654114, 0.950419545173645]"
      ]
     },
     "execution_count": 55,
     "metadata": {},
     "output_type": "execute_result"
    }
   ],
   "source": [
    "tmp = keras.models.load_model('trained_models/model-0.9492.hdf5')\n",
    "tmp.evaluate(test_ds)"
   ]
  },
  {
   "cell_type": "code",
   "execution_count": 225,
   "id": "5a964571",
   "metadata": {},
   "outputs": [
    {
     "name": "stdout",
     "output_type": "stream",
     "text": [
      "------------\n",
      "model-0.7356.hdf5\n",
      " 4/41 [=>............................] - ETA: 0s - loss: 1.0656 - accuracy: 0.7812"
     ]
    },
    {
     "name": "stderr",
     "output_type": "stream",
     "text": [
      "2022-05-27 09:24:12.761226: I tensorflow/core/grappler/optimizers/custom_graph_optimizer_registry.cc:112] Plugin optimizer for device_type GPU is enabled.\n"
     ]
    },
    {
     "name": "stdout",
     "output_type": "stream",
     "text": [
      "41/41 [==============================] - 1s 14ms/step - loss: 1.2988 - accuracy: 0.7033\n",
      "------------\n",
      "model-0.8424.hdf5\n",
      " 4/41 [=>............................] - ETA: 0s - loss: 0.5831 - accuracy: 0.8203"
     ]
    },
    {
     "name": "stderr",
     "output_type": "stream",
     "text": [
      "2022-05-27 09:24:13.467200: I tensorflow/core/grappler/optimizers/custom_graph_optimizer_registry.cc:112] Plugin optimizer for device_type GPU is enabled.\n"
     ]
    },
    {
     "name": "stdout",
     "output_type": "stream",
     "text": [
      "41/41 [==============================] - 1s 13ms/step - loss: 0.9080 - accuracy: 0.8009\n",
      "------------\n",
      "model-0.8476.hdf5\n",
      " 5/41 [==>...........................] - ETA: 0s - loss: 0.5829 - accuracy: 0.8750"
     ]
    },
    {
     "name": "stderr",
     "output_type": "stream",
     "text": [
      "2022-05-27 09:24:14.157654: I tensorflow/core/grappler/optimizers/custom_graph_optimizer_registry.cc:112] Plugin optimizer for device_type GPU is enabled.\n"
     ]
    },
    {
     "name": "stdout",
     "output_type": "stream",
     "text": [
      "41/41 [==============================] - 1s 13ms/step - loss: 0.9925 - accuracy: 0.8413\n",
      "------------\n",
      "model-0.8616.hdf5\n",
      " 5/41 [==>...........................] - ETA: 0s - loss: 0.9221 - accuracy: 0.8688"
     ]
    },
    {
     "name": "stderr",
     "output_type": "stream",
     "text": [
      "2022-05-27 09:24:14.846293: I tensorflow/core/grappler/optimizers/custom_graph_optimizer_registry.cc:112] Plugin optimizer for device_type GPU is enabled.\n"
     ]
    },
    {
     "name": "stdout",
     "output_type": "stream",
     "text": [
      "41/41 [==============================] - 1s 13ms/step - loss: 0.9580 - accuracy: 0.8543\n",
      "------------\n",
      "model-0.8897.hdf5\n",
      " 1/41 [..............................] - ETA: 7s - loss: 0.3806 - accuracy: 0.8125"
     ]
    },
    {
     "name": "stderr",
     "output_type": "stream",
     "text": [
      "2022-05-27 09:24:15.801546: I tensorflow/core/grappler/optimizers/custom_graph_optimizer_registry.cc:112] Plugin optimizer for device_type GPU is enabled.\n"
     ]
    },
    {
     "name": "stdout",
     "output_type": "stream",
     "text": [
      "41/41 [==============================] - 2s 36ms/step - loss: 0.3789 - accuracy: 0.8711\n",
      "------------\n",
      "model-0.9037.hdf5\n",
      " 1/41 [..............................] - ETA: 8s - loss: 0.4419 - accuracy: 0.8750"
     ]
    },
    {
     "name": "stderr",
     "output_type": "stream",
     "text": [
      "2022-05-27 09:24:17.785039: I tensorflow/core/grappler/optimizers/custom_graph_optimizer_registry.cc:112] Plugin optimizer for device_type GPU is enabled.\n"
     ]
    },
    {
     "name": "stdout",
     "output_type": "stream",
     "text": [
      "41/41 [==============================] - 2s 36ms/step - loss: 0.3544 - accuracy: 0.8886\n",
      "------------\n",
      "model-0.9072.hdf5\n",
      " 1/41 [..............................] - ETA: 8s - loss: 0.3000 - accuracy: 0.9375"
     ]
    },
    {
     "name": "stderr",
     "output_type": "stream",
     "text": [
      "2022-05-27 09:24:19.824061: I tensorflow/core/grappler/optimizers/custom_graph_optimizer_registry.cc:112] Plugin optimizer for device_type GPU is enabled.\n"
     ]
    },
    {
     "name": "stdout",
     "output_type": "stream",
     "text": [
      "41/41 [==============================] - 2s 36ms/step - loss: 0.2987 - accuracy: 0.9115\n",
      "------------\n",
      "model-0.9229.hdf5\n"
     ]
    },
    {
     "name": "stderr",
     "output_type": "stream",
     "text": [
      "2022-05-27 09:24:21.647315: I tensorflow/core/grappler/optimizers/custom_graph_optimizer_registry.cc:112] Plugin optimizer for device_type GPU is enabled.\n"
     ]
    },
    {
     "name": "stdout",
     "output_type": "stream",
     "text": [
      "41/41 [==============================] - 17s 403ms/step - loss: 0.2069 - accuracy: 0.9291\n",
      "------------\n",
      "model-0.9352.hdf5\n"
     ]
    },
    {
     "name": "stderr",
     "output_type": "stream",
     "text": [
      "2022-05-27 09:24:38.570806: I tensorflow/core/grappler/optimizers/custom_graph_optimizer_registry.cc:112] Plugin optimizer for device_type GPU is enabled.\n"
     ]
    },
    {
     "name": "stdout",
     "output_type": "stream",
     "text": [
      "41/41 [==============================] - 17s 402ms/step - loss: 0.1909 - accuracy: 0.9428\n",
      "------------\n",
      "model-0.9492.hdf5\n"
     ]
    },
    {
     "name": "stderr",
     "output_type": "stream",
     "text": [
      "2022-05-27 09:24:55.971715: I tensorflow/core/grappler/optimizers/custom_graph_optimizer_registry.cc:112] Plugin optimizer for device_type GPU is enabled.\n"
     ]
    },
    {
     "name": "stdout",
     "output_type": "stream",
     "text": [
      "41/41 [==============================] - 16s 377ms/step - loss: 0.2013 - accuracy: 0.9504\n"
     ]
    }
   ],
   "source": [
    "for name, path in trained_models.items():\n",
    "    print(\"------------\")\n",
    "    print(name)\n",
    "    model = keras.models.load_model(path)\n",
    "    model.evaluate(test_ds)"
   ]
  },
  {
   "cell_type": "markdown",
   "id": "9abecadd",
   "metadata": {},
   "source": [
    "### Conversion to CoreML format"
   ]
  },
  {
   "cell_type": "code",
   "execution_count": 57,
   "id": "00fc49f2",
   "metadata": {},
   "outputs": [
    {
     "name": "stderr",
     "output_type": "stream",
     "text": [
      "WARNING:root:scikit-learn version 1.0.2 is not supported. Minimum required version: 0.17. Maximum required version: 0.19.2. Disabling scikit-learn conversion API.\n",
      "/Users/jakubstepien/miniforge3/envs/env_tf/lib/python3.9/site-packages/xgboost/compat.py:36: FutureWarning: pandas.Int64Index is deprecated and will be removed from pandas in a future version. Use pandas.Index with the appropriate dtype instead.\n",
      "  from pandas import MultiIndex, Int64Index\n",
      "WARNING:root:XGBoost version 1.5.1 has not been tested with coremltools. You may run into unexpected errors. XGBoost 1.4.2 is the most recent version that has been tested.\n",
      "WARNING:root:TensorFlow version 2.7.0 has not been tested with coremltools. You may run into unexpected errors. TensorFlow 2.6.2 is the most recent version that has been tested.\n",
      "WARNING:root:Keras version 2.7.0 has not been tested with coremltools. You may run into unexpected errors. Keras 2.6.0 is the most recent version that has been tested.\n"
     ]
    }
   ],
   "source": [
    "import coremltools"
   ]
  },
  {
   "cell_type": "code",
   "execution_count": 58,
   "id": "261f2f1a",
   "metadata": {},
   "outputs": [],
   "source": [
    "labels = [\n",
    "    \"glioma\",\n",
    "    \"meningioma\",\n",
    "    \"notumor\",\n",
    "    \"pituitary\"\n",
    "]"
   ]
  },
  {
   "cell_type": "code",
   "execution_count": 64,
   "id": "4e1acf16",
   "metadata": {},
   "outputs": [],
   "source": [
    "from keras.layers.normalization.layer_normalization import *\n",
    "from keras.layers.normalization.batch_normalization import *"
   ]
  },
  {
   "cell_type": "code",
   "execution_count": 71,
   "id": "4257bbd6",
   "metadata": {},
   "outputs": [
    {
     "name": "stderr",
     "output_type": "stream",
     "text": [
      "2022-05-29 23:04:23.894519: I tensorflow/core/grappler/devices.cc:75] Number of eligible GPUs (core count >= 8, compute capability >= 0.0): 0 (Note: TensorFlow was not compiled with CUDA or ROCm support)\n",
      "2022-05-29 23:04:23.894602: I tensorflow/core/grappler/clusters/single_machine.cc:358] Starting new session\n",
      "2022-05-29 23:04:23.894756: I tensorflow/core/common_runtime/pluggable_device/pluggable_device_factory.cc:305] Could not identify NUMA node of platform GPU ID 0, defaulting to 0. Your kernel may not have been built with NUMA support.\n",
      "2022-05-29 23:04:23.894774: I tensorflow/core/common_runtime/pluggable_device/pluggable_device_factory.cc:271] Created TensorFlow device (/job:localhost/replica:0/task:0/device:GPU:0 with 0 MB memory) -> physical PluggableDevice (device: 0, name: METAL, pci bus id: <undefined>)\n",
      "2022-05-29 23:04:23.895702: I tensorflow/core/grappler/optimizers/meta_optimizer.cc:1149] Optimization results for grappler item: graph_to_optimize\n",
      "  function_optimizer: function_optimizer did nothing. time = 0.002ms.\n",
      "  function_optimizer: function_optimizer did nothing. time = 0.001ms.\n",
      "\n",
      "2022-05-29 23:04:24.311531: I tensorflow/core/grappler/devices.cc:75] Number of eligible GPUs (core count >= 8, compute capability >= 0.0): 0 (Note: TensorFlow was not compiled with CUDA or ROCm support)\n",
      "2022-05-29 23:04:24.311766: I tensorflow/core/grappler/clusters/single_machine.cc:358] Starting new session\n",
      "2022-05-29 23:04:24.312017: I tensorflow/core/common_runtime/pluggable_device/pluggable_device_factory.cc:305] Could not identify NUMA node of platform GPU ID 0, defaulting to 0. Your kernel may not have been built with NUMA support.\n",
      "2022-05-29 23:04:24.312028: I tensorflow/core/common_runtime/pluggable_device/pluggable_device_factory.cc:271] Created TensorFlow device (/job:localhost/replica:0/task:0/device:GPU:0 with 0 MB memory) -> physical PluggableDevice (device: 0, name: METAL, pci bus id: <undefined>)\n",
      "2022-05-29 23:04:24.627545: I tensorflow/core/grappler/optimizers/meta_optimizer.cc:1149] Optimization results for grappler item: graph_to_optimize\n",
      "  constant_folding: Graph size after: 85 nodes (-30), 114 edges (-30), time = 202.365ms.\n",
      "  dependency_optimizer: Graph size after: 84 nodes (-1), 83 edges (-31), time = 11.237ms.\n",
      "  debug_stripper: debug_stripper did nothing. time = 0.91ms.\n",
      "  constant_folding: Graph size after: 84 nodes (0), 83 edges (0), time = 14.266ms.\n",
      "  dependency_optimizer: Graph size after: 84 nodes (0), 83 edges (0), time = 4.763ms.\n",
      "  debug_stripper: debug_stripper did nothing. time = 0.791ms.\n",
      "\n",
      "2022-05-29 23:04:24.714807: I tensorflow/core/grappler/devices.cc:75] Number of eligible GPUs (core count >= 8, compute capability >= 0.0): 0 (Note: TensorFlow was not compiled with CUDA or ROCm support)\n",
      "2022-05-29 23:04:24.714884: I tensorflow/core/grappler/clusters/single_machine.cc:358] Starting new session\n",
      "2022-05-29 23:04:24.715825: I tensorflow/core/common_runtime/pluggable_device/pluggable_device_factory.cc:305] Could not identify NUMA node of platform GPU ID 0, defaulting to 0. Your kernel may not have been built with NUMA support.\n",
      "2022-05-29 23:04:24.715836: I tensorflow/core/common_runtime/pluggable_device/pluggable_device_factory.cc:271] Created TensorFlow device (/job:localhost/replica:0/task:0/device:GPU:0 with 0 MB memory) -> physical PluggableDevice (device: 0, name: METAL, pci bus id: <undefined>)\n",
      "2022-05-29 23:04:24.716624: I tensorflow/core/grappler/optimizers/meta_optimizer.cc:1149] Optimization results for grappler item: graph_to_optimize\n",
      "  function_optimizer: function_optimizer did nothing. time = 0.001ms.\n",
      "  function_optimizer: function_optimizer did nothing. time = 0ms.\n",
      "\n",
      "2022-05-29 23:04:25.001767: I tensorflow/core/grappler/devices.cc:75] Number of eligible GPUs (core count >= 8, compute capability >= 0.0): 0 (Note: TensorFlow was not compiled with CUDA or ROCm support)\n",
      "2022-05-29 23:04:25.001822: I tensorflow/core/grappler/clusters/single_machine.cc:358] Starting new session\n",
      "2022-05-29 23:04:25.001935: I tensorflow/core/common_runtime/pluggable_device/pluggable_device_factory.cc:305] Could not identify NUMA node of platform GPU ID 0, defaulting to 0. Your kernel may not have been built with NUMA support.\n",
      "2022-05-29 23:04:25.001945: I tensorflow/core/common_runtime/pluggable_device/pluggable_device_factory.cc:271] Created TensorFlow device (/job:localhost/replica:0/task:0/device:GPU:0 with 0 MB memory) -> physical PluggableDevice (device: 0, name: METAL, pci bus id: <undefined>)\n",
      "2022-05-29 23:04:25.270573: I tensorflow/core/grappler/optimizers/meta_optimizer.cc:1149] Optimization results for grappler item: graph_to_optimize\n",
      "  constant_folding: Graph size after: 85 nodes (-30), 114 edges (-30), time = 195.851ms.\n",
      "  dependency_optimizer: Graph size after: 84 nodes (-1), 83 edges (-31), time = 11.65ms.\n",
      "  debug_stripper: debug_stripper did nothing. time = 1.182ms.\n",
      "  constant_folding: Graph size after: 84 nodes (0), 83 edges (0), time = 18.581ms.\n",
      "  dependency_optimizer: Graph size after: 84 nodes (0), 83 edges (0), time = 5.656ms.\n",
      "  debug_stripper: debug_stripper did nothing. time = 0.965ms.\n",
      "\n",
      "Running TensorFlow Graph Passes:   0%|               | 0/6 [00:00<?, ? passes/s]2022-05-29 23:04:26.642507: I tensorflow/core/common_runtime/pluggable_device/pluggable_device_factory.cc:305] Could not identify NUMA node of platform GPU ID 0, defaulting to 0. Your kernel may not have been built with NUMA support.\n",
      "2022-05-29 23:04:26.642533: I tensorflow/core/common_runtime/pluggable_device/pluggable_device_factory.cc:271] Created TensorFlow device (/job:localhost/replica:0/task:0/device:GPU:0 with 0 MB memory) -> physical PluggableDevice (device: 0, name: METAL, pci bus id: <undefined>)\n",
      "Running TensorFlow Graph Passes: 100%|███████| 6/6 [00:00<00:00, 23.69 passes/s]\n",
      "Converting Frontend ==> MIL Ops: 100%|██████| 84/84 [00:00<00:00, 1724.78 ops/s]\n",
      "Running MIL Common passes: 100%|██████████| 34/34 [00:00<00:00, 365.85 passes/s]\n",
      "Running MIL Clean up passes: 100%|██████████| 9/9 [00:00<00:00, 229.22 passes/s]\n",
      "Translating MIL ==> NeuralNetwork Ops: 100%|█| 162/162 [00:00<00:00, 198.23 ops/\n"
     ]
    }
   ],
   "source": [
    "coreml_model = coremltools.convert(tmp)\n",
    "# coreml_model = coremltools.converters.keras.convert(tmp2,\n",
    "#                                                     input_names=\"image\",\n",
    "#                                                     image_input_names=\"image\",\n",
    "#                                                     image_scale=1/255.0,\n",
    "#                                                     class_labels=labels)"
   ]
  },
  {
   "cell_type": "code",
   "execution_count": 73,
   "id": "d491a4d1",
   "metadata": {},
   "outputs": [
    {
     "name": "stdout",
     "output_type": "stream",
     "text": [
      "input {\n",
      "  name: \"vgg16_input\"\n",
      "  type {\n",
      "    multiArrayType {\n",
      "      shape: 1\n",
      "      shape: 180\n",
      "      shape: 180\n",
      "      shape: 3\n",
      "      dataType: FLOAT32\n",
      "      shapeRange {\n",
      "        sizeRanges {\n",
      "          lowerBound: 1\n",
      "          upperBound: -1\n",
      "        }\n",
      "        sizeRanges {\n",
      "          lowerBound: 180\n",
      "          upperBound: 180\n",
      "        }\n",
      "        sizeRanges {\n",
      "          lowerBound: 180\n",
      "          upperBound: 180\n",
      "        }\n",
      "        sizeRanges {\n",
      "          lowerBound: 3\n",
      "          upperBound: 3\n",
      "        }\n",
      "      }\n",
      "    }\n",
      "  }\n",
      "}\n",
      "output {\n",
      "  name: \"Identity\"\n",
      "  type {\n",
      "    multiArrayType {\n",
      "      dataType: FLOAT32\n",
      "    }\n",
      "  }\n",
      "}\n",
      "metadata {\n",
      "  userDefined {\n",
      "    key: \"com.github.apple.coremltools.source\"\n",
      "    value: \"tensorflow==2.7.0\"\n",
      "  }\n",
      "  userDefined {\n",
      "    key: \"com.github.apple.coremltools.version\"\n",
      "    value: \"5.2.0\"\n",
      "  }\n",
      "}\n",
      "\n"
     ]
    }
   ],
   "source": [
    "print(coreml_model)"
   ]
  },
  {
   "cell_type": "code",
   "execution_count": 72,
   "id": "2fd3e4ff",
   "metadata": {},
   "outputs": [],
   "source": [
    "coreml_model.save(\"TumorClassifier.mlmodel\")"
   ]
  },
  {
   "cell_type": "code",
   "execution_count": 69,
   "id": "646e7441",
   "metadata": {},
   "outputs": [],
   "source": [
    "# coreml_model = coremltools.converters.keras.convert(\n",
    "#     tmp2,\n",
    "#     input_names=\"image\",\n",
    "#     image_input_names=\"image\",\n",
    "#     output_names=\"labelProbability\",\n",
    "#     predicted_feature_name=\"label\",\n",
    "#     red_bias=-1,\n",
    "#     green_bias=-1,\n",
    "#     blue_bias=-1,\n",
    "#     image_scale=2/255.0,\n",
    "#     class_labels=labels)"
   ]
  },
  {
   "cell_type": "code",
   "execution_count": null,
   "id": "75eceea4",
   "metadata": {},
   "outputs": [],
   "source": []
  }
 ],
 "metadata": {
  "kernelspec": {
   "display_name": "Python 3 (ipykernel)",
   "language": "python",
   "name": "python3"
  },
  "language_info": {
   "codemirror_mode": {
    "name": "ipython",
    "version": 3
   },
   "file_extension": ".py",
   "mimetype": "text/x-python",
   "name": "python",
   "nbconvert_exporter": "python",
   "pygments_lexer": "ipython3",
   "version": "3.9.12"
  }
 },
 "nbformat": 4,
 "nbformat_minor": 5
}
