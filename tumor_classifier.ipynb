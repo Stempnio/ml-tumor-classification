{
 "cells": [
  {
   "cell_type": "code",
   "execution_count": 27,
   "id": "cb48eecc",
   "metadata": {},
   "outputs": [],
   "source": [
    "import numpy as np\n",
    "import tensorflow as tf\n",
    "from tensorflow import keras\n",
    "from keras.models import Sequential\n",
    "from keras.layers import *\n",
    "from keras import optimizers"
   ]
  },
  {
   "cell_type": "code",
   "execution_count": 28,
   "id": "720c2d4c",
   "metadata": {},
   "outputs": [],
   "source": [
    "image_width = 32\n",
    "image_height = 32\n",
    "num_classes = 4"
   ]
  },
  {
   "cell_type": "code",
   "execution_count": 29,
   "id": "bc44c07b",
   "metadata": {},
   "outputs": [],
   "source": [
    "model = Sequential()\n",
    "model.add(Flatten(input_shape=(image_height, image_width, 3)))\n",
    "model.add(Dense(num_classes))\n",
    "model.add(Activation(\"softmax\"))"
   ]
  },
  {
   "cell_type": "code",
   "execution_count": 30,
   "id": "300c3650",
   "metadata": {},
   "outputs": [
    {
     "name": "stdout",
     "output_type": "stream",
     "text": [
      "Model: \"sequential_1\"\n",
      "_________________________________________________________________\n",
      " Layer (type)                Output Shape              Param #   \n",
      "=================================================================\n",
      " flatten_1 (Flatten)         (None, 3072)              0         \n",
      "                                                                 \n",
      " dense_1 (Dense)             (None, 4)                 12292     \n",
      "                                                                 \n",
      " activation_1 (Activation)   (None, 4)                 0         \n",
      "                                                                 \n",
      "=================================================================\n",
      "Total params: 12,292\n",
      "Trainable params: 12,292\n",
      "Non-trainable params: 0\n",
      "_________________________________________________________________\n"
     ]
    }
   ],
   "source": [
    "model.summary()"
   ]
  },
  {
   "cell_type": "code",
   "execution_count": 31,
   "id": "f6ba9d76",
   "metadata": {},
   "outputs": [],
   "source": [
    "model.compile(loss=\"categorical_crossentropy\",\n",
    "              optimizer=tf.optimizers.Adam(learning_rate=1e-3),\n",
    "              metrics=[\"accuracy\"])"
   ]
  },
  {
   "cell_type": "code",
   "execution_count": 32,
   "id": "fd6bc705",
   "metadata": {},
   "outputs": [],
   "source": [
    "train_data_dir = \"Training/\"\n",
    "test_data_dir = \"Testing/\""
   ]
  },
  {
   "cell_type": "code",
   "execution_count": 33,
   "id": "b9e5537d",
   "metadata": {},
   "outputs": [],
   "source": [
    "from keras.preprocessing import image\n",
    "img = image.load_img(train_data_dir + \"glioma_tumor/gg (1).jpg\", \n",
    "                     target_size=(image_width, image_height))"
   ]
  },
  {
   "cell_type": "code",
   "execution_count": 34,
   "id": "9474ee8a",
   "metadata": {},
   "outputs": [
    {
     "data": {
      "text/plain": [
       "<matplotlib.image.AxesImage at 0x16bea4190>"
      ]
     },
     "execution_count": 34,
     "metadata": {},
     "output_type": "execute_result"
    },
    {
     "data": {
      "image/png": "[encoded data removed]",
      "text/plain": [
       "<Figure size 432x288 with 1 Axes>"
      ]
     },
     "metadata": {
      "needs_background": "light"
     },
     "output_type": "display_data"
    }
   ],
   "source": [
    "%matplotlib inline\n",
    "import matplotlib.pyplot as plt\n",
    "plt.imshow(img)"
   ]
  },
  {
   "cell_type": "code",
   "execution_count": 35,
   "id": "3469f4a2",
   "metadata": {},
   "outputs": [],
   "source": [
    "def normalize_pixels(image):\n",
    "    return image / 127.5 - 1"
   ]
  },
  {
   "cell_type": "code",
   "execution_count": 36,
   "id": "3f79a7bd",
   "metadata": {},
   "outputs": [],
   "source": [
    "from keras.preprocessing.image import ImageDataGenerator\n",
    "datagen = ImageDataGenerator(preprocessing_function=normalize_pixels)"
   ]
  },
  {
   "cell_type": "code",
   "execution_count": 37,
   "id": "af9c53cb",
   "metadata": {},
   "outputs": [
    {
     "name": "stdout",
     "output_type": "stream",
     "text": [
      "Found 2870 images belonging to 4 classes.\n",
      "Found 394 images belonging to 4 classes.\n"
     ]
    }
   ],
   "source": [
    "batch_size = 64\n",
    "\n",
    "train_generator = datagen.flow_from_directory(\n",
    "                    train_data_dir,\n",
    "                    target_size=(image_width, image_height),\n",
    "                    batch_size=batch_size,\n",
    "                    class_mode=\"categorical\",\n",
    "                    shuffle=True)\n",
    "\n",
    "test_generator = datagen.flow_from_directory(\n",
    "                    test_data_dir,\n",
    "                    target_size=(image_width, image_height),\n",
    "                    batch_size=batch_size,\n",
    "                    class_mode=\"categorical\",\n",
    "                    shuffle=False)"
   ]
  },
  {
   "cell_type": "code",
   "execution_count": 38,
   "id": "757b2e51",
   "metadata": {},
   "outputs": [
    {
     "data": {
      "text/plain": [
       "{'glioma_tumor': 0, 'meningioma_tumor': 1, 'no_tumor': 2, 'pituitary_tumor': 3}"
      ]
     },
     "execution_count": 38,
     "metadata": {},
     "output_type": "execute_result"
    }
   ],
   "source": [
    "train_generator.class_indices"
   ]
  },
  {
   "cell_type": "code",
   "execution_count": 39,
   "id": "b3b524fc",
   "metadata": {},
   "outputs": [
    {
     "data": {
      "text/plain": [
       "dict_items([('glioma_tumor', 0), ('meningioma_tumor', 1), ('no_tumor', 2), ('pituitary_tumor', 3)])"
      ]
     },
     "execution_count": 39,
     "metadata": {},
     "output_type": "execute_result"
    }
   ],
   "source": [
    "train_generator.class_indices.items()"
   ]
  },
  {
   "cell_type": "code",
   "execution_count": 40,
   "id": "8db99367",
   "metadata": {},
   "outputs": [
    {
     "data": {
      "text/plain": [
       "{0: 'glioma_tumor', 1: 'meningioma_tumor', 2: 'no_tumor', 3: 'pituitary_tumor'}"
      ]
     },
     "execution_count": 40,
     "metadata": {},
     "output_type": "execute_result"
    }
   ],
   "source": [
    "# Dictionary comprehension, reverse indices and names\n",
    "\n",
    "index2class = {v:k for k,v in train_generator.class_indices.items()}\n",
    "index2class"
   ]
  },
  {
   "cell_type": "code",
   "execution_count": 41,
   "id": "d23a42aa",
   "metadata": {},
   "outputs": [],
   "source": [
    "import warnings\n",
    "warnings.filterwarnings(\"ignore\")"
   ]
  },
  {
   "cell_type": "code",
   "execution_count": 43,
   "id": "9314f97a",
   "metadata": {},
   "outputs": [
    {
     "name": "stdout",
     "output_type": "stream",
     "text": [
      "Epoch 1/10\n",
      "45/45 [==============================] - 2s 34ms/step - loss: 0.8954 - accuracy: 0.6376\n",
      "Epoch 2/10\n",
      "45/45 [==============================] - 2s 33ms/step - loss: 0.8101 - accuracy: 0.6711\n",
      "Epoch 3/10\n",
      "45/45 [==============================] - 2s 33ms/step - loss: 0.7516 - accuracy: 0.7132\n",
      "Epoch 4/10\n",
      "45/45 [==============================] - 2s 33ms/step - loss: 0.7265 - accuracy: 0.7132\n",
      "Epoch 5/10\n",
      "45/45 [==============================] - 2s 34ms/step - loss: 0.6719 - accuracy: 0.7505\n",
      "Epoch 6/10\n",
      "45/45 [==============================] - 2s 33ms/step - loss: 0.6324 - accuracy: 0.7659\n",
      "Epoch 7/10\n",
      "45/45 [==============================] - 2s 33ms/step - loss: 0.6121 - accuracy: 0.7753\n",
      "Epoch 8/10\n",
      "45/45 [==============================] - 2s 34ms/step - loss: 0.6109 - accuracy: 0.7679\n",
      "Epoch 9/10\n",
      "45/45 [==============================] - 2s 34ms/step - loss: 0.5663 - accuracy: 0.7822\n",
      "Epoch 10/10\n",
      "45/45 [==============================] - 2s 35ms/step - loss: 0.5415 - accuracy: 0.8056\n"
     ]
    },
    {
     "data": {
      "text/plain": [
       "<keras.callbacks.History at 0x16c2febb0>"
      ]
     },
     "execution_count": 43,
     "metadata": {},
     "output_type": "execute_result"
    }
   ],
   "source": [
    "# Uczenie\n",
    "\n",
    "model.fit(x=train_generator,\n",
    "         epochs=10,\n",
    "         workers=3)"
   ]
  },
  {
   "cell_type": "code",
   "execution_count": 44,
   "id": "e1f5fdf1",
   "metadata": {},
   "outputs": [
    {
     "name": "stderr",
     "output_type": "stream",
     "text": [
      "2022-04-16 12:37:14.939295: I tensorflow/core/grappler/optimizers/custom_graph_optimizer_registry.cc:112] Plugin optimizer for device_type GPU is enabled.\n"
     ]
    },
    {
     "data": {
      "text/plain": [
       "[1.7967811822891235, 0.5355330109596252]"
      ]
     },
     "execution_count": 44,
     "metadata": {},
     "output_type": "execute_result"
    }
   ],
   "source": [
    "model.evaluate_generator(test_generator, steps=len(test_generator))"
   ]
  },
  {
   "cell_type": "code",
   "execution_count": 58,
   "id": "d98c39ec",
   "metadata": {},
   "outputs": [
    {
     "name": "stdout",
     "output_type": "stream",
     "text": [
      "(32, 32, 3)\n"
     ]
    },
    {
     "data": {
      "text/plain": [
       "(1, 32, 32, 3)"
      ]
     },
     "execution_count": 58,
     "metadata": {},
     "output_type": "execute_result"
    }
   ],
   "source": [
    "# Test - no tumor imagae\n",
    "\n",
    "testImg = image.load_img(test_data_dir + \"no_tumor/image(1).jpg\", \n",
    "                     target_size=(image_width, image_height))\n",
    "\n",
    "testImgArr = image.img_to_array(testImg)\n",
    "print(testImgArr.shape)\n",
    "\n",
    "testImgArr = normalize_pixels(testImgArr)\n",
    "testImgArr = np.expand_dims(testImgArr, axis=0)\n",
    "\n",
    "testImgArr.shape"
   ]
  },
  {
   "cell_type": "code",
   "execution_count": 59,
   "id": "968d0ebb",
   "metadata": {},
   "outputs": [
    {
     "name": "stdout",
     "output_type": "stream",
     "text": [
      "[[8.6318009e-04 2.0974457e-01 7.8934193e-01 5.0355091e-05]]\n",
      "no_tumor\n"
     ]
    }
   ],
   "source": [
    "pred = model.predict(testImgArr)\n",
    "print(pred)\n",
    "print(index2class[np.argmax(pred[0])])"
   ]
  },
  {
   "cell_type": "code",
   "execution_count": null,
   "id": "0e474842",
   "metadata": {},
   "outputs": [],
   "source": [
    "# Test - using generators"
   ]
  }
 ],
 "metadata": {
  "kernelspec": {
   "display_name": "Python 3 (ipykernel)",
   "language": "python",
   "name": "python3"
  },
  "language_info": {
   "codemirror_mode": {
    "name": "ipython",
    "version": 3
   },
   "file_extension": ".py",
   "mimetype": "text/x-python",
   "name": "python",
   "nbconvert_exporter": "python",
   "pygments_lexer": "ipython3",
   "version": "3.9.12"
  }
 },
 "nbformat": 4,
 "nbformat_minor": 5
}
