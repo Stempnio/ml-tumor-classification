{
 "cells": [
  {
   "cell_type": "markdown",
   "id": "93be368e",
   "metadata": {},
   "source": [
    "## About dataset\n",
    "\n",
    "#### https://www.kaggle.com/datasets/masoudnickparvar/brain-tumor-mri-dataset\n",
    "Dataset contains 7022 images of human brain MRI images which are classified into 4 classes: \n",
    "1. glioma \n",
    "2. meningioma\n",
    "3. pituitary\n",
    "4. no tumor\n"
   ]
  },
  {
   "cell_type": "markdown",
   "id": "d1fc9600",
   "metadata": {},
   "source": [
    "### 1. Data analysis"
   ]
  },
  {
   "cell_type": "code",
   "execution_count": null,
   "id": "964e72ef",
   "metadata": {},
   "outputs": [],
   "source": [
    "import os, os.path\n",
    "import matplotlib.pyplot as plt"
   ]
  },
  {
   "cell_type": "markdown",
   "id": "c866520d",
   "metadata": {},
   "source": [
    "Let's count how many images are in train/test directories"
   ]
  },
  {
   "cell_type": "code",
   "execution_count": 140,
   "id": "9bc1c26f",
   "metadata": {},
   "outputs": [],
   "source": [
    "train_dir = \"Training\"\n",
    "test_dir = \"Testing\""
   ]
  },
  {
   "cell_type": "code",
   "execution_count": 141,
   "id": "434a2b39",
   "metadata": {},
   "outputs": [],
   "source": [
    "def countClasses(directory):\n",
    "    counts = {}\n",
    "    for path in os.listdir(directory):\n",
    "        dirPath = os.path.join(directory, path)\n",
    "        if os.path.isdir(dirPath):\n",
    "            counts[path] = len([name for name in os.listdir(dirPath) \n",
    "                                if os.path.isfile(os.path.join(dirPath, name))])\n",
    "        \n",
    "    return counts"
   ]
  },
  {
   "cell_type": "code",
   "execution_count": 142,
   "id": "27ffae94",
   "metadata": {},
   "outputs": [
    {
     "name": "stdout",
     "output_type": "stream",
     "text": [
      "{'pituitary': 1457, 'notumor': 1595, 'glioma': 1321, 'meningioma': 1339}\n"
     ]
    }
   ],
   "source": [
    "train_counts = countClasses(train_dir)\n",
    "print(train_counts)"
   ]
  },
  {
   "cell_type": "code",
   "execution_count": 143,
   "id": "981cdab7",
   "metadata": {},
   "outputs": [
    {
     "data": {
      "text/plain": [
       "<BarContainer object of 4 artists>"
      ]
     },
     "execution_count": 143,
     "metadata": {},
     "output_type": "execute_result"
    },
    {
     "data": {
      "image/png": "[encoded data removed]",
      "text/plain": [
       "<Figure size 432x288 with 1 Axes>"
      ]
     },
     "metadata": {
      "needs_background": "light"
     },
     "output_type": "display_data"
    }
   ],
   "source": [
    "plt.bar(train_counts.keys(), train_counts.values())"
   ]
  },
  {
   "cell_type": "code",
   "execution_count": 144,
   "id": "9b1725cd",
   "metadata": {},
   "outputs": [
    {
     "name": "stdout",
     "output_type": "stream",
     "text": [
      "{'pituitary': 300, 'notumor': 405, 'glioma': 300, 'meningioma': 306}\n"
     ]
    }
   ],
   "source": [
    "test_counts = countClasses(test_dir)\n",
    "print(test_counts)"
   ]
  },
  {
   "cell_type": "code",
   "execution_count": 145,
   "id": "ee11573c",
   "metadata": {},
   "outputs": [
    {
     "data": {
      "text/plain": [
       "<BarContainer object of 4 artists>"
      ]
     },
     "execution_count": 145,
     "metadata": {},
     "output_type": "execute_result"
    },
    {
     "data": {
      "image/png": "[encoded data removed]",
      "text/plain": [
       "<Figure size 432x288 with 1 Axes>"
      ]
     },
     "metadata": {
      "needs_background": "light"
     },
     "output_type": "display_data"
    }
   ],
   "source": [
    "plt.bar(test_counts.keys(), test_counts.values())"
   ]
  },
  {
   "cell_type": "markdown",
   "id": "3f6ce2c7",
   "metadata": {},
   "source": [
    "### 2. Data preprocessing "
   ]
  },
  {
   "cell_type": "code",
   "execution_count": 111,
   "id": "d7a860e8",
   "metadata": {},
   "outputs": [],
   "source": [
    "import tensorflow as tf\n",
    "from tensorflow.keras.utils import image_dataset_from_directory\n",
    "from tensorflow import keras\n",
    "\n",
    "batch_size = 32\n",
    "img_height = 180\n",
    "img_width = 180"
   ]
  },
  {
   "cell_type": "markdown",
   "id": "d6c88840",
   "metadata": {},
   "source": [
    "Let's use 10% of training data as validation set.\n",
    "Each image is going to be resized to 180x180 pixels"
   ]
  },
  {
   "cell_type": "code",
   "execution_count": 146,
   "id": "b147dc8e",
   "metadata": {},
   "outputs": [
    {
     "name": "stdout",
     "output_type": "stream",
     "text": [
      "Found 5712 files belonging to 4 classes.\n",
      "Using 5141 files for training.\n"
     ]
    }
   ],
   "source": [
    "train_ds = image_dataset_from_directory(\n",
    "  \"Training/\",\n",
    "  validation_split=0.1,\n",
    "  subset=\"training\",\n",
    "  seed=123,\n",
    "  image_size=(img_height, img_width),\n",
    "  batch_size=batch_size)"
   ]
  },
  {
   "cell_type": "code",
   "execution_count": 147,
   "id": "5ba8cc45",
   "metadata": {},
   "outputs": [
    {
     "name": "stdout",
     "output_type": "stream",
     "text": [
      "Found 5712 files belonging to 4 classes.\n",
      "Using 571 files for validation.\n"
     ]
    }
   ],
   "source": [
    "val_ds = image_dataset_from_directory(\n",
    "  \"Training/\",\n",
    "  validation_split=0.1,\n",
    "  subset=\"validation\",\n",
    "  seed=123,\n",
    "  image_size=(img_height, img_width),\n",
    "  batch_size=batch_size)"
   ]
  },
  {
   "cell_type": "markdown",
   "id": "1ec7068c",
   "metadata": {},
   "source": [
    "As expected in single batch there are 32 images of 180x180 size"
   ]
  },
  {
   "cell_type": "code",
   "execution_count": 149,
   "id": "a3c177f7",
   "metadata": {},
   "outputs": [
    {
     "name": "stdout",
     "output_type": "stream",
     "text": [
      "(32, 180, 180, 3)\n",
      "(32,)\n"
     ]
    }
   ],
   "source": [
    "for image_batch, labels_batch in train_ds:\n",
    "    print(image_batch.shape)\n",
    "    print(labels_batch.shape)\n",
    "    break"
   ]
  },
  {
   "cell_type": "code",
   "execution_count": 158,
   "id": "f0697a8a",
   "metadata": {},
   "outputs": [],
   "source": [
    "import tensorflow as tf\n",
    "from tensorflow import keras\n",
    "import keras.layers"
   ]
  },
  {
   "cell_type": "markdown",
   "id": "6a0fbe7f",
   "metadata": {},
   "source": [
    "The RGB values are in range of [0,255]. Let's rescale that to [0,1] range"
   ]
  },
  {
   "cell_type": "code",
   "execution_count": 183,
   "id": "e8459e0c",
   "metadata": {},
   "outputs": [],
   "source": [
    "preprocessing = [\n",
    "    Rescaling(1./255),\n",
    "]"
   ]
  },
  {
   "cell_type": "markdown",
   "id": "9702f46f",
   "metadata": {},
   "source": [
    "### 3. Creating and training models"
   ]
  },
  {
   "cell_type": "markdown",
   "id": "f14fe501",
   "metadata": {},
   "source": [
    "First, let's create simple network using Flatten layer"
   ]
  },
  {
   "cell_type": "code",
   "execution_count": 189,
   "id": "22bfec69",
   "metadata": {},
   "outputs": [],
   "source": [
    "import numpy as np\n",
    "from keras import Sequential\n",
    "from keras import optimizers\n",
    "\n",
    "num_classes = 4\n",
    "\n",
    "modelFlatten = Sequential\n",
    "\n",
    "modelFlatten = Sequential()\n",
    "modelFlatten.add(Rescaling(1./255))\n",
    "modelFlatten.add(Flatten(input_shape=(img_height, img_width, 3)))\n",
    "modelFlatten.add(Dense(num_classes))\n",
    "modelFlatten.add(Activation(\"softmax\"))\n",
    "\n",
    "modelFlatten.compile(\n",
    "  optimizer='adam',\n",
    "  loss=tf.losses.SparseCategoricalCrossentropy(from_logits=True),\n",
    "  metrics=['accuracy'])"
   ]
  },
  {
   "cell_type": "code",
   "execution_count": 177,
   "id": "bcee3178",
   "metadata": {
    "scrolled": true
   },
   "outputs": [
    {
     "name": "stdout",
     "output_type": "stream",
     "text": [
      "Epoch 1/10\n",
      "161/161 [==============================] - 2s 13ms/step - loss: 0.3932 - accuracy: 0.8969 - val_loss: 2.8809 - val_accuracy: 0.6287\n",
      "Epoch 2/10\n",
      "161/161 [==============================] - 2s 13ms/step - loss: 0.5314 - accuracy: 0.8767 - val_loss: 1.2483 - val_accuracy: 0.8284\n",
      "Epoch 3/10\n",
      "161/161 [==============================] - 2s 13ms/step - loss: 0.3080 - accuracy: 0.9179 - val_loss: 1.4977 - val_accuracy: 0.8301\n",
      "Epoch 4/10\n",
      "161/161 [==============================] - 2s 13ms/step - loss: 0.5937 - accuracy: 0.9053 - val_loss: 4.6173 - val_accuracy: 0.5517\n",
      "Epoch 5/10\n",
      "161/161 [==============================] - 2s 13ms/step - loss: 0.3485 - accuracy: 0.9222 - val_loss: 1.2887 - val_accuracy: 0.8494\n",
      "Epoch 6/10\n",
      "161/161 [==============================] - 2s 12ms/step - loss: 0.2659 - accuracy: 0.9280 - val_loss: 1.7975 - val_accuracy: 0.8336\n",
      "Epoch 7/10\n",
      "161/161 [==============================] - 2s 13ms/step - loss: 0.2959 - accuracy: 0.9236 - val_loss: 1.5260 - val_accuracy: 0.8109\n",
      "Epoch 8/10\n",
      "161/161 [==============================] - 2s 13ms/step - loss: 0.1757 - accuracy: 0.9465 - val_loss: 1.3666 - val_accuracy: 0.8546\n",
      "Epoch 9/10\n",
      "161/161 [==============================] - 2s 13ms/step - loss: 0.3697 - accuracy: 0.9181 - val_loss: 1.4519 - val_accuracy: 0.8581\n",
      "Epoch 10/10\n",
      "161/161 [==============================] - 2s 13ms/step - loss: 0.1964 - accuracy: 0.9516 - val_loss: 1.3005 - val_accuracy: 0.8529\n"
     ]
    }
   ],
   "source": [
    "from keras.callbacks import History\n",
    "\n",
    "history = modelFlatten.fit(\n",
    "    train_ds,\n",
    "    validation_data=val_ds,\n",
    "    epochs=10,\n",
    "    shuffle=True\n",
    ")"
   ]
  },
  {
   "cell_type": "code",
   "execution_count": 178,
   "id": "8cd1d1d6",
   "metadata": {},
   "outputs": [
    {
     "data": {
      "image/png": "[encoded data removed]",
      "text/plain": [
       "<Figure size 576x360 with 1 Axes>"
      ]
     },
     "metadata": {
      "needs_background": "light"
     },
     "output_type": "display_data"
    }
   ],
   "source": [
    "import pandas as pd\n",
    "\n",
    "pd.DataFrame(history.history).plot(figsize=(8, 5))\n",
    "plt.grid(True)\n",
    "plt.gca().set_ylim(0, 1)\n",
    "plt.show()"
   ]
  },
  {
   "cell_type": "code",
   "execution_count": 179,
   "id": "940d8090",
   "metadata": {},
   "outputs": [
    {
     "name": "stdout",
     "output_type": "stream",
     "text": [
      "Model: \"sequential_41\"\n",
      "_________________________________________________________________\n",
      " Layer (type)                Output Shape              Param #   \n",
      "=================================================================\n",
      " rescaling_36 (Rescaling)    (None, 180, 180, 3)       0         \n",
      "                                                                 \n",
      " flatten_20 (Flatten)        (None, 97200)             0         \n",
      "                                                                 \n",
      " dense_20 (Dense)            (None, 4)                 388804    \n",
      "                                                                 \n",
      " activation_20 (Activation)  (None, 4)                 0         \n",
      "                                                                 \n",
      "=================================================================\n",
      "Total params: 388,804\n",
      "Trainable params: 388,804\n",
      "Non-trainable params: 0\n",
      "_________________________________________________________________\n"
     ]
    }
   ],
   "source": [
    "modelFlatten.summary()"
   ]
  },
  {
   "cell_type": "code",
   "execution_count": 180,
   "id": "655f479c",
   "metadata": {},
   "outputs": [],
   "source": [
    "TRAINED_MODEL_DIR = \"trained_models/\""
   ]
  },
  {
   "cell_type": "code",
   "execution_count": 181,
   "id": "7e724d48",
   "metadata": {},
   "outputs": [],
   "source": [
    "model.save(TRAINED_MODEL_DIR+\"modelFlatten.h5\")"
   ]
  },
  {
   "cell_type": "markdown",
   "id": "e579c9f8",
   "metadata": {},
   "source": [
    "Convolutional networks"
   ]
  },
  {
   "cell_type": "code",
   "execution_count": null,
   "id": "0eb4fb8b",
   "metadata": {},
   "outputs": [],
   "source": []
  }
 ],
 "metadata": {
  "kernelspec": {
   "display_name": "Python 3 (ipykernel)",
   "language": "python",
   "name": "python3"
  },
  "language_info": {
   "codemirror_mode": {
    "name": "ipython",
    "version": 3
   },
   "file_extension": ".py",
   "mimetype": "text/x-python",
   "name": "python",
   "nbconvert_exporter": "python",
   "pygments_lexer": "ipython3",
   "version": "3.9.12"
  }
 },
 "nbformat": 4,
 "nbformat_minor": 5
}
